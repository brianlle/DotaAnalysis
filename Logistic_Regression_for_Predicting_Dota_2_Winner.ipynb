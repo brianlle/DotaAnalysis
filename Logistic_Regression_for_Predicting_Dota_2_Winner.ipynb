{
 "cells": [
  {
   "cell_type": "code",
   "execution_count": 1,
   "metadata": {
    "collapsed": true
   },
   "outputs": [],
   "source": [
    "from __future__ import division\n",
    "import csv\n",
    "import numpy as np\n",
    "import pandas as pd\n",
    "import matplotlib\n",
    "import matplotlib.pyplot as plt\n",
    "import matplotlib.cm as cmx\n",
    "from mpl_toolkits.mplot3d import Axes3D\n",
    "import json\n",
    "import seaborn as sns\n",
    "import statsmodels.api as sm\n",
    "import statsmodels.formula.api as smf\n",
    "from sklearn.cross_validation import train_test_split\n",
    "import string\n",
    "import math\n",
    "from dota_function_definitions import create_dota_dataframe2"
   ]
  },
  {
   "cell_type": "markdown",
   "metadata": {},
   "source": [
    "96,004 matches (Very High skill, all matchmaking modes) were collected between February 29, 2016 and March 6, 2016. The matches all occurred while the game was on patch 6.86d."
   ]
  },
  {
   "cell_type": "code",
   "execution_count": 2,
   "metadata": {
    "collapsed": true
   },
   "outputs": [],
   "source": [
    "dotaFrame = pd.read_csv('dotaFrame_20160229_to_20160306.csv', sep=',')"
   ]
  },
  {
   "cell_type": "code",
   "execution_count": 3,
   "metadata": {
    "collapsed": true
   },
   "outputs": [],
   "source": [
    "with open('heroes.txt', mode='r') as infile:\n",
    "    reader = csv.reader(infile)\n",
    "    heroDict = {rows[0]:rows[1] for rows in reader}"
   ]
  },
  {
   "cell_type": "code",
   "execution_count": 4,
   "metadata": {
    "collapsed": false
   },
   "outputs": [
    {
     "data": {
      "text/plain": [
       "96004"
      ]
     },
     "execution_count": 4,
     "metadata": {},
     "output_type": "execute_result"
    }
   ],
   "source": [
    "len(dotaFrame)"
   ]
  },
  {
   "cell_type": "code",
   "execution_count": 5,
   "metadata": {
    "collapsed": false
   },
   "outputs": [
    {
     "data": {
      "text/plain": [
       "[<matplotlib.text.Text at 0xcf47828>,\n",
       " <matplotlib.text.Text at 0xcf34630>,\n",
       " <matplotlib.text.Text at 0xcf47c50>]"
      ]
     },
     "execution_count": 5,
     "metadata": {},
     "output_type": "execute_result"
    },
    {
     "data": {
      "image/png": "[encoded data removed]",
      "text/plain": [
       "<matplotlib.figure.Figure at 0xcde1860>"
      ]
     },
     "metadata": {},
     "output_type": "display_data"
    }
   ],
   "source": [
    "%matplotlib inline\n",
    "ax = dotaFrame['Match Length (s)'].hist()\n",
    "ax.set(xlabel='Length (s)', ylabel='Count', title='Histogram of Match Lengths')"
   ]
  },
  {
   "cell_type": "markdown",
   "metadata": {},
   "source": [
    "We've now imported a fairly large number of matches into a pandas dataframe. The most played game modes are 1 (All Pick) and 22 (Ranked All Pick) which are the only two game modes where all ten players have complete freedom of choice in picking their hero. These two modes embody the chaos that is the 'draft' portion of public matchmaking Dota 2 game, so we will only look at matches for these two game modes in our model. We will also cut out any matches ending before 10 minutes as games that end that early tend to have some skewed factor such as a player abandoning the game early."
   ]
  },
  {
   "cell_type": "code",
   "execution_count": 6,
   "metadata": {
    "collapsed": true
   },
   "outputs": [],
   "source": [
    "dotaFrame = pd.concat([dotaFrame[dotaFrame['Game Mode']==1], dotaFrame[dotaFrame['Game Mode']==22]])\n",
    "dotaFrame = dotaFrame[dotaFrame['Match Length (s)']>599]"
   ]
  },
  {
   "cell_type": "markdown",
   "metadata": {},
   "source": [
    "There are 111 heroes currently in the game using hero IDs 1 to 113 (IDs 24 and 108 are unused for reasons unknown). To perform logistic regression, we will use 113 on/off switches for each team indicating whether or not that particular hero is present on the team in a game. Since the current dataframe records the hero for each particular player slot as opposed for just a particular team, we will combine the player slots for each team into a single dataframe cell. From there, we can use the get_dummies() function obtain our 226 switches."
   ]
  },
  {
   "cell_type": "code",
   "execution_count": 7,
   "metadata": {
    "collapsed": true
   },
   "outputs": [],
   "source": [
    "dotaFrame['Radiant']='R'+dotaFrame['Radiant 1'].map(str)+','+'R'+dotaFrame['Radiant 2'].map(str)+','+'R'+dotaFrame['Radiant 3'].map(str)+','+'R'+dotaFrame['Radiant 4'].map(str)+','+'R'+dotaFrame['Radiant 5'].map(str)\n",
    "dotaFrame['Dire']='D'+dotaFrame['Dire 1'].map(str)+','+'D'+dotaFrame['Dire 2'].map(str)+','+'D'+dotaFrame['Dire 3'].map(str)+','+'D'+dotaFrame['Dire 4'].map(str)+','+'D'+dotaFrame['Dire 5'].map(str)"
   ]
  },
  {
   "cell_type": "code",
   "execution_count": 8,
   "metadata": {
    "collapsed": false
   },
   "outputs": [],
   "source": [
    "dotaFrameLogitRadiant = dotaFrame['Radiant'].str.get_dummies(sep=',')\n",
    "dotaFrameLogitDire = dotaFrame['Dire'].str.get_dummies(sep=',')"
   ]
  },
  {
   "cell_type": "code",
   "execution_count": 9,
   "metadata": {
    "collapsed": true
   },
   "outputs": [],
   "source": [
    "dotaFrameLogit = dotaFrameLogitRadiant.join(dotaFrameLogitDire)\n",
    "dotaFrameLogit['Intercept']=1\n",
    "dotaFrameLogit['Radiant Win Y/N'] = dotaFrame['Radiant Win Y/N']"
   ]
  },
  {
   "cell_type": "markdown",
   "metadata": {},
   "source": [
    "We add an intercept term and the winning team information to the resultant dataframe. As seen below, all the data is now represented as 0s and 1s."
   ]
  },
  {
   "cell_type": "code",
   "execution_count": 11,
   "metadata": {
    "collapsed": false
   },
   "outputs": [
    {
     "data": {
      "text/html": [
       "<div>\n",
       "<table border=\"1\" class=\"dataframe\">\n",
       "  <thead>\n",
       "    <tr style=\"text-align: right;\">\n",
       "      <th></th>\n",
       "      <th>R1</th>\n",
       "      <th>R10</th>\n",
       "      <th>R100</th>\n",
       "      <th>R101</th>\n",
       "      <th>R102</th>\n",
       "      <th>R103</th>\n",
       "      <th>R104</th>\n",
       "      <th>R105</th>\n",
       "      <th>R106</th>\n",
       "      <th>R107</th>\n",
       "      <th>...</th>\n",
       "      <th>D92</th>\n",
       "      <th>D93</th>\n",
       "      <th>D94</th>\n",
       "      <th>D95</th>\n",
       "      <th>D96</th>\n",
       "      <th>D97</th>\n",
       "      <th>D98</th>\n",
       "      <th>D99</th>\n",
       "      <th>Intercept</th>\n",
       "      <th>Radiant Win Y/N</th>\n",
       "    </tr>\n",
       "  </thead>\n",
       "  <tbody>\n",
       "    <tr>\n",
       "      <th>2</th>\n",
       "      <td>0</td>\n",
       "      <td>0</td>\n",
       "      <td>0</td>\n",
       "      <td>0</td>\n",
       "      <td>0</td>\n",
       "      <td>0</td>\n",
       "      <td>1</td>\n",
       "      <td>0</td>\n",
       "      <td>0</td>\n",
       "      <td>0</td>\n",
       "      <td>...</td>\n",
       "      <td>0</td>\n",
       "      <td>0</td>\n",
       "      <td>0</td>\n",
       "      <td>0</td>\n",
       "      <td>0</td>\n",
       "      <td>0</td>\n",
       "      <td>0</td>\n",
       "      <td>0</td>\n",
       "      <td>1</td>\n",
       "      <td>True</td>\n",
       "    </tr>\n",
       "    <tr>\n",
       "      <th>5</th>\n",
       "      <td>0</td>\n",
       "      <td>0</td>\n",
       "      <td>0</td>\n",
       "      <td>0</td>\n",
       "      <td>0</td>\n",
       "      <td>0</td>\n",
       "      <td>0</td>\n",
       "      <td>0</td>\n",
       "      <td>0</td>\n",
       "      <td>0</td>\n",
       "      <td>...</td>\n",
       "      <td>0</td>\n",
       "      <td>0</td>\n",
       "      <td>0</td>\n",
       "      <td>0</td>\n",
       "      <td>0</td>\n",
       "      <td>0</td>\n",
       "      <td>0</td>\n",
       "      <td>0</td>\n",
       "      <td>1</td>\n",
       "      <td>False</td>\n",
       "    </tr>\n",
       "    <tr>\n",
       "      <th>6</th>\n",
       "      <td>1</td>\n",
       "      <td>0</td>\n",
       "      <td>0</td>\n",
       "      <td>0</td>\n",
       "      <td>0</td>\n",
       "      <td>0</td>\n",
       "      <td>0</td>\n",
       "      <td>0</td>\n",
       "      <td>0</td>\n",
       "      <td>0</td>\n",
       "      <td>...</td>\n",
       "      <td>0</td>\n",
       "      <td>0</td>\n",
       "      <td>0</td>\n",
       "      <td>0</td>\n",
       "      <td>0</td>\n",
       "      <td>0</td>\n",
       "      <td>0</td>\n",
       "      <td>0</td>\n",
       "      <td>1</td>\n",
       "      <td>True</td>\n",
       "    </tr>\n",
       "    <tr>\n",
       "      <th>10</th>\n",
       "      <td>0</td>\n",
       "      <td>1</td>\n",
       "      <td>0</td>\n",
       "      <td>0</td>\n",
       "      <td>0</td>\n",
       "      <td>0</td>\n",
       "      <td>0</td>\n",
       "      <td>0</td>\n",
       "      <td>0</td>\n",
       "      <td>0</td>\n",
       "      <td>...</td>\n",
       "      <td>0</td>\n",
       "      <td>0</td>\n",
       "      <td>0</td>\n",
       "      <td>0</td>\n",
       "      <td>0</td>\n",
       "      <td>0</td>\n",
       "      <td>0</td>\n",
       "      <td>0</td>\n",
       "      <td>1</td>\n",
       "      <td>False</td>\n",
       "    </tr>\n",
       "    <tr>\n",
       "      <th>14</th>\n",
       "      <td>0</td>\n",
       "      <td>0</td>\n",
       "      <td>0</td>\n",
       "      <td>0</td>\n",
       "      <td>0</td>\n",
       "      <td>0</td>\n",
       "      <td>0</td>\n",
       "      <td>0</td>\n",
       "      <td>0</td>\n",
       "      <td>0</td>\n",
       "      <td>...</td>\n",
       "      <td>0</td>\n",
       "      <td>0</td>\n",
       "      <td>0</td>\n",
       "      <td>0</td>\n",
       "      <td>0</td>\n",
       "      <td>0</td>\n",
       "      <td>0</td>\n",
       "      <td>0</td>\n",
       "      <td>1</td>\n",
       "      <td>True</td>\n",
       "    </tr>\n",
       "    <tr>\n",
       "      <th>17</th>\n",
       "      <td>0</td>\n",
       "      <td>0</td>\n",
       "      <td>0</td>\n",
       "      <td>0</td>\n",
       "      <td>0</td>\n",
       "      <td>0</td>\n",
       "      <td>0</td>\n",
       "      <td>0</td>\n",
       "      <td>0</td>\n",
       "      <td>0</td>\n",
       "      <td>...</td>\n",
       "      <td>0</td>\n",
       "      <td>0</td>\n",
       "      <td>0</td>\n",
       "      <td>0</td>\n",
       "      <td>0</td>\n",
       "      <td>0</td>\n",
       "      <td>0</td>\n",
       "      <td>0</td>\n",
       "      <td>1</td>\n",
       "      <td>False</td>\n",
       "    </tr>\n",
       "    <tr>\n",
       "      <th>21</th>\n",
       "      <td>0</td>\n",
       "      <td>1</td>\n",
       "      <td>0</td>\n",
       "      <td>0</td>\n",
       "      <td>0</td>\n",
       "      <td>0</td>\n",
       "      <td>0</td>\n",
       "      <td>0</td>\n",
       "      <td>0</td>\n",
       "      <td>0</td>\n",
       "      <td>...</td>\n",
       "      <td>0</td>\n",
       "      <td>0</td>\n",
       "      <td>0</td>\n",
       "      <td>0</td>\n",
       "      <td>0</td>\n",
       "      <td>0</td>\n",
       "      <td>0</td>\n",
       "      <td>0</td>\n",
       "      <td>1</td>\n",
       "      <td>False</td>\n",
       "    </tr>\n",
       "    <tr>\n",
       "      <th>25</th>\n",
       "      <td>0</td>\n",
       "      <td>0</td>\n",
       "      <td>0</td>\n",
       "      <td>1</td>\n",
       "      <td>0</td>\n",
       "      <td>0</td>\n",
       "      <td>0</td>\n",
       "      <td>0</td>\n",
       "      <td>0</td>\n",
       "      <td>0</td>\n",
       "      <td>...</td>\n",
       "      <td>0</td>\n",
       "      <td>0</td>\n",
       "      <td>0</td>\n",
       "      <td>0</td>\n",
       "      <td>0</td>\n",
       "      <td>0</td>\n",
       "      <td>0</td>\n",
       "      <td>0</td>\n",
       "      <td>1</td>\n",
       "      <td>True</td>\n",
       "    </tr>\n",
       "    <tr>\n",
       "      <th>35</th>\n",
       "      <td>0</td>\n",
       "      <td>0</td>\n",
       "      <td>0</td>\n",
       "      <td>0</td>\n",
       "      <td>0</td>\n",
       "      <td>0</td>\n",
       "      <td>0</td>\n",
       "      <td>1</td>\n",
       "      <td>0</td>\n",
       "      <td>0</td>\n",
       "      <td>...</td>\n",
       "      <td>0</td>\n",
       "      <td>0</td>\n",
       "      <td>0</td>\n",
       "      <td>0</td>\n",
       "      <td>0</td>\n",
       "      <td>0</td>\n",
       "      <td>0</td>\n",
       "      <td>0</td>\n",
       "      <td>1</td>\n",
       "      <td>False</td>\n",
       "    </tr>\n",
       "    <tr>\n",
       "      <th>37</th>\n",
       "      <td>0</td>\n",
       "      <td>0</td>\n",
       "      <td>0</td>\n",
       "      <td>0</td>\n",
       "      <td>0</td>\n",
       "      <td>0</td>\n",
       "      <td>1</td>\n",
       "      <td>0</td>\n",
       "      <td>0</td>\n",
       "      <td>0</td>\n",
       "      <td>...</td>\n",
       "      <td>0</td>\n",
       "      <td>0</td>\n",
       "      <td>0</td>\n",
       "      <td>0</td>\n",
       "      <td>0</td>\n",
       "      <td>0</td>\n",
       "      <td>0</td>\n",
       "      <td>0</td>\n",
       "      <td>1</td>\n",
       "      <td>False</td>\n",
       "    </tr>\n",
       "  </tbody>\n",
       "</table>\n",
       "<p>10 rows × 224 columns</p>\n",
       "</div>"
      ],
      "text/plain": [
       "    R1  R10  R100  R101  R102  R103  R104  R105  R106  R107       ...         \\\n",
       "2    0    0     0     0     0     0     1     0     0     0       ...          \n",
       "5    0    0     0     0     0     0     0     0     0     0       ...          \n",
       "6    1    0     0     0     0     0     0     0     0     0       ...          \n",
       "10   0    1     0     0     0     0     0     0     0     0       ...          \n",
       "14   0    0     0     0     0     0     0     0     0     0       ...          \n",
       "17   0    0     0     0     0     0     0     0     0     0       ...          \n",
       "21   0    1     0     0     0     0     0     0     0     0       ...          \n",
       "25   0    0     0     1     0     0     0     0     0     0       ...          \n",
       "35   0    0     0     0     0     0     0     1     0     0       ...          \n",
       "37   0    0     0     0     0     0     1     0     0     0       ...          \n",
       "\n",
       "    D92  D93  D94  D95  D96  D97  D98  D99  Intercept  Radiant Win Y/N  \n",
       "2     0    0    0    0    0    0    0    0          1             True  \n",
       "5     0    0    0    0    0    0    0    0          1            False  \n",
       "6     0    0    0    0    0    0    0    0          1             True  \n",
       "10    0    0    0    0    0    0    0    0          1            False  \n",
       "14    0    0    0    0    0    0    0    0          1             True  \n",
       "17    0    0    0    0    0    0    0    0          1            False  \n",
       "21    0    0    0    0    0    0    0    0          1            False  \n",
       "25    0    0    0    0    0    0    0    0          1             True  \n",
       "35    0    0    0    0    0    0    0    0          1            False  \n",
       "37    0    0    0    0    0    0    0    0          1            False  \n",
       "\n",
       "[10 rows x 224 columns]"
      ]
     },
     "execution_count": 11,
     "metadata": {},
     "output_type": "execute_result"
    }
   ],
   "source": [
    "dotaFrameLogit.head(10)"
   ]
  },
  {
   "cell_type": "markdown",
   "metadata": {},
   "source": [
    "We'll split the data into a training set and a testing set. The model will be fit to the training set, and then we will test the model's efficacy on the testing set."
   ]
  },
  {
   "cell_type": "code",
   "execution_count": 12,
   "metadata": {
    "collapsed": true
   },
   "outputs": [],
   "source": [
    "dotaFrameTrain, dotaFrameTest = train_test_split(dotaFrameLogit, test_size=0.2, random_state=0)"
   ]
  },
  {
   "cell_type": "code",
   "execution_count": 13,
   "metadata": {
    "collapsed": false
   },
   "outputs": [
    {
     "data": {
      "text/plain": [
       "65782"
      ]
     },
     "execution_count": 13,
     "metadata": {},
     "output_type": "execute_result"
    }
   ],
   "source": [
    "len(dotaFrameTrain)"
   ]
  },
  {
   "cell_type": "code",
   "execution_count": 14,
   "metadata": {
    "collapsed": false
   },
   "outputs": [
    {
     "data": {
      "text/plain": [
       "16446"
      ]
     },
     "execution_count": 14,
     "metadata": {},
     "output_type": "execute_result"
    }
   ],
   "source": [
    "len(dotaFrameTest)"
   ]
  },
  {
   "cell_type": "code",
   "execution_count": 15,
   "metadata": {
    "collapsed": true
   },
   "outputs": [],
   "source": [
    "trainColumn = list(dotaFrameLogit.columns.values)[0:-1]"
   ]
  },
  {
   "cell_type": "markdown",
   "metadata": {},
   "source": [
    "Here, we utilize statsmodels' logistic regression function Logit() to model our data."
   ]
  },
  {
   "cell_type": "code",
   "execution_count": 16,
   "metadata": {
    "collapsed": true
   },
   "outputs": [],
   "source": [
    "model = sm.Logit(dotaFrameTrain['Radiant Win Y/N'], dotaFrameTrain[trainColumn])"
   ]
  },
  {
   "cell_type": "code",
   "execution_count": 17,
   "metadata": {
    "collapsed": false
   },
   "outputs": [
    {
     "name": "stdout",
     "output_type": "stream",
     "text": [
      "Optimization terminated successfully.\n",
      "         Current function value: 0.625832\n",
      "         Iterations: 105\n",
      "         Function evaluations: 106\n",
      "         Gradient evaluations: 106\n"
     ]
    }
   ],
   "source": [
    "result = model.fit(method='bfgs', maxiter=200)"
   ]
  },
  {
   "cell_type": "code",
   "execution_count": 18,
   "metadata": {
    "collapsed": false
   },
   "outputs": [
    {
     "name": "stdout",
     "output_type": "stream",
     "text": [
      "                           Logit Regression Results                           \n",
      "==============================================================================\n",
      "Dep. Variable:        Radiant Win Y/N   No. Observations:                65782\n",
      "Model:                          Logit   Df Residuals:                    65561\n",
      "Method:                           MLE   Df Model:                          220\n",
      "Date:                Sun, 06 Mar 2016   Pseudo R-squ.:                 0.08598\n",
      "Time:                        18:33:30   Log-Likelihood:                -41168.\n",
      "converged:                       True   LL-Null:                       -45041.\n",
      "                                        LLR p-value:                     0.000\n",
      "==============================================================================\n",
      "                 coef    std err          z      P>|z|      [95.0% Conf. Int.]\n",
      "------------------------------------------------------------------------------\n",
      "R1            -0.6289        nan        nan        nan           nan       nan\n",
      "R10           -0.2764        nan        nan        nan           nan       nan\n",
      "R100           0.0227        nan        nan        nan           nan       nan\n",
      "R101          -0.1381        nan        nan        nan           nan       nan\n",
      "R102           0.3868        nan        nan        nan           nan       nan\n",
      "R103           0.0538        nan        nan        nan           nan       nan\n",
      "R104          -0.1348        nan        nan        nan           nan       nan\n",
      "R105          -0.2411        nan        nan        nan           nan       nan\n",
      "R106          -0.2520        nan        nan        nan           nan       nan\n",
      "R107           0.1501        nan        nan        nan           nan       nan\n",
      "R109          -0.2842        nan        nan        nan           nan       nan\n",
      "R11           -0.4409        nan        nan        nan           nan       nan\n",
      "R110           0.0842        nan        nan        nan           nan       nan\n",
      "R111          -0.2126        nan        nan        nan           nan       nan\n",
      "R112           0.0148        nan        nan        nan           nan       nan\n",
      "R113          -0.1532        nan        nan        nan           nan       nan\n",
      "R12           -0.3078        nan        nan        nan           nan       nan\n",
      "R13           -0.2561        nan        nan        nan           nan       nan\n",
      "R14            0.2577        nan        nan        nan           nan       nan\n",
      "R15           -0.1582        nan        nan        nan           nan       nan\n",
      "R16            0.1068        nan        nan        nan           nan       nan\n",
      "R17           -0.7427        nan        nan        nan           nan       nan\n",
      "R18            0.0202        nan        nan        nan           nan       nan\n",
      "R19           -0.1571        nan        nan        nan           nan       nan\n",
      "R2            -0.4119        nan        nan        nan           nan       nan\n",
      "R20            0.3706        nan        nan        nan           nan       nan\n",
      "R21           -0.2097        nan        nan        nan           nan       nan\n",
      "R22            0.4627        nan        nan        nan           nan       nan\n",
      "R23           -0.0532        nan        nan        nan           nan       nan\n",
      "R25           -0.1156        nan        nan        nan           nan       nan\n",
      "R26            0.0349        nan        nan        nan           nan       nan\n",
      "R27            0.2285        nan        nan        nan           nan       nan\n",
      "R28            0.1779        nan        nan        nan           nan       nan\n",
      "R29            0.0317        nan        nan        nan           nan       nan\n",
      "R3             0.0706        nan        nan        nan           nan       nan\n",
      "R30            0.2923        nan        nan        nan           nan       nan\n",
      "R31            0.3497        nan        nan        nan           nan       nan\n",
      "R32            0.1047        nan        nan        nan           nan       nan\n",
      "R33            0.2962        nan        nan        nan           nan       nan\n",
      "R34           -0.1191        nan        nan        nan           nan       nan\n",
      "R35           -0.3556        nan        nan        nan           nan       nan\n",
      "R36            0.5946        nan        nan        nan           nan       nan\n",
      "R37            0.2728        nan        nan        nan           nan       nan\n",
      "R38            0.3688        nan        nan        nan           nan       nan\n",
      "R39           -0.3721        nan        nan        nan           nan       nan\n",
      "R4            -0.2166        nan        nan        nan           nan       nan\n",
      "R40            0.4317        nan        nan        nan           nan       nan\n",
      "R41            0.0785        nan        nan        nan           nan       nan\n",
      "R42           -0.0343        nan        nan        nan           nan       nan\n",
      "R43            0.0458        nan        nan        nan           nan       nan\n",
      "R44           -0.4454        nan        nan        nan           nan       nan\n",
      "R45            0.3817        nan        nan        nan           nan       nan\n",
      "R46            0.0459        nan        nan        nan           nan       nan\n",
      "R47            0.1092        nan        nan        nan           nan       nan\n",
      "R48           -0.0378        nan        nan        nan           nan       nan\n",
      "R49           -0.0677        nan        nan        nan           nan       nan\n",
      "R5             0.3721        nan        nan        nan           nan       nan\n",
      "R50            0.3210        nan        nan        nan           nan       nan\n",
      "R51            0.0357        nan        nan        nan           nan       nan\n",
      "R52           -0.1125        nan        nan        nan           nan       nan\n",
      "R53           -0.0272        nan        nan        nan           nan       nan\n",
      "R54           -0.2074        nan        nan        nan           nan       nan\n",
      "R55            0.0610        nan        nan        nan           nan       nan\n",
      "R56            0.1005        nan        nan        nan           nan       nan\n",
      "R57            0.6095        nan        nan        nan           nan       nan\n",
      "R58            0.2074        nan        nan        nan           nan       nan\n",
      "R59           -0.1974        nan        nan        nan           nan       nan\n",
      "R6             0.1595        nan        nan        nan           nan       nan\n",
      "R60            0.2207        nan        nan        nan           nan       nan\n",
      "R61           -0.1038        nan        nan        nan           nan       nan\n",
      "R62            0.4764        nan        nan        nan           nan       nan\n",
      "R63            0.1000        nan        nan        nan           nan       nan\n",
      "R64            0.2378        nan        nan        nan           nan       nan\n",
      "R65           -0.1671        nan        nan        nan           nan       nan\n",
      "R66            0.5298        nan        nan        nan           nan       nan\n",
      "R67           -0.1045        nan        nan        nan           nan       nan\n",
      "R68           -0.2147        nan        nan        nan           nan       nan\n",
      "R69            0.0714        nan        nan        nan           nan       nan\n",
      "R7             0.1070        nan        nan        nan           nan       nan\n",
      "R70            0.1891        nan        nan        nan           nan       nan\n",
      "R71            0.1702        nan        nan        nan           nan       nan\n",
      "R72           -0.1708        nan        nan        nan           nan       nan\n",
      "R73           -0.2183        nan        nan        nan           nan       nan\n",
      "R74            0.0996        nan        nan        nan           nan       nan\n",
      "R75            0.2347        nan        nan        nan           nan       nan\n",
      "R76            0.0810        nan        nan        nan           nan       nan\n",
      "R77            0.3514        nan        nan        nan           nan       nan\n",
      "R78           -0.1537        nan        nan        nan           nan       nan\n",
      "R79           -0.0578        nan        nan        nan           nan       nan\n",
      "R8             0.0089        nan        nan        nan           nan       nan\n",
      "R80            0.0242        nan        nan        nan           nan       nan\n",
      "R81            0.1420        nan        nan        nan           nan       nan\n",
      "R82           -0.5023        nan        nan        nan           nan       nan\n",
      "R83            0.2586        nan        nan        nan           nan       nan\n",
      "R84            0.2327        nan        nan        nan           nan       nan\n",
      "R85            0.3027        nan        nan        nan           nan       nan\n",
      "R86            0.0001        nan        nan        nan           nan       nan\n",
      "R87            0.1825        nan        nan        nan           nan       nan\n",
      "R88            0.1628        nan        nan        nan           nan       nan\n",
      "R89           -0.7245        nan        nan        nan           nan       nan\n",
      "R9             0.2890        nan        nan        nan           nan       nan\n",
      "R90           -0.0207        nan        nan        nan           nan       nan\n",
      "R91           -0.1581        nan        nan        nan           nan       nan\n",
      "R92            0.1940        nan        nan        nan           nan       nan\n",
      "R93           -0.2880        nan        nan        nan           nan       nan\n",
      "R94           -0.0457        nan        nan        nan           nan       nan\n",
      "R95           -0.3734        nan        nan        nan           nan       nan\n",
      "R96           -0.1427        nan        nan        nan           nan       nan\n",
      "R97           -0.2593        nan        nan        nan           nan       nan\n",
      "R98           -0.3833        nan        nan        nan           nan       nan\n",
      "R99           -0.1817        nan        nan        nan           nan       nan\n",
      "D1             0.4954   1.88e+05   2.63e-06      1.000     -3.68e+05  3.68e+05\n",
      "D10            0.4069   1.88e+05   2.16e-06      1.000     -3.68e+05  3.68e+05\n",
      "D100           0.0634   1.88e+05   3.37e-07      1.000     -3.68e+05  3.68e+05\n",
      "D101           0.0032   1.88e+05   1.71e-08      1.000     -3.68e+05  3.68e+05\n",
      "D102          -0.4199   1.88e+05  -2.23e-06      1.000     -3.68e+05  3.68e+05\n",
      "D103          -0.0339   1.88e+05   -1.8e-07      1.000     -3.68e+05  3.68e+05\n",
      "D104           0.0555   1.88e+05   2.95e-07      1.000     -3.68e+05  3.68e+05\n",
      "D105           0.4094   1.88e+05   2.18e-06      1.000     -3.68e+05  3.68e+05\n",
      "D106           0.3008   1.88e+05    1.6e-06      1.000     -3.68e+05  3.68e+05\n",
      "D107          -0.1559   1.88e+05  -8.29e-07      1.000     -3.68e+05  3.68e+05\n",
      "D109           0.3092   1.88e+05   1.64e-06      1.000     -3.68e+05  3.68e+05\n",
      "D11            0.4483   1.88e+05   2.38e-06      1.000     -3.68e+05  3.68e+05\n",
      "D110          -0.0533   1.88e+05  -2.83e-07      1.000     -3.68e+05  3.68e+05\n",
      "D111           0.0507   1.88e+05   2.69e-07      1.000     -3.68e+05  3.68e+05\n",
      "D112          -0.1472   1.88e+05  -7.83e-07      1.000     -3.68e+05  3.68e+05\n",
      "D113           0.2578   1.88e+05   1.37e-06      1.000     -3.68e+05  3.68e+05\n",
      "D12            0.3190   1.88e+05    1.7e-06      1.000     -3.68e+05  3.68e+05\n",
      "D13            0.2031   1.88e+05   1.08e-06      1.000     -3.68e+05  3.68e+05\n",
      "D14           -0.1517   1.88e+05  -8.07e-07      1.000     -3.68e+05  3.68e+05\n",
      "D15            0.1372   1.88e+05    7.3e-07      1.000     -3.68e+05  3.68e+05\n",
      "D16           -0.0432   1.88e+05   -2.3e-07      1.000     -3.68e+05  3.68e+05\n",
      "D17            0.6249   1.88e+05   3.32e-06      1.000     -3.68e+05  3.68e+05\n",
      "D18           -0.0927   1.88e+05  -4.93e-07      1.000     -3.68e+05  3.68e+05\n",
      "D19            0.3486   1.88e+05   1.85e-06      1.000     -3.68e+05  3.68e+05\n",
      "D2             0.3395   1.88e+05   1.81e-06      1.000     -3.68e+05  3.68e+05\n",
      "D20           -0.3543   1.88e+05  -1.88e-06      1.000     -3.68e+05  3.68e+05\n",
      "D21            0.1724   1.88e+05   9.17e-07      1.000     -3.68e+05  3.68e+05\n",
      "D22           -0.2928   1.88e+05  -1.56e-06      1.000     -3.68e+05  3.68e+05\n",
      "D23            0.0547   1.88e+05   2.91e-07      1.000     -3.68e+05  3.68e+05\n",
      "D25            0.2173   1.88e+05   1.16e-06      1.000     -3.68e+05  3.68e+05\n",
      "D26            0.0291   1.88e+05   1.55e-07      1.000     -3.68e+05  3.68e+05\n",
      "D27           -0.2530   1.88e+05  -1.35e-06      1.000     -3.68e+05  3.68e+05\n",
      "D28           -0.1328   1.88e+05  -7.07e-07      1.000     -3.68e+05  3.68e+05\n",
      "D29           -0.0475   1.88e+05  -2.52e-07      1.000     -3.68e+05  3.68e+05\n",
      "D3             0.0359   1.88e+05   1.91e-07      1.000     -3.68e+05  3.68e+05\n",
      "D30           -0.2994   1.88e+05  -1.59e-06      1.000     -3.68e+05  3.68e+05\n",
      "D31           -0.3569   1.88e+05   -1.9e-06      1.000     -3.68e+05  3.68e+05\n",
      "D32            0.0561   1.88e+05   2.98e-07      1.000     -3.68e+05  3.68e+05\n",
      "D33           -0.3266   1.88e+05  -1.74e-06      1.000     -3.68e+05  3.68e+05\n",
      "D34            0.1547   1.88e+05   8.23e-07      1.000     -3.68e+05  3.68e+05\n",
      "D35            0.3857   1.88e+05   2.05e-06      1.000     -3.68e+05  3.68e+05\n",
      "D36           -0.5604   1.88e+05  -2.98e-06      1.000     -3.68e+05  3.68e+05\n",
      "D37           -0.3500   1.88e+05  -1.86e-06      1.000     -3.68e+05  3.68e+05\n",
      "D38           -0.3113   1.88e+05  -1.66e-06      1.000     -3.68e+05  3.68e+05\n",
      "D39            0.4065   1.88e+05   2.16e-06      1.000     -3.68e+05  3.68e+05\n",
      "D4             0.2670   1.88e+05   1.42e-06      1.000     -3.68e+05  3.68e+05\n",
      "D40           -0.2775   1.88e+05  -1.48e-06      1.000     -3.68e+05  3.68e+05\n",
      "D41            0.0062   1.88e+05   3.32e-08      1.000     -3.68e+05  3.68e+05\n",
      "D42            0.0996   1.88e+05    5.3e-07      1.000     -3.68e+05  3.68e+05\n",
      "D43           -0.0442   1.88e+05  -2.35e-07      1.000     -3.68e+05  3.68e+05\n",
      "D44            0.3880   1.88e+05   2.06e-06      1.000     -3.68e+05  3.68e+05\n",
      "D45           -0.4781   1.88e+05  -2.54e-06      1.000     -3.68e+05  3.68e+05\n",
      "D46            0.0322   1.88e+05   1.72e-07      1.000     -3.68e+05  3.68e+05\n",
      "D47           -0.1092   1.88e+05  -5.81e-07      1.000     -3.68e+05  3.68e+05\n",
      "D48           -0.0830   1.88e+05  -4.41e-07      1.000     -3.68e+05  3.68e+05\n",
      "D49            0.1963   1.88e+05   1.04e-06      1.000     -3.68e+05  3.68e+05\n",
      "D5            -0.2854   1.88e+05  -1.52e-06      1.000     -3.68e+05  3.68e+05\n",
      "D50           -0.3931   1.88e+05  -2.09e-06      1.000     -3.68e+05  3.68e+05\n",
      "D51            0.0413   1.88e+05    2.2e-07      1.000     -3.68e+05  3.68e+05\n",
      "D52            0.2484   1.88e+05   1.32e-06      1.000     -3.68e+05  3.68e+05\n",
      "D53           -0.0334   1.88e+05  -1.78e-07      1.000     -3.68e+05  3.68e+05\n",
      "D54            0.2686   1.88e+05   1.43e-06      1.000     -3.68e+05  3.68e+05\n",
      "D55            0.0180   1.88e+05   9.59e-08      1.000     -3.68e+05  3.68e+05\n",
      "D56           -0.0833   1.88e+05  -4.43e-07      1.000     -3.68e+05  3.68e+05\n",
      "D57           -0.5847   1.88e+05  -3.11e-06      1.000     -3.68e+05  3.68e+05\n",
      "D58           -0.1520   1.88e+05  -8.08e-07      1.000     -3.68e+05  3.68e+05\n",
      "D59            0.1036   1.88e+05   5.51e-07      1.000     -3.68e+05  3.68e+05\n",
      "D6            -0.2684   1.88e+05  -1.43e-06      1.000     -3.68e+05  3.68e+05\n",
      "D60           -0.0953   1.88e+05  -5.07e-07      1.000     -3.68e+05  3.68e+05\n",
      "D61            0.0090   1.88e+05   4.78e-08      1.000     -3.68e+05  3.68e+05\n",
      "D62           -0.3816   1.88e+05  -2.03e-06      1.000     -3.68e+05  3.68e+05\n",
      "D63           -0.1257   1.88e+05  -6.69e-07      1.000     -3.68e+05  3.68e+05\n",
      "D64           -0.2175   1.88e+05  -1.16e-06      1.000     -3.68e+05  3.68e+05\n",
      "D65            0.1957   1.88e+05   1.04e-06      1.000     -3.68e+05  3.68e+05\n",
      "D66           -0.5134   1.88e+05  -2.73e-06      1.000     -3.68e+05  3.68e+05\n",
      "D67            0.1669   1.88e+05   8.88e-07      1.000     -3.68e+05  3.68e+05\n",
      "D68            0.1892   1.88e+05   1.01e-06      1.000     -3.68e+05  3.68e+05\n",
      "D69           -0.0216   1.88e+05  -1.15e-07      1.000     -3.68e+05  3.68e+05\n",
      "D7            -0.0641   1.88e+05  -3.41e-07      1.000     -3.68e+05  3.68e+05\n",
      "D70           -0.2432   1.88e+05  -1.29e-06      1.000     -3.68e+05  3.68e+05\n",
      "D71           -0.2866   1.88e+05  -1.52e-06      1.000     -3.68e+05  3.68e+05\n",
      "D72            0.1532   1.88e+05   8.15e-07      1.000     -3.68e+05  3.68e+05\n",
      "D73            0.1922   1.88e+05   1.02e-06      1.000     -3.68e+05  3.68e+05\n",
      "D74            0.0089   1.88e+05   4.74e-08      1.000     -3.68e+05  3.68e+05\n",
      "D75           -0.1297   1.88e+05   -6.9e-07      1.000     -3.68e+05  3.68e+05\n",
      "D76           -0.1217   1.88e+05  -6.47e-07      1.000     -3.68e+05  3.68e+05\n",
      "D77           -0.3876   1.88e+05  -2.06e-06      1.000     -3.68e+05  3.68e+05\n",
      "D78            0.0744   1.88e+05   3.96e-07      1.000     -3.68e+05  3.68e+05\n",
      "D79            0.0644   1.88e+05   3.42e-07      1.000     -3.68e+05  3.68e+05\n",
      "D8            -0.0160   1.88e+05   -8.5e-08      1.000     -3.68e+05  3.68e+05\n",
      "D80           -0.0366   1.88e+05  -1.95e-07      1.000     -3.68e+05  3.68e+05\n",
      "D81           -0.1183   1.88e+05  -6.29e-07      1.000     -3.68e+05  3.68e+05\n",
      "D82            0.4631   1.88e+05   2.46e-06      1.000     -3.68e+05  3.68e+05\n",
      "D83           -0.1940   1.88e+05  -1.03e-06      1.000     -3.68e+05  3.68e+05\n",
      "D84           -0.2390   1.88e+05  -1.27e-06      1.000     -3.68e+05  3.68e+05\n",
      "D85           -0.3711   1.88e+05  -1.97e-06      1.000     -3.68e+05  3.68e+05\n",
      "D86           -0.0131   1.88e+05  -6.97e-08      1.000     -3.68e+05  3.68e+05\n",
      "D87           -0.0747   1.88e+05  -3.98e-07      1.000     -3.68e+05  3.68e+05\n",
      "D88           -0.0469   1.88e+05   -2.5e-07      1.000     -3.68e+05  3.68e+05\n",
      "D89            0.5670   1.88e+05   3.02e-06      1.000     -3.68e+05  3.68e+05\n",
      "D9            -0.1692   1.88e+05     -9e-07      1.000     -3.68e+05  3.68e+05\n",
      "D90           -0.0478   1.88e+05  -2.54e-07      1.000     -3.68e+05  3.68e+05\n",
      "D91            0.0580   1.88e+05   3.09e-07      1.000     -3.68e+05  3.68e+05\n",
      "D92           -0.0461   1.88e+05  -2.45e-07      1.000     -3.68e+05  3.68e+05\n",
      "D93            0.3255   1.88e+05   1.73e-06      1.000     -3.68e+05  3.68e+05\n",
      "D94            0.1297   1.88e+05    6.9e-07      1.000     -3.68e+05  3.68e+05\n",
      "D95            0.3089   1.88e+05   1.64e-06      1.000     -3.68e+05  3.68e+05\n",
      "D96            0.1442   1.88e+05   7.67e-07      1.000     -3.68e+05  3.68e+05\n",
      "D97            0.2463   1.88e+05   1.31e-06      1.000     -3.68e+05  3.68e+05\n",
      "D98            0.3782   1.88e+05   2.01e-06      1.000     -3.68e+05  3.68e+05\n",
      "D99            0.2485   1.88e+05   1.32e-06      1.000     -3.68e+05  3.68e+05\n",
      "Intercept      0.1483        nan        nan        nan           nan       nan\n",
      "==============================================================================\n"
     ]
    }
   ],
   "source": [
    "print(result.summary())"
   ]
  },
  {
   "cell_type": "code",
   "execution_count": 19,
   "metadata": {
    "collapsed": false
   },
   "outputs": [],
   "source": [
    "trainingPrediction = result.pred_table()"
   ]
  },
  {
   "cell_type": "markdown",
   "metadata": {},
   "source": [
    "We can plot the confusion matrix to visualize how well the model does against the training set. Tested against the data used to form the model itself, it predicts ~64.9% of the matches successfully. Interestingly, the model seems to misinterpret Dire Wins as Radiant Wins more often than Radiant Wins as Dire Wins. The model seems to be much better at predicting Radiant wins in general, possibly because upon closer inspection, Radiant wins approximately 56.5% of the time and not a randomized coin flip 50% of the time."
   ]
  },
  {
   "cell_type": "code",
   "execution_count": 20,
   "metadata": {
    "collapsed": false
   },
   "outputs": [
    {
     "data": {
      "text/plain": [
       "<matplotlib.text.Text at 0x10f7b5c0>"
      ]
     },
     "execution_count": 20,
     "metadata": {},
     "output_type": "execute_result"
    },
    {
     "data": {
      "image/png": "[encoded data removed]",
      "text/plain": [
       "<matplotlib.figure.Figure at 0x1127f748>"
      ]
     },
     "metadata": {},
     "output_type": "display_data"
    }
   ],
   "source": [
    "ax = sns.heatmap(trainingPrediction, annot = True, fmt = \".6g\", xticklabels = ['Dire W', 'Radiant W'], yticklabels = ['Dire W', 'Radiant W'])\n",
    "ax.set_title(\"Confusion Matrix\")"
   ]
  },
  {
   "cell_type": "code",
   "execution_count": 21,
   "metadata": {
    "collapsed": false
   },
   "outputs": [
    {
     "data": {
      "text/plain": [
       "0.56489617220516253"
      ]
     },
     "execution_count": 21,
     "metadata": {},
     "output_type": "execute_result"
    }
   ],
   "source": [
    "dotaFrameTrain['Radiant Win Y/N'].mean()    #percent of matches where Radiant won"
   ]
  },
  {
   "cell_type": "markdown",
   "metadata": {},
   "source": [
    "We can use the model to predict matches where the Radiant team wins and matches where the Radiant team loses. Luckily, we have that testing dataset available for use! Let's use that below to find ypred, the array of predicted Radiant W/Ls, and compare that to ytest, the array of actual Radiant W/Ls."
   ]
  },
  {
   "cell_type": "code",
   "execution_count": 22,
   "metadata": {
    "collapsed": false
   },
   "outputs": [],
   "source": [
    "ypred = result.predict(dotaFrameTest[trainColumn])"
   ]
  },
  {
   "cell_type": "code",
   "execution_count": 23,
   "metadata": {
    "collapsed": false
   },
   "outputs": [
    {
     "data": {
      "text/plain": [
       "array([ 0.69164826,  0.80311574,  0.60981552, ...,  0.80621999,\n",
       "        0.72275008,  0.79649596])"
      ]
     },
     "execution_count": 23,
     "metadata": {},
     "output_type": "execute_result"
    }
   ],
   "source": [
    "ypred"
   ]
  },
  {
   "cell_type": "code",
   "execution_count": 24,
   "metadata": {
    "collapsed": true
   },
   "outputs": [],
   "source": [
    "ypred = ypred.round().astype(int)    #convert probabilities to predicted win or loss for Radiant team"
   ]
  },
  {
   "cell_type": "code",
   "execution_count": 25,
   "metadata": {
    "collapsed": false
   },
   "outputs": [],
   "source": [
    "ytest = np.ravel(dotaFrameTest['Radiant Win Y/N']).astype(int)  #convert binary dataframe series to int numpy array for comparison"
   ]
  },
  {
   "cell_type": "code",
   "execution_count": 26,
   "metadata": {
    "collapsed": false
   },
   "outputs": [
    {
     "data": {
      "text/plain": [
       "array([1, 1, 1, ..., 1, 1, 1])"
      ]
     },
     "execution_count": 26,
     "metadata": {},
     "output_type": "execute_result"
    }
   ],
   "source": [
    "ypred"
   ]
  },
  {
   "cell_type": "code",
   "execution_count": 27,
   "metadata": {
    "collapsed": false
   },
   "outputs": [
    {
     "data": {
      "text/plain": [
       "array([1, 1, 1, ..., 1, 1, 1])"
      ]
     },
     "execution_count": 27,
     "metadata": {},
     "output_type": "execute_result"
    }
   ],
   "source": [
    "ytest"
   ]
  },
  {
   "cell_type": "code",
   "execution_count": 28,
   "metadata": {
    "collapsed": false
   },
   "outputs": [],
   "source": [
    "from sklearn.metrics import accuracy_score"
   ]
  },
  {
   "cell_type": "code",
   "execution_count": 29,
   "metadata": {
    "collapsed": false
   },
   "outputs": [
    {
     "data": {
      "text/plain": [
       "0.64818192873647085"
      ]
     },
     "execution_count": 29,
     "metadata": {},
     "output_type": "execute_result"
    }
   ],
   "source": [
    "accuracy_score(ypred, ytest)"
   ]
  },
  {
   "cell_type": "markdown",
   "metadata": {
    "collapsed": true
   },
   "source": [
    "Using this logistic regression model, there is a ~64.8% correct prediction rate on the test set."
   ]
  },
  {
   "cell_type": "code",
   "execution_count": null,
   "metadata": {
    "collapsed": true
   },
   "outputs": [],
   "source": []
  }
 ],
 "metadata": {
  "kernelspec": {
   "display_name": "Python 2",
   "language": "python",
   "name": "python2"
  },
  "language_info": {
   "codemirror_mode": {
    "name": "ipython",
    "version": 2
   },
   "file_extension": ".py",
   "mimetype": "text/x-python",
   "name": "python",
   "nbconvert_exporter": "python",
   "pygments_lexer": "ipython2",
   "version": "2.7.9"
  }
 },
 "nbformat": 4,
 "nbformat_minor": 0
}
