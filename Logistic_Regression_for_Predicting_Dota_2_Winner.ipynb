{
 "cells": [
  {
   "cell_type": "code",
   "execution_count": 1,
   "metadata": {
    "collapsed": true
   },
   "outputs": [],
   "source": [
    "from __future__ import division\n",
    "import csv\n",
    "import numpy as np\n",
    "import pandas as pd\n",
    "import matplotlib\n",
    "import matplotlib.pyplot as plt\n",
    "import matplotlib.cm as cmx\n",
    "from mpl_toolkits.mplot3d import Axes3D\n",
    "import json\n",
    "import seaborn as sns\n",
    "import statsmodels.api as sm\n",
    "import statsmodels.formula.api as smf\n",
    "from sklearn.cross_validation import train_test_split\n",
    "import string\n",
    "import math\n",
    "from dota_function_definitions import create_dota_dataframe2"
   ]
  },
  {
   "cell_type": "code",
   "execution_count": 2,
   "metadata": {
    "collapsed": true
   },
   "outputs": [],
   "source": [
    "with open('automatchdetails_feb26_to_feb29.txt', 'r') as text:\n",
    "    dotaString = text.read()"
   ]
  },
  {
   "cell_type": "code",
   "execution_count": 3,
   "metadata": {
    "collapsed": true
   },
   "outputs": [],
   "source": [
    "with open('heroes.txt', mode='r') as infile:\n",
    "    reader = csv.reader(infile)\n",
    "    heroDict = {rows[0]:rows[1] for rows in reader}"
   ]
  },
  {
   "cell_type": "code",
   "execution_count": 4,
   "metadata": {
    "collapsed": true
   },
   "outputs": [],
   "source": [
    "dotaString = string.replace(dotaString, '][', ', ')\n",
    "matchDetailsJSON = json.loads(dotaString)"
   ]
  },
  {
   "cell_type": "code",
   "execution_count": 5,
   "metadata": {
    "collapsed": true
   },
   "outputs": [],
   "source": [
    "dotaFrame = create_dota_dataframe2(matchDetailsJSON)"
   ]
  },
  {
   "cell_type": "code",
   "execution_count": 7,
   "metadata": {
    "collapsed": false
   },
   "outputs": [
    {
     "data": {
      "text/plain": [
       "[<matplotlib.text.Text at 0x1614e2e80>,\n",
       " <matplotlib.text.Text at 0x1614ca828>,\n",
       " <matplotlib.text.Text at 0x161983f28>]"
      ]
     },
     "execution_count": 7,
     "metadata": {},
     "output_type": "execute_result"
    },
    {
     "data": {
      "image/png": "[encoded data removed]",
      "text/plain": [
       "<matplotlib.figure.Figure at 0x161346e48>"
      ]
     },
     "metadata": {},
     "output_type": "display_data"
    }
   ],
   "source": [
    "%matplotlib inline\n",
    "ax = dotaFrame['Match Length (s)'].hist()\n",
    "ax.set(xlabel='Length (s)', ylabel='Count', title='Histogram of Match Lengths')"
   ]
  },
  {
   "cell_type": "markdown",
   "metadata": {},
   "source": [
    "We've now imported a fairly large number of matches into a pandas dataframe. From the above plot, the most played game modes are 1 (All Pick) and 22 (Ranked All Pick) which are the only two game modes where all ten players have complete freedom of choice in picking their hero. These two modes embody the chaos that is the 'draft' portion of public matchmaking Dota 2 game, so we will only look at matches for these two game modes in our model. We will also cut out any matches ending before 10 minutes as games that end that early tend to have some skewed factor such as a player abandoning the game early."
   ]
  },
  {
   "cell_type": "code",
   "execution_count": 8,
   "metadata": {
    "collapsed": true
   },
   "outputs": [],
   "source": [
    "dotaFrame = pd.concat([dotaFrame[dotaFrame['Game Mode']==1], dotaFrame[dotaFrame['Game Mode']==22]])\n",
    "dotaFrame = dotaFrame[dotaFrame['Match Length (s)']>599]"
   ]
  },
  {
   "cell_type": "markdown",
   "metadata": {},
   "source": [
    "There are 111 heroes currently in the game using hero IDs 1 to 113 (IDs 24 and 108 are unused for reasons unknown). To perform logistic regression, we will use 113 on/off switches for each team indicating whether or not that particular hero is present on the team in a game. Since the current dataframe records the hero for each particular player slot as opposed for just a particular team, we will combine the player slots for each team into a single dataframe cell. From there, we can use the get_dummies() function obtain our 226 switches."
   ]
  },
  {
   "cell_type": "code",
   "execution_count": 9,
   "metadata": {
    "collapsed": true
   },
   "outputs": [],
   "source": [
    "dotaFrame['Radiant']='R'+dotaFrame['Radiant 1'].map(str)+','+'R'+dotaFrame['Radiant 2'].map(str)+','+'R'+dotaFrame['Radiant 3'].map(str)+','+'R'+dotaFrame['Radiant 4'].map(str)+','+'R'+dotaFrame['Radiant 5'].map(str)\n",
    "dotaFrame['Dire']='D'+dotaFrame['Dire 1'].map(str)+','+'D'+dotaFrame['Dire 2'].map(str)+','+'D'+dotaFrame['Dire 3'].map(str)+','+'D'+dotaFrame['Dire 4'].map(str)+','+'D'+dotaFrame['Dire 5'].map(str)"
   ]
  },
  {
   "cell_type": "code",
   "execution_count": 10,
   "metadata": {
    "collapsed": false
   },
   "outputs": [],
   "source": [
    "dotaFrameLogitRadiant = dotaFrame['Radiant'].str.get_dummies(sep=',')\n",
    "dotaFrameLogitDire = dotaFrame['Dire'].str.get_dummies(sep=',')"
   ]
  },
  {
   "cell_type": "code",
   "execution_count": 11,
   "metadata": {
    "collapsed": true
   },
   "outputs": [],
   "source": [
    "dotaFrameLogit = dotaFrameLogitRadiant.join(dotaFrameLogitDire)\n",
    "dotaFrameLogit['Intercept']=1\n",
    "dotaFrameLogit['Radiant Win Y/N'] = dotaFrame['Radiant Win Y/N']"
   ]
  },
  {
   "cell_type": "markdown",
   "metadata": {},
   "source": [
    "We add an intercept term and the winning team information to the resultant dataframe. As seen below, all the data is now represented as 0s and 1s."
   ]
  },
  {
   "cell_type": "code",
   "execution_count": 12,
   "metadata": {
    "collapsed": false
   },
   "outputs": [
    {
     "data": {
      "text/html": [
       "<div>\n",
       "<table border=\"1\" class=\"dataframe\">\n",
       "  <thead>\n",
       "    <tr style=\"text-align: right;\">\n",
       "      <th></th>\n",
       "      <th>R1</th>\n",
       "      <th>R10</th>\n",
       "      <th>R100</th>\n",
       "      <th>R101</th>\n",
       "      <th>R102</th>\n",
       "      <th>R103</th>\n",
       "      <th>R104</th>\n",
       "      <th>R105</th>\n",
       "      <th>R106</th>\n",
       "      <th>R107</th>\n",
       "      <th>...</th>\n",
       "      <th>D92</th>\n",
       "      <th>D93</th>\n",
       "      <th>D94</th>\n",
       "      <th>D95</th>\n",
       "      <th>D96</th>\n",
       "      <th>D97</th>\n",
       "      <th>D98</th>\n",
       "      <th>D99</th>\n",
       "      <th>Intercept</th>\n",
       "      <th>Radiant Win Y/N</th>\n",
       "    </tr>\n",
       "  </thead>\n",
       "  <tbody>\n",
       "    <tr>\n",
       "      <th>12</th>\n",
       "      <td>0</td>\n",
       "      <td>0</td>\n",
       "      <td>0</td>\n",
       "      <td>0</td>\n",
       "      <td>0</td>\n",
       "      <td>0</td>\n",
       "      <td>1</td>\n",
       "      <td>0</td>\n",
       "      <td>0</td>\n",
       "      <td>0</td>\n",
       "      <td>...</td>\n",
       "      <td>0</td>\n",
       "      <td>0</td>\n",
       "      <td>0</td>\n",
       "      <td>0</td>\n",
       "      <td>0</td>\n",
       "      <td>0</td>\n",
       "      <td>0</td>\n",
       "      <td>0</td>\n",
       "      <td>1</td>\n",
       "      <td>True</td>\n",
       "    </tr>\n",
       "    <tr>\n",
       "      <th>15</th>\n",
       "      <td>0</td>\n",
       "      <td>0</td>\n",
       "      <td>0</td>\n",
       "      <td>0</td>\n",
       "      <td>0</td>\n",
       "      <td>0</td>\n",
       "      <td>0</td>\n",
       "      <td>0</td>\n",
       "      <td>1</td>\n",
       "      <td>0</td>\n",
       "      <td>...</td>\n",
       "      <td>0</td>\n",
       "      <td>0</td>\n",
       "      <td>0</td>\n",
       "      <td>0</td>\n",
       "      <td>0</td>\n",
       "      <td>0</td>\n",
       "      <td>0</td>\n",
       "      <td>0</td>\n",
       "      <td>1</td>\n",
       "      <td>True</td>\n",
       "    </tr>\n",
       "    <tr>\n",
       "      <th>18</th>\n",
       "      <td>0</td>\n",
       "      <td>0</td>\n",
       "      <td>0</td>\n",
       "      <td>0</td>\n",
       "      <td>0</td>\n",
       "      <td>0</td>\n",
       "      <td>0</td>\n",
       "      <td>0</td>\n",
       "      <td>0</td>\n",
       "      <td>0</td>\n",
       "      <td>...</td>\n",
       "      <td>0</td>\n",
       "      <td>0</td>\n",
       "      <td>0</td>\n",
       "      <td>0</td>\n",
       "      <td>0</td>\n",
       "      <td>0</td>\n",
       "      <td>0</td>\n",
       "      <td>0</td>\n",
       "      <td>1</td>\n",
       "      <td>True</td>\n",
       "    </tr>\n",
       "    <tr>\n",
       "      <th>21</th>\n",
       "      <td>0</td>\n",
       "      <td>0</td>\n",
       "      <td>0</td>\n",
       "      <td>0</td>\n",
       "      <td>0</td>\n",
       "      <td>0</td>\n",
       "      <td>1</td>\n",
       "      <td>0</td>\n",
       "      <td>0</td>\n",
       "      <td>0</td>\n",
       "      <td>...</td>\n",
       "      <td>0</td>\n",
       "      <td>1</td>\n",
       "      <td>0</td>\n",
       "      <td>0</td>\n",
       "      <td>0</td>\n",
       "      <td>0</td>\n",
       "      <td>0</td>\n",
       "      <td>0</td>\n",
       "      <td>1</td>\n",
       "      <td>True</td>\n",
       "    </tr>\n",
       "    <tr>\n",
       "      <th>22</th>\n",
       "      <td>0</td>\n",
       "      <td>0</td>\n",
       "      <td>0</td>\n",
       "      <td>0</td>\n",
       "      <td>0</td>\n",
       "      <td>0</td>\n",
       "      <td>0</td>\n",
       "      <td>0</td>\n",
       "      <td>0</td>\n",
       "      <td>0</td>\n",
       "      <td>...</td>\n",
       "      <td>0</td>\n",
       "      <td>0</td>\n",
       "      <td>0</td>\n",
       "      <td>0</td>\n",
       "      <td>0</td>\n",
       "      <td>1</td>\n",
       "      <td>0</td>\n",
       "      <td>0</td>\n",
       "      <td>1</td>\n",
       "      <td>True</td>\n",
       "    </tr>\n",
       "    <tr>\n",
       "      <th>24</th>\n",
       "      <td>0</td>\n",
       "      <td>0</td>\n",
       "      <td>0</td>\n",
       "      <td>0</td>\n",
       "      <td>0</td>\n",
       "      <td>0</td>\n",
       "      <td>0</td>\n",
       "      <td>0</td>\n",
       "      <td>0</td>\n",
       "      <td>1</td>\n",
       "      <td>...</td>\n",
       "      <td>0</td>\n",
       "      <td>0</td>\n",
       "      <td>0</td>\n",
       "      <td>0</td>\n",
       "      <td>0</td>\n",
       "      <td>0</td>\n",
       "      <td>0</td>\n",
       "      <td>0</td>\n",
       "      <td>1</td>\n",
       "      <td>True</td>\n",
       "    </tr>\n",
       "    <tr>\n",
       "      <th>26</th>\n",
       "      <td>1</td>\n",
       "      <td>0</td>\n",
       "      <td>0</td>\n",
       "      <td>0</td>\n",
       "      <td>0</td>\n",
       "      <td>0</td>\n",
       "      <td>0</td>\n",
       "      <td>0</td>\n",
       "      <td>0</td>\n",
       "      <td>0</td>\n",
       "      <td>...</td>\n",
       "      <td>0</td>\n",
       "      <td>0</td>\n",
       "      <td>0</td>\n",
       "      <td>0</td>\n",
       "      <td>0</td>\n",
       "      <td>0</td>\n",
       "      <td>0</td>\n",
       "      <td>0</td>\n",
       "      <td>1</td>\n",
       "      <td>False</td>\n",
       "    </tr>\n",
       "    <tr>\n",
       "      <th>27</th>\n",
       "      <td>0</td>\n",
       "      <td>0</td>\n",
       "      <td>0</td>\n",
       "      <td>0</td>\n",
       "      <td>0</td>\n",
       "      <td>0</td>\n",
       "      <td>0</td>\n",
       "      <td>0</td>\n",
       "      <td>0</td>\n",
       "      <td>0</td>\n",
       "      <td>...</td>\n",
       "      <td>0</td>\n",
       "      <td>0</td>\n",
       "      <td>0</td>\n",
       "      <td>0</td>\n",
       "      <td>0</td>\n",
       "      <td>0</td>\n",
       "      <td>0</td>\n",
       "      <td>0</td>\n",
       "      <td>1</td>\n",
       "      <td>True</td>\n",
       "    </tr>\n",
       "    <tr>\n",
       "      <th>32</th>\n",
       "      <td>0</td>\n",
       "      <td>0</td>\n",
       "      <td>0</td>\n",
       "      <td>0</td>\n",
       "      <td>0</td>\n",
       "      <td>0</td>\n",
       "      <td>0</td>\n",
       "      <td>0</td>\n",
       "      <td>0</td>\n",
       "      <td>0</td>\n",
       "      <td>...</td>\n",
       "      <td>0</td>\n",
       "      <td>0</td>\n",
       "      <td>0</td>\n",
       "      <td>0</td>\n",
       "      <td>0</td>\n",
       "      <td>0</td>\n",
       "      <td>0</td>\n",
       "      <td>0</td>\n",
       "      <td>1</td>\n",
       "      <td>False</td>\n",
       "    </tr>\n",
       "    <tr>\n",
       "      <th>34</th>\n",
       "      <td>0</td>\n",
       "      <td>0</td>\n",
       "      <td>0</td>\n",
       "      <td>0</td>\n",
       "      <td>0</td>\n",
       "      <td>0</td>\n",
       "      <td>0</td>\n",
       "      <td>0</td>\n",
       "      <td>0</td>\n",
       "      <td>0</td>\n",
       "      <td>...</td>\n",
       "      <td>0</td>\n",
       "      <td>0</td>\n",
       "      <td>0</td>\n",
       "      <td>0</td>\n",
       "      <td>0</td>\n",
       "      <td>0</td>\n",
       "      <td>0</td>\n",
       "      <td>0</td>\n",
       "      <td>1</td>\n",
       "      <td>False</td>\n",
       "    </tr>\n",
       "  </tbody>\n",
       "</table>\n",
       "<p>10 rows × 224 columns</p>\n",
       "</div>"
      ],
      "text/plain": [
       "    R1  R10  R100  R101  R102  R103  R104  R105  R106  R107       ...         \\\n",
       "12   0    0     0     0     0     0     1     0     0     0       ...          \n",
       "15   0    0     0     0     0     0     0     0     1     0       ...          \n",
       "18   0    0     0     0     0     0     0     0     0     0       ...          \n",
       "21   0    0     0     0     0     0     1     0     0     0       ...          \n",
       "22   0    0     0     0     0     0     0     0     0     0       ...          \n",
       "24   0    0     0     0     0     0     0     0     0     1       ...          \n",
       "26   1    0     0     0     0     0     0     0     0     0       ...          \n",
       "27   0    0     0     0     0     0     0     0     0     0       ...          \n",
       "32   0    0     0     0     0     0     0     0     0     0       ...          \n",
       "34   0    0     0     0     0     0     0     0     0     0       ...          \n",
       "\n",
       "    D92  D93  D94  D95  D96  D97  D98  D99  Intercept  Radiant Win Y/N  \n",
       "12    0    0    0    0    0    0    0    0          1             True  \n",
       "15    0    0    0    0    0    0    0    0          1             True  \n",
       "18    0    0    0    0    0    0    0    0          1             True  \n",
       "21    0    1    0    0    0    0    0    0          1             True  \n",
       "22    0    0    0    0    0    1    0    0          1             True  \n",
       "24    0    0    0    0    0    0    0    0          1             True  \n",
       "26    0    0    0    0    0    0    0    0          1            False  \n",
       "27    0    0    0    0    0    0    0    0          1             True  \n",
       "32    0    0    0    0    0    0    0    0          1            False  \n",
       "34    0    0    0    0    0    0    0    0          1            False  \n",
       "\n",
       "[10 rows x 224 columns]"
      ]
     },
     "execution_count": 12,
     "metadata": {},
     "output_type": "execute_result"
    }
   ],
   "source": [
    "dotaFrameLogit.head(10)"
   ]
  },
  {
   "cell_type": "markdown",
   "metadata": {},
   "source": [
    "We'll split the data into a training set and a testing set. The model will be fit to the training set, and then we will test the model's efficacy on the testing set."
   ]
  },
  {
   "cell_type": "code",
   "execution_count": 13,
   "metadata": {
    "collapsed": true
   },
   "outputs": [],
   "source": [
    "dotaFrameTrain, dotaFrameTest = train_test_split(dotaFrameLogit, test_size=0.25, random_state=0)"
   ]
  },
  {
   "cell_type": "code",
   "execution_count": 14,
   "metadata": {
    "collapsed": false
   },
   "outputs": [
    {
     "data": {
      "text/plain": [
       "23994"
      ]
     },
     "execution_count": 14,
     "metadata": {},
     "output_type": "execute_result"
    }
   ],
   "source": [
    "len(dotaFrameTrain)"
   ]
  },
  {
   "cell_type": "code",
   "execution_count": 15,
   "metadata": {
    "collapsed": false
   },
   "outputs": [
    {
     "data": {
      "text/plain": [
       "7998"
      ]
     },
     "execution_count": 15,
     "metadata": {},
     "output_type": "execute_result"
    }
   ],
   "source": [
    "len(dotaFrameTest)"
   ]
  },
  {
   "cell_type": "code",
   "execution_count": 16,
   "metadata": {
    "collapsed": true
   },
   "outputs": [],
   "source": [
    "trainColumn = list(dotaFrameLogit.columns.values)[0:-1]"
   ]
  },
  {
   "cell_type": "code",
   "execution_count": 17,
   "metadata": {
    "collapsed": true
   },
   "outputs": [],
   "source": [
    "model = sm.Logit(dotaFrameTrain['Radiant Win Y/N'], dotaFrameTrain[trainColumn])"
   ]
  },
  {
   "cell_type": "code",
   "execution_count": 18,
   "metadata": {
    "collapsed": false
   },
   "outputs": [
    {
     "name": "stdout",
     "output_type": "stream",
     "text": [
      "Optimization terminated successfully.\n",
      "         Current function value: 0.613947\n",
      "         Iterations: 112\n",
      "         Function evaluations: 113\n",
      "         Gradient evaluations: 113\n"
     ]
    }
   ],
   "source": [
    "result = model.fit(method='bfgs', maxiter=200)"
   ]
  },
  {
   "cell_type": "code",
   "execution_count": 19,
   "metadata": {
    "collapsed": false
   },
   "outputs": [
    {
     "name": "stdout",
     "output_type": "stream",
     "text": [
      "                           Logit Regression Results                           \n",
      "==============================================================================\n",
      "Dep. Variable:        Radiant Win Y/N   No. Observations:                23994\n",
      "Model:                          Logit   Df Residuals:                    23773\n",
      "Method:                           MLE   Df Model:                          220\n",
      "Date:                Thu, 03 Mar 2016   Pseudo R-squ.:                  0.1007\n",
      "Time:                        21:39:57   Log-Likelihood:                -14731.\n",
      "converged:                       True   LL-Null:                       -16381.\n",
      "                                        LLR p-value:                     0.000\n",
      "==============================================================================\n",
      "                 coef    std err          z      P>|z|      [95.0% Conf. Int.]\n",
      "------------------------------------------------------------------------------\n",
      "R1            -0.5932    3.3e+05   -1.8e-06      1.000     -6.47e+05  6.47e+05\n",
      "R10           -0.3947    3.3e+05   -1.2e-06      1.000     -6.47e+05  6.47e+05\n",
      "R100          -0.0229    3.3e+05  -6.93e-08      1.000     -6.47e+05  6.47e+05\n",
      "R101          -0.0390    3.3e+05  -1.18e-07      1.000     -6.47e+05  6.47e+05\n",
      "R102           0.7929    3.3e+05    2.4e-06      1.000     -6.47e+05  6.47e+05\n",
      "R103          -0.1147    3.3e+05  -3.47e-07      1.000     -6.47e+05  6.47e+05\n",
      "R104          -0.2256    3.3e+05  -6.83e-07      1.000     -6.47e+05  6.47e+05\n",
      "R105          -0.1301    3.3e+05  -3.94e-07      1.000     -6.47e+05  6.47e+05\n",
      "R106          -0.3052    3.3e+05  -9.25e-07      1.000     -6.47e+05  6.47e+05\n",
      "R107           0.1327    3.3e+05   4.02e-07      1.000     -6.47e+05  6.47e+05\n",
      "R109          -0.3055    3.3e+05  -9.25e-07      1.000     -6.47e+05  6.47e+05\n",
      "R11           -0.3814    3.3e+05  -1.16e-06      1.000     -6.47e+05  6.47e+05\n",
      "R110           0.1007    3.3e+05   3.05e-07      1.000     -6.47e+05  6.47e+05\n",
      "R111          -0.0854    3.3e+05  -2.59e-07      1.000     -6.47e+05  6.47e+05\n",
      "R112           0.0049    3.3e+05    1.5e-08      1.000     -6.47e+05  6.47e+05\n",
      "R113           0.1028    3.3e+05   3.11e-07      1.000     -6.47e+05  6.47e+05\n",
      "R12           -0.1600    3.3e+05  -4.85e-07      1.000     -6.47e+05  6.47e+05\n",
      "R13           -0.2721    3.3e+05  -8.24e-07      1.000     -6.47e+05  6.47e+05\n",
      "R14            0.2718    3.3e+05   8.23e-07      1.000     -6.47e+05  6.47e+05\n",
      "R15           -0.2535    3.3e+05  -7.68e-07      1.000     -6.47e+05  6.47e+05\n",
      "R16            0.0072    3.3e+05   2.19e-08      1.000     -6.47e+05  6.47e+05\n",
      "R17           -0.8430    3.3e+05  -2.55e-06      1.000     -6.47e+05  6.47e+05\n",
      "R18            0.0362    3.3e+05    1.1e-07      1.000     -6.47e+05  6.47e+05\n",
      "R19           -0.3416    3.3e+05  -1.03e-06      1.000     -6.47e+05  6.47e+05\n",
      "R2            -0.4039    3.3e+05  -1.22e-06      1.000     -6.47e+05  6.47e+05\n",
      "R20            0.3689    3.3e+05   1.12e-06      1.000     -6.47e+05  6.47e+05\n",
      "R21           -0.1675    3.3e+05  -5.07e-07      1.000     -6.47e+05  6.47e+05\n",
      "R22            0.4615    3.3e+05    1.4e-06      1.000     -6.47e+05  6.47e+05\n",
      "R23           -0.0079    3.3e+05  -2.38e-08      1.000     -6.47e+05  6.47e+05\n",
      "R25           -0.1701    3.3e+05  -5.15e-07      1.000     -6.47e+05  6.47e+05\n",
      "R26           -0.0250    3.3e+05  -7.58e-08      1.000     -6.47e+05  6.47e+05\n",
      "R27            0.3396    3.3e+05   1.03e-06      1.000     -6.47e+05  6.47e+05\n",
      "R28            0.1032    3.3e+05   3.13e-07      1.000     -6.47e+05  6.47e+05\n",
      "R29            0.0374    3.3e+05   1.13e-07      1.000     -6.47e+05  6.47e+05\n",
      "R3            -0.0098    3.3e+05  -2.98e-08      1.000     -6.47e+05  6.47e+05\n",
      "R30            0.2338    3.3e+05   7.08e-07      1.000     -6.47e+05  6.47e+05\n",
      "R31            0.3485    3.3e+05   1.06e-06      1.000     -6.47e+05  6.47e+05\n",
      "R32           -0.0342    3.3e+05  -1.03e-07      1.000     -6.47e+05  6.47e+05\n",
      "R33            0.3518    3.3e+05   1.07e-06      1.000     -6.47e+05  6.47e+05\n",
      "R34           -0.1512    3.3e+05  -4.58e-07      1.000     -6.47e+05  6.47e+05\n",
      "R35           -0.4386    3.3e+05  -1.33e-06      1.000     -6.47e+05  6.47e+05\n",
      "R36            0.4992    3.3e+05   1.51e-06      1.000     -6.47e+05  6.47e+05\n",
      "R37            0.3956    3.3e+05    1.2e-06      1.000     -6.47e+05  6.47e+05\n",
      "R38            0.6170    3.3e+05   1.87e-06      1.000     -6.47e+05  6.47e+05\n",
      "R39           -0.2735    3.3e+05  -8.28e-07      1.000     -6.47e+05  6.47e+05\n",
      "R4            -0.4940    3.3e+05   -1.5e-06      1.000     -6.47e+05  6.47e+05\n",
      "R40            0.5742    3.3e+05   1.74e-06      1.000     -6.47e+05  6.47e+05\n",
      "R41            0.0516    3.3e+05   1.56e-07      1.000     -6.47e+05  6.47e+05\n",
      "R42            0.1103    3.3e+05   3.34e-07      1.000     -6.47e+05  6.47e+05\n",
      "R43            0.0991    3.3e+05      3e-07      1.000     -6.47e+05  6.47e+05\n",
      "R44           -0.4463    3.3e+05  -1.35e-06      1.000     -6.47e+05  6.47e+05\n",
      "R45            0.4649    3.3e+05   1.41e-06      1.000     -6.47e+05  6.47e+05\n",
      "R46           -0.1247    3.3e+05  -3.78e-07      1.000     -6.47e+05  6.47e+05\n",
      "R47            0.1121    3.3e+05    3.4e-07      1.000     -6.47e+05  6.47e+05\n",
      "R48            0.0784    3.3e+05   2.38e-07      1.000     -6.47e+05  6.47e+05\n",
      "R49            0.0458    3.3e+05   1.39e-07      1.000     -6.47e+05  6.47e+05\n",
      "R5             0.3585    3.3e+05   1.09e-06      1.000     -6.47e+05  6.47e+05\n",
      "R50            0.3693    3.3e+05   1.12e-06      1.000     -6.47e+05  6.47e+05\n",
      "R51            0.0473    3.3e+05   1.43e-07      1.000     -6.47e+05  6.47e+05\n",
      "R52           -0.1290    3.3e+05  -3.91e-07      1.000     -6.47e+05  6.47e+05\n",
      "R53            0.0236    3.3e+05   7.13e-08      1.000     -6.47e+05  6.47e+05\n",
      "R54           -0.3160    3.3e+05  -9.57e-07      1.000     -6.47e+05  6.47e+05\n",
      "R55            0.0171    3.3e+05   5.17e-08      1.000     -6.47e+05  6.47e+05\n",
      "R56            0.0158    3.3e+05   4.79e-08      1.000     -6.47e+05  6.47e+05\n",
      "R57            0.6697    3.3e+05   2.03e-06      1.000     -6.47e+05  6.47e+05\n",
      "R58            0.2421    3.3e+05   7.34e-07      1.000     -6.47e+05  6.47e+05\n",
      "R59           -0.1154    3.3e+05   -3.5e-07      1.000     -6.47e+05  6.47e+05\n",
      "R6             0.2642    3.3e+05      8e-07      1.000     -6.47e+05  6.47e+05\n",
      "R60            0.0981    3.3e+05   2.97e-07      1.000     -6.47e+05  6.47e+05\n",
      "R61           -0.0095    3.3e+05  -2.87e-08      1.000     -6.47e+05  6.47e+05\n",
      "R62            0.4715    3.3e+05   1.43e-06      1.000     -6.47e+05  6.47e+05\n",
      "R63            0.1878    3.3e+05   5.69e-07      1.000     -6.47e+05  6.47e+05\n",
      "R64            0.0573    3.3e+05   1.73e-07      1.000     -6.47e+05  6.47e+05\n",
      "R65           -0.2628    3.3e+05  -7.96e-07      1.000     -6.47e+05  6.47e+05\n",
      "R66            0.4883    3.3e+05   1.48e-06      1.000     -6.47e+05  6.47e+05\n",
      "R67           -0.1633    3.3e+05  -4.95e-07      1.000     -6.47e+05  6.47e+05\n",
      "R68           -0.1571    3.3e+05  -4.76e-07      1.000     -6.47e+05  6.47e+05\n",
      "R69           -0.0125    3.3e+05  -3.79e-08      1.000     -6.47e+05  6.47e+05\n",
      "R7             0.0837    3.3e+05   2.54e-07      1.000     -6.47e+05  6.47e+05\n",
      "R70            0.1772    3.3e+05   5.37e-07      1.000     -6.47e+05  6.47e+05\n",
      "R71            0.3370    3.3e+05   1.02e-06      1.000     -6.47e+05  6.47e+05\n",
      "R72           -0.0650    3.3e+05  -1.97e-07      1.000     -6.47e+05  6.47e+05\n",
      "R73           -0.3480    3.3e+05  -1.05e-06      1.000     -6.47e+05  6.47e+05\n",
      "R74            0.0409    3.3e+05   1.24e-07      1.000     -6.47e+05  6.47e+05\n",
      "R75            0.1198    3.3e+05   3.63e-07      1.000     -6.47e+05  6.47e+05\n",
      "R76            0.0639    3.3e+05   1.94e-07      1.000     -6.47e+05  6.47e+05\n",
      "R77            0.5159    3.3e+05   1.56e-06      1.000     -6.47e+05  6.47e+05\n",
      "R78           -0.1375    3.3e+05  -4.17e-07      1.000     -6.47e+05  6.47e+05\n",
      "R79            0.0256    3.3e+05   7.74e-08      1.000     -6.47e+05  6.47e+05\n",
      "R8             0.0723    3.3e+05   2.19e-07      1.000     -6.47e+05  6.47e+05\n",
      "R80           -0.0730    3.3e+05  -2.21e-07      1.000     -6.47e+05  6.47e+05\n",
      "R81            0.0168    3.3e+05   5.08e-08      1.000     -6.47e+05  6.47e+05\n",
      "R82           -0.3392    3.3e+05  -1.03e-06      1.000     -6.47e+05  6.47e+05\n",
      "R83            0.0196    3.3e+05   5.94e-08      1.000     -6.47e+05  6.47e+05\n",
      "R84            0.2792    3.3e+05   8.46e-07      1.000     -6.47e+05  6.47e+05\n",
      "R85            0.3065    3.3e+05   9.29e-07      1.000     -6.47e+05  6.47e+05\n",
      "R86            0.0498    3.3e+05   1.51e-07      1.000     -6.47e+05  6.47e+05\n",
      "R87            0.2076    3.3e+05   6.29e-07      1.000     -6.47e+05  6.47e+05\n",
      "R88            0.2172    3.3e+05   6.58e-07      1.000     -6.47e+05  6.47e+05\n",
      "R89           -0.6760    3.3e+05  -2.05e-06      1.000     -6.47e+05  6.47e+05\n",
      "R9             0.2614    3.3e+05   7.92e-07      1.000     -6.47e+05  6.47e+05\n",
      "R90            0.1174    3.3e+05   3.56e-07      1.000     -6.47e+05  6.47e+05\n",
      "R91           -0.1530    3.3e+05  -4.64e-07      1.000     -6.47e+05  6.47e+05\n",
      "R92           -0.1404    3.3e+05  -4.25e-07      1.000     -6.47e+05  6.47e+05\n",
      "R93           -0.3183    3.3e+05  -9.64e-07      1.000     -6.47e+05  6.47e+05\n",
      "R94           -0.2700    3.3e+05  -8.18e-07      1.000     -6.47e+05  6.47e+05\n",
      "R95           -0.2972    3.3e+05     -9e-07      1.000     -6.47e+05  6.47e+05\n",
      "R96           -0.0497    3.3e+05  -1.51e-07      1.000     -6.47e+05  6.47e+05\n",
      "R97           -0.4518    3.3e+05  -1.37e-06      1.000     -6.47e+05  6.47e+05\n",
      "R98           -0.2619    3.3e+05  -7.94e-07      1.000     -6.47e+05  6.47e+05\n",
      "R99           -0.1993    3.3e+05  -6.04e-07      1.000     -6.47e+05  6.47e+05\n",
      "D1             0.6328   9.07e+04   6.98e-06      1.000     -1.78e+05  1.78e+05\n",
      "D10            0.5035   9.07e+04   5.55e-06      1.000     -1.78e+05  1.78e+05\n",
      "D100           0.0149   9.07e+04   1.64e-07      1.000     -1.78e+05  1.78e+05\n",
      "D101           0.1421   9.07e+04   1.57e-06      1.000     -1.78e+05  1.78e+05\n",
      "D102          -0.5411   9.07e+04  -5.97e-06      1.000     -1.78e+05  1.78e+05\n",
      "D103           0.0206   9.07e+04   2.27e-07      1.000     -1.78e+05  1.78e+05\n",
      "D104           0.1271   9.07e+04    1.4e-06      1.000     -1.78e+05  1.78e+05\n",
      "D105           0.0918   9.07e+04   1.01e-06      1.000     -1.78e+05  1.78e+05\n",
      "D106           0.4196   9.07e+04   4.63e-06      1.000     -1.78e+05  1.78e+05\n",
      "D107          -0.1835   9.07e+04  -2.02e-06      1.000     -1.78e+05  1.78e+05\n",
      "D109           0.2575   9.07e+04   2.84e-06      1.000     -1.78e+05  1.78e+05\n",
      "D11            0.4540   9.07e+04   5.01e-06      1.000     -1.78e+05  1.78e+05\n",
      "D110          -0.1200   9.07e+04  -1.32e-06      1.000     -1.78e+05  1.78e+05\n",
      "D111           0.1698   9.07e+04   1.87e-06      1.000     -1.78e+05  1.78e+05\n",
      "D112          -0.0346   9.07e+04  -3.82e-07      1.000     -1.78e+05  1.78e+05\n",
      "D113           0.1474   9.07e+04   1.63e-06      1.000     -1.78e+05  1.78e+05\n",
      "D12            0.3152   9.07e+04   3.48e-06      1.000     -1.78e+05  1.78e+05\n",
      "D13            0.3654   9.07e+04   4.03e-06      1.000     -1.78e+05  1.78e+05\n",
      "D14           -0.1537   9.07e+04  -1.69e-06      1.000     -1.78e+05  1.78e+05\n",
      "D15            0.2358   9.07e+04    2.6e-06      1.000     -1.78e+05  1.78e+05\n",
      "D16            0.0153   9.07e+04   1.69e-07      1.000     -1.78e+05  1.78e+05\n",
      "D17            0.6124   9.07e+04   6.75e-06      1.000     -1.78e+05  1.78e+05\n",
      "D18           -0.0618   9.07e+04  -6.81e-07      1.000     -1.78e+05  1.78e+05\n",
      "D19            0.3023   9.07e+04   3.33e-06      1.000     -1.78e+05  1.78e+05\n",
      "D2             0.4902   9.07e+04   5.41e-06      1.000     -1.78e+05  1.78e+05\n",
      "D20           -0.3912   9.07e+04  -4.31e-06      1.000     -1.78e+05  1.78e+05\n",
      "D21            0.3154   9.07e+04   3.48e-06      1.000     -1.78e+05  1.78e+05\n",
      "D22           -0.3068   9.07e+04  -3.38e-06      1.000     -1.78e+05  1.78e+05\n",
      "D23            0.1049   9.07e+04   1.16e-06      1.000     -1.78e+05  1.78e+05\n",
      "D25            0.2001   9.07e+04   2.21e-06      1.000     -1.78e+05  1.78e+05\n",
      "D26            0.0705   9.07e+04   7.77e-07      1.000     -1.78e+05  1.78e+05\n",
      "D27           -0.3209   9.07e+04  -3.54e-06      1.000     -1.78e+05  1.78e+05\n",
      "D28           -0.1210   9.07e+04  -1.33e-06      1.000     -1.78e+05  1.78e+05\n",
      "D29           -0.0953   9.07e+04  -1.05e-06      1.000     -1.78e+05  1.78e+05\n",
      "D3            -0.0529   9.07e+04  -5.84e-07      1.000     -1.78e+05  1.78e+05\n",
      "D30           -0.2645   9.07e+04  -2.92e-06      1.000     -1.78e+05  1.78e+05\n",
      "D31           -0.3321   9.07e+04  -3.66e-06      1.000     -1.78e+05  1.78e+05\n",
      "D32           -0.0032   9.07e+04  -3.56e-08      1.000     -1.78e+05  1.78e+05\n",
      "D33           -0.3273   9.07e+04  -3.61e-06      1.000     -1.78e+05  1.78e+05\n",
      "D34            0.1458   9.07e+04   1.61e-06      1.000     -1.78e+05  1.78e+05\n",
      "D35            0.3114   9.07e+04   3.43e-06      1.000     -1.78e+05  1.78e+05\n",
      "D36           -0.5895   9.07e+04   -6.5e-06      1.000     -1.78e+05  1.78e+05\n",
      "D37           -0.4197   9.07e+04  -4.63e-06      1.000     -1.78e+05  1.78e+05\n",
      "D38           -0.2729   9.07e+04  -3.01e-06      1.000     -1.78e+05  1.78e+05\n",
      "D39            0.4171   9.07e+04    4.6e-06      1.000     -1.78e+05  1.78e+05\n",
      "D4             0.2595   9.07e+04   2.86e-06      1.000     -1.78e+05  1.78e+05\n",
      "D40           -0.2806   9.07e+04  -3.09e-06      1.000     -1.78e+05  1.78e+05\n",
      "D41           -0.0314   9.07e+04  -3.46e-07      1.000     -1.78e+05  1.78e+05\n",
      "D42            0.0918   9.07e+04   1.01e-06      1.000     -1.78e+05  1.78e+05\n",
      "D43           -0.0596   9.07e+04  -6.57e-07      1.000     -1.78e+05  1.78e+05\n",
      "D44            0.4526   9.07e+04   4.99e-06      1.000     -1.78e+05  1.78e+05\n",
      "D45           -0.4129   9.07e+04  -4.55e-06      1.000     -1.78e+05  1.78e+05\n",
      "D46            0.0973   9.07e+04   1.07e-06      1.000     -1.78e+05  1.78e+05\n",
      "D47           -0.0624   9.07e+04  -6.88e-07      1.000     -1.78e+05  1.78e+05\n",
      "D48            0.0008   9.07e+04   9.36e-09      1.000     -1.78e+05  1.78e+05\n",
      "D49            0.1344   9.07e+04   1.48e-06      1.000     -1.78e+05  1.78e+05\n",
      "D5            -0.3702   9.07e+04  -4.08e-06      1.000     -1.78e+05  1.78e+05\n",
      "D50           -0.3281   9.07e+04  -3.62e-06      1.000     -1.78e+05  1.78e+05\n",
      "D51            0.1464   9.07e+04   1.61e-06      1.000     -1.78e+05  1.78e+05\n",
      "D52            0.2618   9.07e+04   2.89e-06      1.000     -1.78e+05  1.78e+05\n",
      "D53           -0.1220   9.07e+04  -1.34e-06      1.000     -1.78e+05  1.78e+05\n",
      "D54            0.1523   9.07e+04   1.68e-06      1.000     -1.78e+05  1.78e+05\n",
      "D55           -0.0205   9.07e+04  -2.26e-07      1.000     -1.78e+05  1.78e+05\n",
      "D56           -0.1174   9.07e+04   -1.3e-06      1.000     -1.78e+05  1.78e+05\n",
      "D57           -0.5291   9.07e+04  -5.83e-06      1.000     -1.78e+05  1.78e+05\n",
      "D58           -0.2596   9.07e+04  -2.86e-06      1.000     -1.78e+05  1.78e+05\n",
      "D59            0.1013   9.07e+04   1.12e-06      1.000     -1.78e+05  1.78e+05\n",
      "D6            -0.2775   9.07e+04  -3.06e-06      1.000     -1.78e+05  1.78e+05\n",
      "D60            0.0360   9.07e+04   3.97e-07      1.000     -1.78e+05  1.78e+05\n",
      "D61            0.1305   9.07e+04   1.44e-06      1.000     -1.78e+05  1.78e+05\n",
      "D62           -0.4661   9.07e+04  -5.14e-06      1.000     -1.78e+05  1.78e+05\n",
      "D63           -0.0213   9.07e+04  -2.35e-07      1.000     -1.78e+05  1.78e+05\n",
      "D64           -0.3253   9.07e+04  -3.59e-06      1.000     -1.78e+05  1.78e+05\n",
      "D65            0.0960   9.07e+04   1.06e-06      1.000     -1.78e+05  1.78e+05\n",
      "D66           -0.4063   9.07e+04  -4.48e-06      1.000     -1.78e+05  1.78e+05\n",
      "D67            0.2176   9.07e+04    2.4e-06      1.000     -1.78e+05  1.78e+05\n",
      "D68            0.1498   9.07e+04   1.65e-06      1.000     -1.78e+05  1.78e+05\n",
      "D69            0.1445   9.07e+04   1.59e-06      1.000     -1.78e+05  1.78e+05\n",
      "D7            -0.1092   9.07e+04   -1.2e-06      1.000     -1.78e+05  1.78e+05\n",
      "D70           -0.3628   9.07e+04     -4e-06      1.000     -1.78e+05  1.78e+05\n",
      "D71           -0.1499   9.07e+04  -1.65e-06      1.000     -1.78e+05  1.78e+05\n",
      "D72            0.2283   9.07e+04   2.52e-06      1.000     -1.78e+05  1.78e+05\n",
      "D73            0.2671   9.07e+04   2.95e-06      1.000     -1.78e+05  1.78e+05\n",
      "D74            0.0453   9.07e+04      5e-07      1.000     -1.78e+05  1.78e+05\n",
      "D75           -0.0997   9.07e+04   -1.1e-06      1.000     -1.78e+05  1.78e+05\n",
      "D76           -0.1583   9.07e+04  -1.75e-06      1.000     -1.78e+05  1.78e+05\n",
      "D77           -0.3992   9.07e+04   -4.4e-06      1.000     -1.78e+05  1.78e+05\n",
      "D78           -0.0639   9.07e+04  -7.05e-07      1.000     -1.78e+05  1.78e+05\n",
      "D79            0.0351   9.07e+04   3.87e-07      1.000     -1.78e+05  1.78e+05\n",
      "D8            -0.0068   9.07e+04  -7.52e-08      1.000     -1.78e+05  1.78e+05\n",
      "D80            0.0754   9.07e+04   8.32e-07      1.000     -1.78e+05  1.78e+05\n",
      "D81           -0.0167   9.07e+04  -1.84e-07      1.000     -1.78e+05  1.78e+05\n",
      "D82            0.3677   9.07e+04   4.05e-06      1.000     -1.78e+05  1.78e+05\n",
      "D83           -0.3110   9.07e+04  -3.43e-06      1.000     -1.78e+05  1.78e+05\n",
      "D84           -0.1071   9.07e+04  -1.18e-06      1.000     -1.78e+05  1.78e+05\n",
      "D85           -0.4692   9.07e+04  -5.17e-06      1.000     -1.78e+05  1.78e+05\n",
      "D86           -0.0767   9.07e+04  -8.45e-07      1.000     -1.78e+05  1.78e+05\n",
      "D87           -0.1889   9.07e+04  -2.08e-06      1.000     -1.78e+05  1.78e+05\n",
      "D88           -0.2157   9.07e+04  -2.38e-06      1.000     -1.78e+05  1.78e+05\n",
      "D89            0.4759   9.07e+04   5.25e-06      1.000     -1.78e+05  1.78e+05\n",
      "D9            -0.1493   9.07e+04  -1.65e-06      1.000     -1.78e+05  1.78e+05\n",
      "D90           -0.1737   9.07e+04  -1.91e-06      1.000     -1.78e+05  1.78e+05\n",
      "D91            0.0603   9.07e+04   6.65e-07      1.000     -1.78e+05  1.78e+05\n",
      "D92           -0.2825   9.07e+04  -3.12e-06      1.000     -1.78e+05  1.78e+05\n",
      "D93            0.4020   9.07e+04   4.43e-06      1.000     -1.78e+05  1.78e+05\n",
      "D94            0.0502   9.07e+04   5.54e-07      1.000     -1.78e+05  1.78e+05\n",
      "D95            0.2989   9.07e+04    3.3e-06      1.000     -1.78e+05  1.78e+05\n",
      "D96            0.0722   9.07e+04   7.96e-07      1.000     -1.78e+05  1.78e+05\n",
      "D97            0.3347   9.07e+04   3.69e-06      1.000     -1.78e+05  1.78e+05\n",
      "D98            0.4615   9.07e+04   5.09e-06      1.000     -1.78e+05  1.78e+05\n",
      "D99            0.2970   9.07e+04   3.27e-06      1.000     -1.78e+05  1.78e+05\n",
      "Intercept      0.1608        nan        nan        nan           nan       nan\n",
      "==============================================================================\n"
     ]
    }
   ],
   "source": [
    "print(result.summary())"
   ]
  },
  {
   "cell_type": "code",
   "execution_count": 20,
   "metadata": {
    "collapsed": false
   },
   "outputs": [],
   "source": [
    "trainingPrediction = result.pred_table()"
   ]
  },
  {
   "cell_type": "markdown",
   "metadata": {},
   "source": [
    "We can plot the confusion matrix to visualize how well the model does against the training set. Tested against the data used to form the model itself, it predicts ~57.2% of the matches successfully. Interestingly, the model seems to misinterpret Radiant Wins as Dire Wins more often than Dire Wins as Radiant Wins."
   ]
  },
  {
   "cell_type": "code",
   "execution_count": 21,
   "metadata": {
    "collapsed": false
   },
   "outputs": [
    {
     "data": {
      "text/plain": [
       "<matplotlib.text.Text at 0x1628238d0>"
      ]
     },
     "execution_count": 21,
     "metadata": {},
     "output_type": "execute_result"
    },
    {
     "data": {
      "image/png": "[encoded data removed]",
      "text/plain": [
       "<matplotlib.figure.Figure at 0x161433b70>"
      ]
     },
     "metadata": {},
     "output_type": "display_data"
    }
   ],
   "source": [
    "ax = sns.heatmap(trainingPrediction, annot = True, fmt = \".6g\", xticklabels = ['Radiant W', 'Dire W'], yticklabels = ['Radiant W', 'Dire W'])\n",
    "ax.set_title(\"Confusion Matrix\")"
   ]
  },
  {
   "cell_type": "code",
   "execution_count": 22,
   "metadata": {
    "collapsed": false
   },
   "outputs": [
    {
     "data": {
      "text/plain": [
       "0.57214303575893977"
      ]
     },
     "execution_count": 22,
     "metadata": {},
     "output_type": "execute_result"
    }
   ],
   "source": [
    "dotaFrameTrain['Radiant Win Y/N'].mean()    #percent of matches where Radiant won"
   ]
  },
  {
   "cell_type": "code",
   "execution_count": null,
   "metadata": {
    "collapsed": false
   },
   "outputs": [],
   "source": []
  },
  {
   "cell_type": "code",
   "execution_count": 23,
   "metadata": {
    "collapsed": false
   },
   "outputs": [],
   "source": [
    "ypred = result.predict(dotaFrameTest[trainColumn])"
   ]
  },
  {
   "cell_type": "code",
   "execution_count": 24,
   "metadata": {
    "collapsed": false
   },
   "outputs": [
    {
     "data": {
      "text/plain": [
       "array([ 0.27061621,  0.87583798,  0.49512483, ...,  0.85708059,\n",
       "        0.78059465,  0.17454388])"
      ]
     },
     "execution_count": 24,
     "metadata": {},
     "output_type": "execute_result"
    }
   ],
   "source": [
    "ypred"
   ]
  },
  {
   "cell_type": "code",
   "execution_count": 25,
   "metadata": {
    "collapsed": true
   },
   "outputs": [],
   "source": [
    "ypred = ypred.round().astype(int)    #convert probabilities to predicted win or loss for Radiant team"
   ]
  },
  {
   "cell_type": "code",
   "execution_count": 26,
   "metadata": {
    "collapsed": false
   },
   "outputs": [],
   "source": [
    "ytest = np.ravel(dotaFrameTest['Radiant Win Y/N']).astype(int)  #convert binary dataframe series to int numpy array for comparison"
   ]
  },
  {
   "cell_type": "code",
   "execution_count": 27,
   "metadata": {
    "collapsed": false
   },
   "outputs": [
    {
     "data": {
      "text/plain": [
       "array([0, 1, 0, ..., 1, 1, 0])"
      ]
     },
     "execution_count": 27,
     "metadata": {},
     "output_type": "execute_result"
    }
   ],
   "source": [
    "ypred"
   ]
  },
  {
   "cell_type": "code",
   "execution_count": 28,
   "metadata": {
    "collapsed": false
   },
   "outputs": [
    {
     "data": {
      "text/plain": [
       "array([0, 1, 1, ..., 0, 1, 0])"
      ]
     },
     "execution_count": 28,
     "metadata": {},
     "output_type": "execute_result"
    }
   ],
   "source": [
    "ytest"
   ]
  },
  {
   "cell_type": "code",
   "execution_count": 29,
   "metadata": {
    "collapsed": false
   },
   "outputs": [],
   "source": [
    "from sklearn.metrics import accuracy_score"
   ]
  },
  {
   "cell_type": "code",
   "execution_count": 30,
   "metadata": {
    "collapsed": false
   },
   "outputs": [
    {
     "data": {
      "text/plain": [
       "0.66091522880720177"
      ]
     },
     "execution_count": 30,
     "metadata": {},
     "output_type": "execute_result"
    }
   ],
   "source": [
    "accuracy_score(ypred, ytest)"
   ]
  },
  {
   "cell_type": "markdown",
   "metadata": {
    "collapsed": true
   },
   "source": [
    "Using this logistic regression model, there is a 66.09% correct prediction rate on the test set."
   ]
  },
  {
   "cell_type": "code",
   "execution_count": null,
   "metadata": {
    "collapsed": true
   },
   "outputs": [],
   "source": []
  }
 ],
 "metadata": {
  "kernelspec": {
   "display_name": "Python 2",
   "language": "python",
   "name": "python2"
  },
  "language_info": {
   "codemirror_mode": {
    "name": "ipython",
    "version": 2
   },
   "file_extension": ".py",
   "mimetype": "text/x-python",
   "name": "python",
   "nbconvert_exporter": "python",
   "pygments_lexer": "ipython2",
   "version": "2.7.9"
  }
 },
 "nbformat": 4,
 "nbformat_minor": 0
}
