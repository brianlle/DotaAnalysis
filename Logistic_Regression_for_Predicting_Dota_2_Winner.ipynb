{
 "cells": [
  {
   "cell_type": "code",
   "execution_count": 1,
   "metadata": {
    "collapsed": true
   },
   "outputs": [],
   "source": [
    "from __future__ import division\n",
    "import csv\n",
    "import numpy as np\n",
    "import pandas as pd\n",
    "import matplotlib\n",
    "import matplotlib.pyplot as plt\n",
    "import matplotlib.cm as cmx\n",
    "from mpl_toolkits.mplot3d import Axes3D\n",
    "import json\n",
    "import seaborn as sns\n",
    "import statsmodels.api as sm\n",
    "import statsmodels.formula.api as smf\n",
    "from sklearn.cross_validation import train_test_split\n",
    "import string\n",
    "import math\n",
    "from dota_function_definitions import create_dota_dataframe2"
   ]
  },
  {
   "cell_type": "code",
   "execution_count": 3,
   "metadata": {
    "collapsed": false
   },
   "outputs": [],
   "source": [
    "with open('automatchdetails.txt', 'r') as text:\n",
    "    dotaString = text.read()"
   ]
  },
  {
   "cell_type": "code",
   "execution_count": 4,
   "metadata": {
    "collapsed": true
   },
   "outputs": [],
   "source": [
    "with open('heroes.txt', mode='r') as infile:\n",
    "    reader = csv.reader(infile)\n",
    "    heroDict = {rows[0]:rows[1] for rows in reader}"
   ]
  },
  {
   "cell_type": "code",
   "execution_count": 5,
   "metadata": {
    "collapsed": true
   },
   "outputs": [],
   "source": [
    "dotaString = string.replace(dotaString, '][', ', ')\n",
    "matchDetailsJSON = json.loads(dotaString)"
   ]
  },
  {
   "cell_type": "code",
   "execution_count": 6,
   "metadata": {
    "collapsed": true
   },
   "outputs": [],
   "source": [
    "dotaFrame = create_dota_dataframe2(matchDetailsJSON)"
   ]
  },
  {
   "cell_type": "code",
   "execution_count": 7,
   "metadata": {
    "collapsed": false
   },
   "outputs": [
    {
     "data": {
      "text/plain": [
       "[<matplotlib.text.Text at 0x245f47dd8>,\n",
       " <matplotlib.text.Text at 0x245fc7748>,\n",
       " <matplotlib.text.Text at 0x1e3de6e80>]"
      ]
     },
     "execution_count": 7,
     "metadata": {},
     "output_type": "execute_result"
    },
    {
     "data": {
      "image/png": "[encoded data removed]",
      "text/plain": [
       "<matplotlib.figure.Figure at 0x245f9bd68>"
      ]
     },
     "metadata": {},
     "output_type": "display_data"
    }
   ],
   "source": [
    "%matplotlib inline\n",
    "ax = dotaFrame['Match Length (s)'].hist()\n",
    "ax.set(xlabel='Length (s)', ylabel='Count', title='Histogram of Match Lengths')"
   ]
  },
  {
   "cell_type": "markdown",
   "metadata": {},
   "source": [
    "We've now imported a fairly large number of matches into a pandas dataframe. From the above plot, the most played game modes are 1 (All Pick) and 22 (Ranked All Pick) which are the only two game modes where all ten players have complete freedom of choice in picking their hero. These two modes embody the chaos that is the 'draft' portion of public matchmaking Dota 2 game, so we will only look at matches for these two game modes in our model. We will also cut out any matches ending before 10 minutes as games that end that early tend to have some skewed factor such as a player abandoning the game early."
   ]
  },
  {
   "cell_type": "code",
   "execution_count": 8,
   "metadata": {
    "collapsed": true
   },
   "outputs": [],
   "source": [
    "dotaFrame = pd.concat([dotaFrame[dotaFrame['Game Mode']==1], dotaFrame[dotaFrame['Game Mode']==22]])\n",
    "dotaFrame = dotaFrame[dotaFrame['Match Length (s)']>599]"
   ]
  },
  {
   "cell_type": "markdown",
   "metadata": {},
   "source": [
    "There are 111 heroes currently in the game using hero IDs 1 to 113 (IDs 24 and 108 are unused for reasons unknown). To perform logistic regression, we will use 113 on/off switches for each team indicating whether or not that particular hero is present on the team in a game. Since the current dataframe records the hero for each particular player slot as opposed for just a particular team, we will combine the player slots for each team into a single dataframe cell. From there, we can use the get_dummies() function obtain our 226 switches."
   ]
  },
  {
   "cell_type": "code",
   "execution_count": 9,
   "metadata": {
    "collapsed": true
   },
   "outputs": [],
   "source": [
    "dotaFrame['Radiant']='R'+dotaFrame['Radiant 1'].map(str)+','+'R'+dotaFrame['Radiant 2'].map(str)+','+'R'+dotaFrame['Radiant 3'].map(str)+','+'R'+dotaFrame['Radiant 4'].map(str)+','+'R'+dotaFrame['Radiant 5'].map(str)\n",
    "dotaFrame['Dire']='D'+dotaFrame['Dire 1'].map(str)+','+'D'+dotaFrame['Dire 2'].map(str)+','+'D'+dotaFrame['Dire 3'].map(str)+','+'D'+dotaFrame['Dire 4'].map(str)+','+'D'+dotaFrame['Dire 5'].map(str)"
   ]
  },
  {
   "cell_type": "code",
   "execution_count": 10,
   "metadata": {
    "collapsed": false
   },
   "outputs": [],
   "source": [
    "dotaFrameLogitRadiant = dotaFrame['Radiant'].str.get_dummies(sep=',')\n",
    "dotaFrameLogitDire = dotaFrame['Dire'].str.get_dummies(sep=',')"
   ]
  },
  {
   "cell_type": "code",
   "execution_count": 11,
   "metadata": {
    "collapsed": true
   },
   "outputs": [],
   "source": [
    "dotaFrameLogit = dotaFrameLogitRadiant.join(dotaFrameLogitDire)\n",
    "dotaFrameLogit['Intercept']=1\n",
    "dotaFrameLogit['Radiant Win Y/N'] = dotaFrame['Radiant Win Y/N']"
   ]
  },
  {
   "cell_type": "markdown",
   "metadata": {},
   "source": [
    "We add an intercept term and the winning team information to the resultant dataframe. As seen below, all the data is now represented as 0s and 1s."
   ]
  },
  {
   "cell_type": "code",
   "execution_count": 12,
   "metadata": {
    "collapsed": false
   },
   "outputs": [
    {
     "data": {
      "text/html": [
       "<div>\n",
       "<table border=\"1\" class=\"dataframe\">\n",
       "  <thead>\n",
       "    <tr style=\"text-align: right;\">\n",
       "      <th></th>\n",
       "      <th>R1</th>\n",
       "      <th>R10</th>\n",
       "      <th>R100</th>\n",
       "      <th>R101</th>\n",
       "      <th>R102</th>\n",
       "      <th>R103</th>\n",
       "      <th>R104</th>\n",
       "      <th>R105</th>\n",
       "      <th>R106</th>\n",
       "      <th>R107</th>\n",
       "      <th>...</th>\n",
       "      <th>D92</th>\n",
       "      <th>D93</th>\n",
       "      <th>D94</th>\n",
       "      <th>D95</th>\n",
       "      <th>D96</th>\n",
       "      <th>D97</th>\n",
       "      <th>D98</th>\n",
       "      <th>D99</th>\n",
       "      <th>Intercept</th>\n",
       "      <th>Radiant Win Y/N</th>\n",
       "    </tr>\n",
       "  </thead>\n",
       "  <tbody>\n",
       "    <tr>\n",
       "      <th>2</th>\n",
       "      <td>0</td>\n",
       "      <td>0</td>\n",
       "      <td>0</td>\n",
       "      <td>0</td>\n",
       "      <td>0</td>\n",
       "      <td>0</td>\n",
       "      <td>1</td>\n",
       "      <td>0</td>\n",
       "      <td>0</td>\n",
       "      <td>0</td>\n",
       "      <td>...</td>\n",
       "      <td>0</td>\n",
       "      <td>0</td>\n",
       "      <td>0</td>\n",
       "      <td>0</td>\n",
       "      <td>0</td>\n",
       "      <td>0</td>\n",
       "      <td>0</td>\n",
       "      <td>0</td>\n",
       "      <td>1</td>\n",
       "      <td>True</td>\n",
       "    </tr>\n",
       "    <tr>\n",
       "      <th>5</th>\n",
       "      <td>0</td>\n",
       "      <td>0</td>\n",
       "      <td>0</td>\n",
       "      <td>0</td>\n",
       "      <td>0</td>\n",
       "      <td>0</td>\n",
       "      <td>0</td>\n",
       "      <td>0</td>\n",
       "      <td>0</td>\n",
       "      <td>0</td>\n",
       "      <td>...</td>\n",
       "      <td>0</td>\n",
       "      <td>0</td>\n",
       "      <td>0</td>\n",
       "      <td>0</td>\n",
       "      <td>0</td>\n",
       "      <td>0</td>\n",
       "      <td>0</td>\n",
       "      <td>0</td>\n",
       "      <td>1</td>\n",
       "      <td>False</td>\n",
       "    </tr>\n",
       "    <tr>\n",
       "      <th>6</th>\n",
       "      <td>1</td>\n",
       "      <td>0</td>\n",
       "      <td>0</td>\n",
       "      <td>0</td>\n",
       "      <td>0</td>\n",
       "      <td>0</td>\n",
       "      <td>0</td>\n",
       "      <td>0</td>\n",
       "      <td>0</td>\n",
       "      <td>0</td>\n",
       "      <td>...</td>\n",
       "      <td>0</td>\n",
       "      <td>0</td>\n",
       "      <td>0</td>\n",
       "      <td>0</td>\n",
       "      <td>0</td>\n",
       "      <td>0</td>\n",
       "      <td>0</td>\n",
       "      <td>0</td>\n",
       "      <td>1</td>\n",
       "      <td>True</td>\n",
       "    </tr>\n",
       "    <tr>\n",
       "      <th>10</th>\n",
       "      <td>0</td>\n",
       "      <td>1</td>\n",
       "      <td>0</td>\n",
       "      <td>0</td>\n",
       "      <td>0</td>\n",
       "      <td>0</td>\n",
       "      <td>0</td>\n",
       "      <td>0</td>\n",
       "      <td>0</td>\n",
       "      <td>0</td>\n",
       "      <td>...</td>\n",
       "      <td>0</td>\n",
       "      <td>0</td>\n",
       "      <td>0</td>\n",
       "      <td>0</td>\n",
       "      <td>0</td>\n",
       "      <td>0</td>\n",
       "      <td>0</td>\n",
       "      <td>0</td>\n",
       "      <td>1</td>\n",
       "      <td>False</td>\n",
       "    </tr>\n",
       "    <tr>\n",
       "      <th>14</th>\n",
       "      <td>0</td>\n",
       "      <td>0</td>\n",
       "      <td>0</td>\n",
       "      <td>0</td>\n",
       "      <td>0</td>\n",
       "      <td>0</td>\n",
       "      <td>0</td>\n",
       "      <td>0</td>\n",
       "      <td>0</td>\n",
       "      <td>0</td>\n",
       "      <td>...</td>\n",
       "      <td>0</td>\n",
       "      <td>0</td>\n",
       "      <td>0</td>\n",
       "      <td>0</td>\n",
       "      <td>0</td>\n",
       "      <td>0</td>\n",
       "      <td>0</td>\n",
       "      <td>0</td>\n",
       "      <td>1</td>\n",
       "      <td>True</td>\n",
       "    </tr>\n",
       "    <tr>\n",
       "      <th>17</th>\n",
       "      <td>0</td>\n",
       "      <td>0</td>\n",
       "      <td>0</td>\n",
       "      <td>0</td>\n",
       "      <td>0</td>\n",
       "      <td>0</td>\n",
       "      <td>0</td>\n",
       "      <td>0</td>\n",
       "      <td>0</td>\n",
       "      <td>0</td>\n",
       "      <td>...</td>\n",
       "      <td>0</td>\n",
       "      <td>0</td>\n",
       "      <td>0</td>\n",
       "      <td>0</td>\n",
       "      <td>0</td>\n",
       "      <td>0</td>\n",
       "      <td>0</td>\n",
       "      <td>0</td>\n",
       "      <td>1</td>\n",
       "      <td>False</td>\n",
       "    </tr>\n",
       "    <tr>\n",
       "      <th>21</th>\n",
       "      <td>0</td>\n",
       "      <td>1</td>\n",
       "      <td>0</td>\n",
       "      <td>0</td>\n",
       "      <td>0</td>\n",
       "      <td>0</td>\n",
       "      <td>0</td>\n",
       "      <td>0</td>\n",
       "      <td>0</td>\n",
       "      <td>0</td>\n",
       "      <td>...</td>\n",
       "      <td>0</td>\n",
       "      <td>0</td>\n",
       "      <td>0</td>\n",
       "      <td>0</td>\n",
       "      <td>0</td>\n",
       "      <td>0</td>\n",
       "      <td>0</td>\n",
       "      <td>0</td>\n",
       "      <td>1</td>\n",
       "      <td>False</td>\n",
       "    </tr>\n",
       "    <tr>\n",
       "      <th>25</th>\n",
       "      <td>0</td>\n",
       "      <td>0</td>\n",
       "      <td>0</td>\n",
       "      <td>1</td>\n",
       "      <td>0</td>\n",
       "      <td>0</td>\n",
       "      <td>0</td>\n",
       "      <td>0</td>\n",
       "      <td>0</td>\n",
       "      <td>0</td>\n",
       "      <td>...</td>\n",
       "      <td>0</td>\n",
       "      <td>0</td>\n",
       "      <td>0</td>\n",
       "      <td>0</td>\n",
       "      <td>0</td>\n",
       "      <td>0</td>\n",
       "      <td>0</td>\n",
       "      <td>0</td>\n",
       "      <td>1</td>\n",
       "      <td>True</td>\n",
       "    </tr>\n",
       "    <tr>\n",
       "      <th>35</th>\n",
       "      <td>0</td>\n",
       "      <td>0</td>\n",
       "      <td>0</td>\n",
       "      <td>0</td>\n",
       "      <td>0</td>\n",
       "      <td>0</td>\n",
       "      <td>0</td>\n",
       "      <td>1</td>\n",
       "      <td>0</td>\n",
       "      <td>0</td>\n",
       "      <td>...</td>\n",
       "      <td>0</td>\n",
       "      <td>0</td>\n",
       "      <td>0</td>\n",
       "      <td>0</td>\n",
       "      <td>0</td>\n",
       "      <td>0</td>\n",
       "      <td>0</td>\n",
       "      <td>0</td>\n",
       "      <td>1</td>\n",
       "      <td>False</td>\n",
       "    </tr>\n",
       "    <tr>\n",
       "      <th>37</th>\n",
       "      <td>0</td>\n",
       "      <td>0</td>\n",
       "      <td>0</td>\n",
       "      <td>0</td>\n",
       "      <td>0</td>\n",
       "      <td>0</td>\n",
       "      <td>1</td>\n",
       "      <td>0</td>\n",
       "      <td>0</td>\n",
       "      <td>0</td>\n",
       "      <td>...</td>\n",
       "      <td>0</td>\n",
       "      <td>0</td>\n",
       "      <td>0</td>\n",
       "      <td>0</td>\n",
       "      <td>0</td>\n",
       "      <td>0</td>\n",
       "      <td>0</td>\n",
       "      <td>0</td>\n",
       "      <td>1</td>\n",
       "      <td>False</td>\n",
       "    </tr>\n",
       "  </tbody>\n",
       "</table>\n",
       "<p>10 rows × 224 columns</p>\n",
       "</div>"
      ],
      "text/plain": [
       "    R1  R10  R100  R101  R102  R103  R104  R105  R106  R107       ...         \\\n",
       "2    0    0     0     0     0     0     1     0     0     0       ...          \n",
       "5    0    0     0     0     0     0     0     0     0     0       ...          \n",
       "6    1    0     0     0     0     0     0     0     0     0       ...          \n",
       "10   0    1     0     0     0     0     0     0     0     0       ...          \n",
       "14   0    0     0     0     0     0     0     0     0     0       ...          \n",
       "17   0    0     0     0     0     0     0     0     0     0       ...          \n",
       "21   0    1     0     0     0     0     0     0     0     0       ...          \n",
       "25   0    0     0     1     0     0     0     0     0     0       ...          \n",
       "35   0    0     0     0     0     0     0     1     0     0       ...          \n",
       "37   0    0     0     0     0     0     1     0     0     0       ...          \n",
       "\n",
       "    D92  D93  D94  D95  D96  D97  D98  D99  Intercept  Radiant Win Y/N  \n",
       "2     0    0    0    0    0    0    0    0          1             True  \n",
       "5     0    0    0    0    0    0    0    0          1            False  \n",
       "6     0    0    0    0    0    0    0    0          1             True  \n",
       "10    0    0    0    0    0    0    0    0          1            False  \n",
       "14    0    0    0    0    0    0    0    0          1             True  \n",
       "17    0    0    0    0    0    0    0    0          1            False  \n",
       "21    0    0    0    0    0    0    0    0          1            False  \n",
       "25    0    0    0    0    0    0    0    0          1             True  \n",
       "35    0    0    0    0    0    0    0    0          1            False  \n",
       "37    0    0    0    0    0    0    0    0          1            False  \n",
       "\n",
       "[10 rows x 224 columns]"
      ]
     },
     "execution_count": 12,
     "metadata": {},
     "output_type": "execute_result"
    }
   ],
   "source": [
    "dotaFrameLogit.head(10)"
   ]
  },
  {
   "cell_type": "markdown",
   "metadata": {},
   "source": [
    "We'll split the data into a training set and a testing set. The model will be fit to the training set, and then we will test the model's efficacy on the testing set."
   ]
  },
  {
   "cell_type": "code",
   "execution_count": 13,
   "metadata": {
    "collapsed": true
   },
   "outputs": [],
   "source": [
    "dotaFrameTrain, dotaFrameTest = train_test_split(dotaFrameLogit, test_size=0.25, random_state=0)"
   ]
  },
  {
   "cell_type": "code",
   "execution_count": 14,
   "metadata": {
    "collapsed": false
   },
   "outputs": [
    {
     "data": {
      "text/plain": [
       "40338"
      ]
     },
     "execution_count": 14,
     "metadata": {},
     "output_type": "execute_result"
    }
   ],
   "source": [
    "len(dotaFrameTrain)"
   ]
  },
  {
   "cell_type": "code",
   "execution_count": 15,
   "metadata": {
    "collapsed": false
   },
   "outputs": [
    {
     "data": {
      "text/plain": [
       "13447"
      ]
     },
     "execution_count": 15,
     "metadata": {},
     "output_type": "execute_result"
    }
   ],
   "source": [
    "len(dotaFrameTest)"
   ]
  },
  {
   "cell_type": "code",
   "execution_count": 16,
   "metadata": {
    "collapsed": true
   },
   "outputs": [],
   "source": [
    "trainColumn = list(dotaFrameLogit.columns.values)[0:-1]"
   ]
  },
  {
   "cell_type": "markdown",
   "metadata": {},
   "source": [
    "Here, we utilize statsmodels' logistic regression function Logit() to model our data."
   ]
  },
  {
   "cell_type": "code",
   "execution_count": 17,
   "metadata": {
    "collapsed": true
   },
   "outputs": [],
   "source": [
    "model = sm.Logit(dotaFrameTrain['Radiant Win Y/N'], dotaFrameTrain[trainColumn])"
   ]
  },
  {
   "cell_type": "code",
   "execution_count": 19,
   "metadata": {
    "collapsed": false
   },
   "outputs": [
    {
     "name": "stdout",
     "output_type": "stream",
     "text": [
      "Optimization terminated successfully.\n",
      "         Current function value: 0.623920\n",
      "         Iterations: 104\n",
      "         Function evaluations: 105\n",
      "         Gradient evaluations: 105\n"
     ]
    }
   ],
   "source": [
    "result = model.fit(method='bfgs', maxiter=200)"
   ]
  },
  {
   "cell_type": "code",
   "execution_count": 20,
   "metadata": {
    "collapsed": false
   },
   "outputs": [
    {
     "name": "stdout",
     "output_type": "stream",
     "text": [
      "                           Logit Regression Results                           \n",
      "==============================================================================\n",
      "Dep. Variable:        Radiant Win Y/N   No. Observations:                40338\n",
      "Model:                          Logit   Df Residuals:                    40117\n",
      "Method:                           MLE   Df Model:                          220\n",
      "Date:                Fri, 04 Mar 2016   Pseudo R-squ.:                 0.08831\n",
      "Time:                        10:37:54   Log-Likelihood:                -25168.\n",
      "converged:                       True   LL-Null:                       -27605.\n",
      "                                        LLR p-value:                     0.000\n",
      "==============================================================================\n",
      "                 coef    std err          z      P>|z|      [95.0% Conf. Int.]\n",
      "------------------------------------------------------------------------------\n",
      "R1            -0.5667        nan        nan        nan           nan       nan\n",
      "R10           -0.2107        nan        nan        nan           nan       nan\n",
      "R100           0.0474        nan        nan        nan           nan       nan\n",
      "R101          -0.0884        nan        nan        nan           nan       nan\n",
      "R102           0.4210        nan        nan        nan           nan       nan\n",
      "R103          -0.0399        nan        nan        nan           nan       nan\n",
      "R104          -0.1799        nan        nan        nan           nan       nan\n",
      "R105          -0.1882        nan        nan        nan           nan       nan\n",
      "R106          -0.2238        nan        nan        nan           nan       nan\n",
      "R107           0.1715        nan        nan        nan           nan       nan\n",
      "R109          -0.4043        nan        nan        nan           nan       nan\n",
      "R11           -0.4109        nan        nan        nan           nan       nan\n",
      "R110           0.0142        nan        nan        nan           nan       nan\n",
      "R111          -0.1287        nan        nan        nan           nan       nan\n",
      "R112          -0.1143        nan        nan        nan           nan       nan\n",
      "R113          -0.0677        nan        nan        nan           nan       nan\n",
      "R12           -0.2775        nan        nan        nan           nan       nan\n",
      "R13           -0.2827        nan        nan        nan           nan       nan\n",
      "R14            0.2866        nan        nan        nan           nan       nan\n",
      "R15           -0.2392        nan        nan        nan           nan       nan\n",
      "R16            0.1625        nan        nan        nan           nan       nan\n",
      "R17           -0.8475        nan        nan        nan           nan       nan\n",
      "R18           -0.0512        nan        nan        nan           nan       nan\n",
      "R19           -0.0934        nan        nan        nan           nan       nan\n",
      "R2            -0.3864        nan        nan        nan           nan       nan\n",
      "R20            0.4239        nan        nan        nan           nan       nan\n",
      "R21           -0.1850        nan        nan        nan           nan       nan\n",
      "R22            0.4308        nan        nan        nan           nan       nan\n",
      "R23           -0.0481        nan        nan        nan           nan       nan\n",
      "R25           -0.1155        nan        nan        nan           nan       nan\n",
      "R26            0.0236        nan        nan        nan           nan       nan\n",
      "R27            0.2786        nan        nan        nan           nan       nan\n",
      "R28            0.1583        nan        nan        nan           nan       nan\n",
      "R29            0.0632        nan        nan        nan           nan       nan\n",
      "R3             0.1150        nan        nan        nan           nan       nan\n",
      "R30            0.2888        nan        nan        nan           nan       nan\n",
      "R31            0.2964        nan        nan        nan           nan       nan\n",
      "R32            0.1743        nan        nan        nan           nan       nan\n",
      "R33            0.2610        nan        nan        nan           nan       nan\n",
      "R34           -0.1778        nan        nan        nan           nan       nan\n",
      "R35           -0.2793        nan        nan        nan           nan       nan\n",
      "R36            0.7043        nan        nan        nan           nan       nan\n",
      "R37            0.2180        nan        nan        nan           nan       nan\n",
      "R38            0.3563        nan        nan        nan           nan       nan\n",
      "R39           -0.3603        nan        nan        nan           nan       nan\n",
      "R4            -0.2123        nan        nan        nan           nan       nan\n",
      "R40            0.4157        nan        nan        nan           nan       nan\n",
      "R41            0.0370        nan        nan        nan           nan       nan\n",
      "R42           -0.0647        nan        nan        nan           nan       nan\n",
      "R43            0.1582        nan        nan        nan           nan       nan\n",
      "R44           -0.3746        nan        nan        nan           nan       nan\n",
      "R45            0.3939        nan        nan        nan           nan       nan\n",
      "R46            0.0377        nan        nan        nan           nan       nan\n",
      "R47            0.1338        nan        nan        nan           nan       nan\n",
      "R48            0.0082        nan        nan        nan           nan       nan\n",
      "R49           -0.2305        nan        nan        nan           nan       nan\n",
      "R5             0.3169        nan        nan        nan           nan       nan\n",
      "R50            0.3934        nan        nan        nan           nan       nan\n",
      "R51            0.0030        nan        nan        nan           nan       nan\n",
      "R52           -0.0965        nan        nan        nan           nan       nan\n",
      "R53           -0.0214        nan        nan        nan           nan       nan\n",
      "R54           -0.1256        nan        nan        nan           nan       nan\n",
      "R55            0.0182        nan        nan        nan           nan       nan\n",
      "R56            0.1127        nan        nan        nan           nan       nan\n",
      "R57            0.6250        nan        nan        nan           nan       nan\n",
      "R58            0.2175        nan        nan        nan           nan       nan\n",
      "R59           -0.0945        nan        nan        nan           nan       nan\n",
      "R6             0.1947        nan        nan        nan           nan       nan\n",
      "R60            0.2865        nan        nan        nan           nan       nan\n",
      "R61           -0.1665        nan        nan        nan           nan       nan\n",
      "R62            0.4873        nan        nan        nan           nan       nan\n",
      "R63            0.1161        nan        nan        nan           nan       nan\n",
      "R64            0.2803        nan        nan        nan           nan       nan\n",
      "R65           -0.1386        nan        nan        nan           nan       nan\n",
      "R66            0.4140        nan        nan        nan           nan       nan\n",
      "R67           -0.1406        nan        nan        nan           nan       nan\n",
      "R68           -0.1766        nan        nan        nan           nan       nan\n",
      "R69           -0.0044        nan        nan        nan           nan       nan\n",
      "R7             0.1143        nan        nan        nan           nan       nan\n",
      "R70            0.1849        nan        nan        nan           nan       nan\n",
      "R71            0.1611        nan        nan        nan           nan       nan\n",
      "R72           -0.1174        nan        nan        nan           nan       nan\n",
      "R73           -0.2323        nan        nan        nan           nan       nan\n",
      "R74            0.0837        nan        nan        nan           nan       nan\n",
      "R75            0.2792        nan        nan        nan           nan       nan\n",
      "R76            0.1037        nan        nan        nan           nan       nan\n",
      "R77            0.3134        nan        nan        nan           nan       nan\n",
      "R78           -0.1169        nan        nan        nan           nan       nan\n",
      "R79            0.0167        nan        nan        nan           nan       nan\n",
      "R8             0.0595        nan        nan        nan           nan       nan\n",
      "R80            0.0034        nan        nan        nan           nan       nan\n",
      "R81            0.0745        nan        nan        nan           nan       nan\n",
      "R82           -0.5946        nan        nan        nan           nan       nan\n",
      "R83            0.1684        nan        nan        nan           nan       nan\n",
      "R84            0.1875        nan        nan        nan           nan       nan\n",
      "R85            0.3386        nan        nan        nan           nan       nan\n",
      "R86            0.0165        nan        nan        nan           nan       nan\n",
      "R87            0.1129        nan        nan        nan           nan       nan\n",
      "R88            0.1972        nan        nan        nan           nan       nan\n",
      "R89           -0.7595        nan        nan        nan           nan       nan\n",
      "R9             0.2511        nan        nan        nan           nan       nan\n",
      "R90           -0.0007        nan        nan        nan           nan       nan\n",
      "R91           -0.1107        nan        nan        nan           nan       nan\n",
      "R92            0.2106        nan        nan        nan           nan       nan\n",
      "R93           -0.2803        nan        nan        nan           nan       nan\n",
      "R94           -0.1369        nan        nan        nan           nan       nan\n",
      "R95           -0.4440        nan        nan        nan           nan       nan\n",
      "R96           -0.2142        nan        nan        nan           nan       nan\n",
      "R97           -0.2465        nan        nan        nan           nan       nan\n",
      "R98           -0.4490        nan        nan        nan           nan       nan\n",
      "R99           -0.1998        nan        nan        nan           nan       nan\n",
      "D1             0.4580        nan        nan        nan           nan       nan\n",
      "D10            0.4154        nan        nan        nan           nan       nan\n",
      "D100           0.1000        nan        nan        nan           nan       nan\n",
      "D101           0.1020        nan        nan        nan           nan       nan\n",
      "D102          -0.4765        nan        nan        nan           nan       nan\n",
      "D103          -0.0145        nan        nan        nan           nan       nan\n",
      "D104           0.0061        nan        nan        nan           nan       nan\n",
      "D105           0.3794        nan        nan        nan           nan       nan\n",
      "D106           0.3946        nan        nan        nan           nan       nan\n",
      "D107          -0.2086        nan        nan        nan           nan       nan\n",
      "D109           0.2988        nan        nan        nan           nan       nan\n",
      "D11            0.4711        nan        nan        nan           nan       nan\n",
      "D110          -0.0508        nan        nan        nan           nan       nan\n",
      "D111           0.0099        nan        nan        nan           nan       nan\n",
      "D112          -0.1721        nan        nan        nan           nan       nan\n",
      "D113           0.0599        nan        nan        nan           nan       nan\n",
      "D12            0.3364        nan        nan        nan           nan       nan\n",
      "D13            0.2749        nan        nan        nan           nan       nan\n",
      "D14           -0.1523        nan        nan        nan           nan       nan\n",
      "D15            0.1532        nan        nan        nan           nan       nan\n",
      "D16           -0.0674        nan        nan        nan           nan       nan\n",
      "D17            0.6225        nan        nan        nan           nan       nan\n",
      "D18           -0.0461        nan        nan        nan           nan       nan\n",
      "D19            0.4432        nan        nan        nan           nan       nan\n",
      "D2             0.3278        nan        nan        nan           nan       nan\n",
      "D20           -0.3274        nan        nan        nan           nan       nan\n",
      "D21            0.2027        nan        nan        nan           nan       nan\n",
      "D22           -0.3203        nan        nan        nan           nan       nan\n",
      "D23           -0.0062        nan        nan        nan           nan       nan\n",
      "D25            0.2930        nan        nan        nan           nan       nan\n",
      "D26            0.0717        nan        nan        nan           nan       nan\n",
      "D27           -0.3387        nan        nan        nan           nan       nan\n",
      "D28           -0.1711        nan        nan        nan           nan       nan\n",
      "D29           -0.0881        nan        nan        nan           nan       nan\n",
      "D3             0.0466        nan        nan        nan           nan       nan\n",
      "D30           -0.2834        nan        nan        nan           nan       nan\n",
      "D31           -0.3338        nan        nan        nan           nan       nan\n",
      "D32            0.1032        nan        nan        nan           nan       nan\n",
      "D33           -0.3433        nan        nan        nan           nan       nan\n",
      "D34            0.1155        nan        nan        nan           nan       nan\n",
      "D35            0.3868        nan        nan        nan           nan       nan\n",
      "D36           -0.5209        nan        nan        nan           nan       nan\n",
      "D37           -0.2718        nan        nan        nan           nan       nan\n",
      "D38           -0.2247        nan        nan        nan           nan       nan\n",
      "D39            0.4178        nan        nan        nan           nan       nan\n",
      "D4             0.3974        nan        nan        nan           nan       nan\n",
      "D40           -0.2481        nan        nan        nan           nan       nan\n",
      "D41           -0.0322        nan        nan        nan           nan       nan\n",
      "D42            0.1264        nan        nan        nan           nan       nan\n",
      "D43           -0.0899        nan        nan        nan           nan       nan\n",
      "D44            0.3684        nan        nan        nan           nan       nan\n",
      "D45           -0.5091        nan        nan        nan           nan       nan\n",
      "D46            0.0479        nan        nan        nan           nan       nan\n",
      "D47           -0.0402        nan        nan        nan           nan       nan\n",
      "D48           -0.1256        nan        nan        nan           nan       nan\n",
      "D49            0.1423        nan        nan        nan           nan       nan\n",
      "D5            -0.3073        nan        nan        nan           nan       nan\n",
      "D50           -0.3795        nan        nan        nan           nan       nan\n",
      "D51            0.0005        nan        nan        nan           nan       nan\n",
      "D52            0.3518        nan        nan        nan           nan       nan\n",
      "D53           -0.0330        nan        nan        nan           nan       nan\n",
      "D54            0.2217        nan        nan        nan           nan       nan\n",
      "D55            0.0196        nan        nan        nan           nan       nan\n",
      "D56           -0.0943        nan        nan        nan           nan       nan\n",
      "D57           -0.6069        nan        nan        nan           nan       nan\n",
      "D58           -0.1339        nan        nan        nan           nan       nan\n",
      "D59            0.1597        nan        nan        nan           nan       nan\n",
      "D6            -0.2515        nan        nan        nan           nan       nan\n",
      "D60           -0.0720        nan        nan        nan           nan       nan\n",
      "D61            0.0954        nan        nan        nan           nan       nan\n",
      "D62           -0.4089        nan        nan        nan           nan       nan\n",
      "D63           -0.1371        nan        nan        nan           nan       nan\n",
      "D64           -0.1936        nan        nan        nan           nan       nan\n",
      "D65            0.1419        nan        nan        nan           nan       nan\n",
      "D66           -0.5558        nan        nan        nan           nan       nan\n",
      "D67            0.1443        nan        nan        nan           nan       nan\n",
      "D68            0.1323        nan        nan        nan           nan       nan\n",
      "D69           -0.0399        nan        nan        nan           nan       nan\n",
      "D7            -0.0370        nan        nan        nan           nan       nan\n",
      "D70           -0.2326        nan        nan        nan           nan       nan\n",
      "D71           -0.2684        nan        nan        nan           nan       nan\n",
      "D72            0.1189        nan        nan        nan           nan       nan\n",
      "D73            0.1663        nan        nan        nan           nan       nan\n",
      "D74            0.0206        nan        nan        nan           nan       nan\n",
      "D75           -0.1719        nan        nan        nan           nan       nan\n",
      "D76           -0.0854        nan        nan        nan           nan       nan\n",
      "D77           -0.3820        nan        nan        nan           nan       nan\n",
      "D78            0.0239        nan        nan        nan           nan       nan\n",
      "D79            0.1941        nan        nan        nan           nan       nan\n",
      "D8            -0.0372        nan        nan        nan           nan       nan\n",
      "D80           -0.0881        nan        nan        nan           nan       nan\n",
      "D81           -0.0798        nan        nan        nan           nan       nan\n",
      "D82            0.4965        nan        nan        nan           nan       nan\n",
      "D83           -0.1683        nan        nan        nan           nan       nan\n",
      "D84           -0.2424        nan        nan        nan           nan       nan\n",
      "D85           -0.3525        nan        nan        nan           nan       nan\n",
      "D86            0.0099        nan        nan        nan           nan       nan\n",
      "D87           -0.2355        nan        nan        nan           nan       nan\n",
      "D88           -0.0689        nan        nan        nan           nan       nan\n",
      "D89            0.5378        nan        nan        nan           nan       nan\n",
      "D9            -0.1813        nan        nan        nan           nan       nan\n",
      "D90           -0.1302        nan        nan        nan           nan       nan\n",
      "D91            0.0663        nan        nan        nan           nan       nan\n",
      "D92            0.0106        nan        nan        nan           nan       nan\n",
      "D93            0.2803        nan        nan        nan           nan       nan\n",
      "D94            0.1369        nan        nan        nan           nan       nan\n",
      "D95            0.2756        nan        nan        nan           nan       nan\n",
      "D96            0.0886        nan        nan        nan           nan       nan\n",
      "D97            0.2469        nan        nan        nan           nan       nan\n",
      "D98            0.4164        nan        nan        nan           nan       nan\n",
      "D99            0.2140        nan        nan        nan           nan       nan\n",
      "Intercept      0.1411   3.86e+05   3.66e-07      1.000     -7.56e+05  7.56e+05\n",
      "==============================================================================\n"
     ]
    }
   ],
   "source": [
    "print(result.summary())"
   ]
  },
  {
   "cell_type": "code",
   "execution_count": 21,
   "metadata": {
    "collapsed": false
   },
   "outputs": [],
   "source": [
    "trainingPrediction = result.pred_table()"
   ]
  },
  {
   "cell_type": "markdown",
   "metadata": {},
   "source": [
    "We can plot the confusion matrix to visualize how well the model does against the training set. Tested against the data used to form the model itself, it predicts ~57% of the matches successfully. Interestingly, the model seems to misinterpret Dire Wins as Radiant Wins more often than Radiant Wins as Dire Wins. The model seems to be much better at predicting Radiant wins in general, possibly because upon closer inspection, Radiant wins approximately 56.6% of the time and not a randomized coin flip 50% of the time."
   ]
  },
  {
   "cell_type": "code",
   "execution_count": 49,
   "metadata": {
    "collapsed": false
   },
   "outputs": [
    {
     "data": {
      "text/plain": [
       "<matplotlib.text.Text at 0x246f288d0>"
      ]
     },
     "execution_count": 49,
     "metadata": {},
     "output_type": "execute_result"
    },
    {
     "data": {
      "image/png": "[encoded data removed]",
      "text/plain": [
       "<matplotlib.figure.Figure at 0x246a148d0>"
      ]
     },
     "metadata": {},
     "output_type": "display_data"
    }
   ],
   "source": [
    "ax = sns.heatmap(trainingPrediction, annot = True, fmt = \".6g\", xticklabels = ['Dire W', 'Radiant W'], yticklabels = ['Dire W', 'Radiant W'])\n",
    "ax.set_title(\"Confusion Matrix\")"
   ]
  },
  {
   "cell_type": "code",
   "execution_count": 23,
   "metadata": {
    "collapsed": false
   },
   "outputs": [
    {
     "data": {
      "text/plain": [
       "0.56621547920075366"
      ]
     },
     "execution_count": 23,
     "metadata": {},
     "output_type": "execute_result"
    }
   ],
   "source": [
    "dotaFrameTrain['Radiant Win Y/N'].mean()    #percent of matches where Radiant won"
   ]
  },
  {
   "cell_type": "code",
   "execution_count": 24,
   "metadata": {
    "collapsed": false
   },
   "outputs": [],
   "source": [
    "ypred = result.predict(dotaFrameTest[trainColumn])"
   ]
  },
  {
   "cell_type": "code",
   "execution_count": 25,
   "metadata": {
    "collapsed": false
   },
   "outputs": [
    {
     "data": {
      "text/plain": [
       "array([ 0.76197321,  0.53596277,  0.56072973, ...,  0.77605855,\n",
       "        0.32010864,  0.63999713])"
      ]
     },
     "execution_count": 25,
     "metadata": {},
     "output_type": "execute_result"
    }
   ],
   "source": [
    "ypred"
   ]
  },
  {
   "cell_type": "code",
   "execution_count": 26,
   "metadata": {
    "collapsed": true
   },
   "outputs": [],
   "source": [
    "ypred = ypred.round().astype(int)    #convert probabilities to predicted win or loss for Radiant team"
   ]
  },
  {
   "cell_type": "code",
   "execution_count": 27,
   "metadata": {
    "collapsed": false
   },
   "outputs": [],
   "source": [
    "ytest = np.ravel(dotaFrameTest['Radiant Win Y/N']).astype(int)  #convert binary dataframe series to int numpy array for comparison"
   ]
  },
  {
   "cell_type": "code",
   "execution_count": 28,
   "metadata": {
    "collapsed": false
   },
   "outputs": [
    {
     "data": {
      "text/plain": [
       "array([1, 1, 1, ..., 1, 0, 1])"
      ]
     },
     "execution_count": 28,
     "metadata": {},
     "output_type": "execute_result"
    }
   ],
   "source": [
    "ypred"
   ]
  },
  {
   "cell_type": "code",
   "execution_count": 29,
   "metadata": {
    "collapsed": false
   },
   "outputs": [
    {
     "data": {
      "text/plain": [
       "array([1, 0, 1, ..., 0, 0, 0])"
      ]
     },
     "execution_count": 29,
     "metadata": {},
     "output_type": "execute_result"
    }
   ],
   "source": [
    "ytest"
   ]
  },
  {
   "cell_type": "code",
   "execution_count": 30,
   "metadata": {
    "collapsed": false
   },
   "outputs": [],
   "source": [
    "from sklearn.metrics import accuracy_score"
   ]
  },
  {
   "cell_type": "code",
   "execution_count": 31,
   "metadata": {
    "collapsed": false
   },
   "outputs": [
    {
     "data": {
      "text/plain": [
       "0.64133263925039041"
      ]
     },
     "execution_count": 31,
     "metadata": {},
     "output_type": "execute_result"
    }
   ],
   "source": [
    "accuracy_score(ypred, ytest)"
   ]
  },
  {
   "cell_type": "markdown",
   "metadata": {
    "collapsed": true
   },
   "source": [
    "Using this logistic regression model, there is a ~64% correct prediction rate on the test set."
   ]
  },
  {
   "cell_type": "code",
   "execution_count": null,
   "metadata": {
    "collapsed": true
   },
   "outputs": [],
   "source": []
  }
 ],
 "metadata": {
  "kernelspec": {
   "display_name": "Python 2",
   "language": "python",
   "name": "python2"
  },
  "language_info": {
   "codemirror_mode": {
    "name": "ipython",
    "version": 2
   },
   "file_extension": ".py",
   "mimetype": "text/x-python",
   "name": "python",
   "nbconvert_exporter": "python",
   "pygments_lexer": "ipython2",
   "version": "2.7.9"
  }
 },
 "nbformat": 4,
 "nbformat_minor": 0
}
