{
 "cells": [
  {
   "cell_type": "code",
   "execution_count": 4,
   "metadata": {
    "collapsed": true
   },
   "outputs": [],
   "source": [
    "import numpy as np\n",
    "import pandas as pd\n",
    "import matplotlib.pyplot as plt\n",
    "import json\n",
    "from __future__ import division"
   ]
  },
  {
   "cell_type": "code",
   "execution_count": 88,
   "metadata": {
    "collapsed": true
   },
   "outputs": [],
   "source": [
    "def create_dota_dataframe(matchDetailsList):\n",
    "    \n",
    "    '''\n",
    "    Takes in list of match detail json strings and converts\n",
    "    into a pandas dataframe for easier statistical manipulation\n",
    "    '''\n",
    "\n",
    "    playerID = []                 #initialize lists for stats of interest\n",
    "    playerSlot = []\n",
    "    playerKills = []\n",
    "    playerDeaths = []\n",
    "    playerAssists = []\n",
    "    playerGPM = []\n",
    "    playerXPM = []\n",
    "    playerHeroDamage = []\n",
    "    playerTowerDamage = []\n",
    "    playerLevel = []\n",
    "    playerHeroID = []\n",
    "    gameWonStatus = []\n",
    "    matchID = []\n",
    "    matchLength = []\n",
    "    matchCounter = []\n",
    "\n",
    "    for match in matchDetailsList:    #construct lists\n",
    "        for player in match['result']['players']:\n",
    "            playerID.append(player['account_id'])\n",
    "            playerSlot.append(player['player_slot'])\n",
    "            playerKills.append(player['kills'])\n",
    "            playerDeaths.append(player['deaths'])\n",
    "            playerAssists.append(player['assists'])\n",
    "            playerGPM.append(player['gold_per_min'])\n",
    "            playerXPM.append(player['xp_per_min'])\n",
    "            playerHeroDamage.append(player['hero_damage'])\n",
    "            playerTowerDamage.append(player['tower_damage'])\n",
    "            playerLevel.append(player['level'])\n",
    "            playerHeroID.append(player['hero_id'])\n",
    "        \n",
    "            if ((player['player_slot'] == 0) or (player['player_slot'] == 1) or (player['player_slot'] == 2) or (player['player_slot'] == 3) or (player['player_slot'] == 4)) and match['result']['radiant_win'] == True:\n",
    "                gameWonStatus.append(1)\n",
    "            elif ((player['player_slot'] == 128) or (player['player_slot'] == 129) or (player['player_slot'] == 130) or (player['player_slot'] == 131) or (player['player_slot'] == 132)) and match['result']['radiant_win'] == False:\n",
    "                gameWonStatus.append(1)\n",
    "            else:\n",
    "                gameWonStatus.append(0)\n",
    "            matchID.append(match['result']['match_id'])\n",
    "            matchLength.append(match['result']['duration'])\n",
    "            matchCounter.append(1)\n",
    "\n",
    "    #construct dictionary to build data frame\n",
    "    referenceDict = {'Player ID': playerID, 'Player Slot': playerSlot, 'Kills': playerKills, 'Deaths': playerDeaths, 'Assists': playerAssists, 'GPM': playerGPM, 'XPM': playerXPM, 'Hero Damage': playerHeroDamage, 'Tower Damage': playerTowerDamage, 'Level': playerLevel, 'Hero ID': playerHeroID, 'Win Y/N': gameWonStatus, 'Match ID': matchID, 'Match Length (s)': matchLength, 'Match Counter': matchCounter}\n",
    "    dataFrameSummary = pd.DataFrame(data=referenceDict)\n",
    "\n",
    "    return dataFrameSummary"
   ]
  },
  {
   "cell_type": "code",
   "execution_count": 35,
   "metadata": {
    "collapsed": true
   },
   "outputs": [],
   "source": [
    "def bin_win_rate(dataframe, numberbins):\n",
    "    dfMin = dataframe['Match Length (s)'].min()\n",
    "    dfMax = dataframe['Match Length (s)'].max()\n",
    "    binlength = (dfMax-dfMin)/numberbins\n",
    "    matchLength = []\n",
    "    winRate = []\n",
    "    \n",
    "    for x in range (0, numberbins):\n",
    "        matchLength.append(dfMin+binlength*(2*x+1)/2)\n",
    "        tempDF = dataframe[dataframe['Match Length (s)']>(dfMin+x*binlength)]\n",
    "        tempDF = tempDF [tempDF['Match Length (s)']<=(dfMin+(x+1)*binlength)]\n",
    "        if tempDF['Match Counter'].sum() != 0:  \n",
    "            winRate.append(tempDF['Win Y/N'].sum()/tempDF['Match Counter'].sum())\n",
    "        else:\n",
    "            winRate.append(0)\n",
    "        \n",
    "    return matchLength, winRate  "
   ]
  },
  {
   "cell_type": "code",
   "execution_count": 86,
   "metadata": {
    "collapsed": false
   },
   "outputs": [],
   "source": [
    "with open('matchdetails.txt', 'r') as text:\n",
    "    matchDetailsJSON = json.load(text)"
   ]
  },
  {
   "cell_type": "code",
   "execution_count": 89,
   "metadata": {
    "collapsed": false
   },
   "outputs": [],
   "source": [
    "df = create_dota_dataframe(matchDetailsJSON)"
   ]
  },
  {
   "cell_type": "code",
   "execution_count": 34,
   "metadata": {
    "collapsed": false
   },
   "outputs": [],
   "source": [
    "%matplotlib inline"
   ]
  },
  {
   "cell_type": "code",
   "execution_count": 91,
   "metadata": {
    "collapsed": true
   },
   "outputs": [],
   "source": [
    "chocoDF = df[df['Player ID']==46667982]"
   ]
  },
  {
   "cell_type": "code",
   "execution_count": 68,
   "metadata": {
    "collapsed": false
   },
   "outputs": [
    {
     "data": {
      "text/plain": [
       "array([[<matplotlib.axes._subplots.AxesSubplot object at 0x0000000055B25B00>]], dtype=object)"
      ]
     },
     "execution_count": 68,
     "metadata": {},
     "output_type": "execute_result"
    },
    {
     "data": {
      "image/png": "[encoded data removed]",
      "text/plain": [
       "<matplotlib.figure.Figure at 0x55b117f0>"
      ]
     },
     "metadata": {},
     "output_type": "display_data"
    }
   ],
   "source": [
    "chocoDF.hist(column='Match Length (s)', bins=20)"
   ]
  },
  {
   "cell_type": "code",
   "execution_count": 37,
   "metadata": {
    "collapsed": true
   },
   "outputs": [],
   "source": [
    "meepo = chocoDF[chocoDF['Hero ID']==82]"
   ]
  },
  {
   "cell_type": "code",
   "execution_count": 45,
   "metadata": {
    "collapsed": false
   },
   "outputs": [],
   "source": [
    "wr_x, wr_y = bin_win_rate(meepo, 10)"
   ]
  },
  {
   "cell_type": "code",
   "execution_count": 56,
   "metadata": {
    "collapsed": false
   },
   "outputs": [
    {
     "data": {
      "text/plain": [
       "<Container object of 10 artists>"
      ]
     },
     "execution_count": 56,
     "metadata": {},
     "output_type": "execute_result"
    },
    {
     "data": {
      "image/png": "[encoded data removed]",
      "text/plain": [
       "<matplotlib.figure.Figure at 0xfccab70>"
      ]
     },
     "metadata": {},
     "output_type": "display_data"
    }
   ],
   "source": [
    "plt.bar(wr_x,wr_y,width=480)"
   ]
  },
  {
   "cell_type": "code",
   "execution_count": 57,
   "metadata": {
    "collapsed": false
   },
   "outputs": [],
   "source": [
    "antimage = chocoDF[chocoDF['Hero ID']==1]"
   ]
  },
  {
   "cell_type": "code",
   "execution_count": 58,
   "metadata": {
    "collapsed": true
   },
   "outputs": [],
   "source": [
    "wr_x2, wr_y2 = bin_win_rate(antimage, 10)"
   ]
  },
  {
   "cell_type": "code",
   "execution_count": 60,
   "metadata": {
    "collapsed": false
   },
   "outputs": [
    {
     "data": {
      "text/plain": [
       "<Container object of 10 artists>"
      ]
     },
     "execution_count": 60,
     "metadata": {},
     "output_type": "execute_result"
    },
    {
     "data": {
      "image/png": "[encoded data removed]",
      "text/plain": [
       "<matplotlib.figure.Figure at 0x55329128>"
      ]
     },
     "metadata": {},
     "output_type": "display_data"
    }
   ],
   "source": [
    "plt.bar(wr_x2,wr_y2,width=200)"
   ]
  },
  {
   "cell_type": "code",
   "execution_count": 61,
   "metadata": {
    "collapsed": true
   },
   "outputs": [],
   "source": [
    "medusa = chocoDF[chocoDF['Hero ID']==94]"
   ]
  },
  {
   "cell_type": "code",
   "execution_count": 62,
   "metadata": {
    "collapsed": true
   },
   "outputs": [],
   "source": [
    "wr_x3, wr_y3 = bin_win_rate(medusa, 10)"
   ]
  },
  {
   "cell_type": "code",
   "execution_count": 63,
   "metadata": {
    "collapsed": false
   },
   "outputs": [
    {
     "data": {
      "text/plain": [
       "<Container object of 10 artists>"
      ]
     },
     "execution_count": 63,
     "metadata": {},
     "output_type": "execute_result"
    },
    {
     "data": {
      "image/png": "[encoded data removed]",
      "text/plain": [
       "<matplotlib.figure.Figure at 0x55654e80>"
      ]
     },
     "metadata": {},
     "output_type": "display_data"
    }
   ],
   "source": [
    "plt.bar(wr_x3,wr_y3,width=200)"
   ]
  },
  {
   "cell_type": "code",
   "execution_count": 64,
   "metadata": {
    "collapsed": true
   },
   "outputs": [],
   "source": [
    "chen = chocoDF[chocoDF['Hero ID']==66]"
   ]
  },
  {
   "cell_type": "code",
   "execution_count": 65,
   "metadata": {
    "collapsed": true
   },
   "outputs": [],
   "source": [
    "wr_x3, wr_y3 = bin_win_rate(chen, 10)"
   ]
  },
  {
   "cell_type": "code",
   "execution_count": 66,
   "metadata": {
    "collapsed": false
   },
   "outputs": [
    {
     "data": {
      "text/plain": [
       "<Container object of 10 artists>"
      ]
     },
     "execution_count": 66,
     "metadata": {},
     "output_type": "execute_result"
    },
    {
     "data": {
      "image/png": "[encoded data removed]",
      "text/plain": [
       "<matplotlib.figure.Figure at 0x559ef898>"
      ]
     },
     "metadata": {},
     "output_type": "display_data"
    }
   ],
   "source": [
    "plt.bar(wr_x3,wr_y3,width=200)"
   ]
  },
  {
   "cell_type": "code",
   "execution_count": 67,
   "metadata": {
    "collapsed": false
   },
   "outputs": [
    {
     "data": {
      "text/plain": [
       "23"
      ]
     },
     "execution_count": 67,
     "metadata": {},
     "output_type": "execute_result"
    }
   ],
   "source": [
    "len(chen)"
   ]
  },
  {
   "cell_type": "code",
   "execution_count": 76,
   "metadata": {
    "collapsed": false
   },
   "outputs": [
    {
     "data": {
      "text/plain": [
       "array([[<matplotlib.axes._subplots.AxesSubplot object at 0x0000000057433AC8>]], dtype=object)"
      ]
     },
     "execution_count": 76,
     "metadata": {},
     "output_type": "execute_result"
    },
    {
     "data": {
      "image/png": "[encoded data removed]",
      "text/plain": [
       "<matplotlib.figure.Figure at 0x5758dfd0>"
      ]
     },
     "metadata": {},
     "output_type": "display_data"
    }
   ],
   "source": [
    "chocoDF[chocoDF['Player Slot']<5].hist(column='Player Slot', bins=5)"
   ]
  },
  {
   "cell_type": "code",
   "execution_count": 77,
   "metadata": {
    "collapsed": false
   },
   "outputs": [
    {
     "data": {
      "text/html": [
       "<div>\n",
       "<table border=\"1\" class=\"dataframe\">\n",
       "  <thead>\n",
       "    <tr style=\"text-align: right;\">\n",
       "      <th></th>\n",
       "      <th>Assists</th>\n",
       "      <th>Deaths</th>\n",
       "      <th>GPM</th>\n",
       "      <th>Hero ID</th>\n",
       "      <th>Kills</th>\n",
       "      <th>Match Counter</th>\n",
       "      <th>Match ID</th>\n",
       "      <th>Match Length (s)</th>\n",
       "      <th>Player ID</th>\n",
       "      <th>Win Y/N</th>\n",
       "      <th>XPM</th>\n",
       "    </tr>\n",
       "    <tr>\n",
       "      <th>Player Slot</th>\n",
       "      <th></th>\n",
       "      <th></th>\n",
       "      <th></th>\n",
       "      <th></th>\n",
       "      <th></th>\n",
       "      <th></th>\n",
       "      <th></th>\n",
       "      <th></th>\n",
       "      <th></th>\n",
       "      <th></th>\n",
       "      <th></th>\n",
       "    </tr>\n",
       "  </thead>\n",
       "  <tbody>\n",
       "    <tr>\n",
       "      <th>0</th>\n",
       "      <td>5599</td>\n",
       "      <td>3184</td>\n",
       "      <td>244582</td>\n",
       "      <td>26919</td>\n",
       "      <td>3804</td>\n",
       "      <td>524</td>\n",
       "      <td>498005713832</td>\n",
       "      <td>1262579</td>\n",
       "      <td>24454022568</td>\n",
       "      <td>304</td>\n",
       "      <td>253969</td>\n",
       "    </tr>\n",
       "    <tr>\n",
       "      <th>1</th>\n",
       "      <td>3159</td>\n",
       "      <td>1770</td>\n",
       "      <td>131789</td>\n",
       "      <td>14559</td>\n",
       "      <td>2188</td>\n",
       "      <td>291</td>\n",
       "      <td>212402096731</td>\n",
       "      <td>675868</td>\n",
       "      <td>13580382762</td>\n",
       "      <td>164</td>\n",
       "      <td>135077</td>\n",
       "    </tr>\n",
       "    <tr>\n",
       "      <th>2</th>\n",
       "      <td>2301</td>\n",
       "      <td>1290</td>\n",
       "      <td>104415</td>\n",
       "      <td>12298</td>\n",
       "      <td>1722</td>\n",
       "      <td>228</td>\n",
       "      <td>145801951472</td>\n",
       "      <td>523207</td>\n",
       "      <td>10640299896</td>\n",
       "      <td>129</td>\n",
       "      <td>105853</td>\n",
       "    </tr>\n",
       "    <tr>\n",
       "      <th>3</th>\n",
       "      <td>1896</td>\n",
       "      <td>1031</td>\n",
       "      <td>80161</td>\n",
       "      <td>9513</td>\n",
       "      <td>1266</td>\n",
       "      <td>179</td>\n",
       "      <td>112340866461</td>\n",
       "      <td>408411</td>\n",
       "      <td>8353568778</td>\n",
       "      <td>106</td>\n",
       "      <td>85510</td>\n",
       "    </tr>\n",
       "    <tr>\n",
       "      <th>4</th>\n",
       "      <td>1678</td>\n",
       "      <td>968</td>\n",
       "      <td>67458</td>\n",
       "      <td>7773</td>\n",
       "      <td>1168</td>\n",
       "      <td>163</td>\n",
       "      <td>120313302781</td>\n",
       "      <td>377178</td>\n",
       "      <td>7606881066</td>\n",
       "      <td>86</td>\n",
       "      <td>73311</td>\n",
       "    </tr>\n",
       "    <tr>\n",
       "      <th>128</th>\n",
       "      <td>8724</td>\n",
       "      <td>4318</td>\n",
       "      <td>401263</td>\n",
       "      <td>41695</td>\n",
       "      <td>6554</td>\n",
       "      <td>818</td>\n",
       "      <td>758599736172</td>\n",
       "      <td>1853831</td>\n",
       "      <td>38174409276</td>\n",
       "      <td>570</td>\n",
       "      <td>426563</td>\n",
       "    </tr>\n",
       "    <tr>\n",
       "      <th>129</th>\n",
       "      <td>3937</td>\n",
       "      <td>1925</td>\n",
       "      <td>174903</td>\n",
       "      <td>20035</td>\n",
       "      <td>3026</td>\n",
       "      <td>373</td>\n",
       "      <td>305736901284</td>\n",
       "      <td>841582</td>\n",
       "      <td>17407157286</td>\n",
       "      <td>245</td>\n",
       "      <td>192855</td>\n",
       "    </tr>\n",
       "    <tr>\n",
       "      <th>130</th>\n",
       "      <td>3575</td>\n",
       "      <td>1772</td>\n",
       "      <td>151997</td>\n",
       "      <td>18335</td>\n",
       "      <td>2576</td>\n",
       "      <td>340</td>\n",
       "      <td>228049382458</td>\n",
       "      <td>763612</td>\n",
       "      <td>15867113880</td>\n",
       "      <td>209</td>\n",
       "      <td>168160</td>\n",
       "    </tr>\n",
       "    <tr>\n",
       "      <th>131</th>\n",
       "      <td>3000</td>\n",
       "      <td>1562</td>\n",
       "      <td>127887</td>\n",
       "      <td>14927</td>\n",
       "      <td>2275</td>\n",
       "      <td>286</td>\n",
       "      <td>211644352602</td>\n",
       "      <td>655740</td>\n",
       "      <td>13347042852</td>\n",
       "      <td>179</td>\n",
       "      <td>141484</td>\n",
       "    </tr>\n",
       "    <tr>\n",
       "      <th>132</th>\n",
       "      <td>2348</td>\n",
       "      <td>1165</td>\n",
       "      <td>99565</td>\n",
       "      <td>10815</td>\n",
       "      <td>1743</td>\n",
       "      <td>215</td>\n",
       "      <td>157503319628</td>\n",
       "      <td>501948</td>\n",
       "      <td>10033616130</td>\n",
       "      <td>138</td>\n",
       "      <td>111516</td>\n",
       "    </tr>\n",
       "  </tbody>\n",
       "</table>\n",
       "</div>"
      ],
      "text/plain": [
       "             Assists  Deaths     GPM  Hero ID  Kills  Match Counter  \\\n",
       "Player Slot                                                           \n",
       "0               5599    3184  244582    26919   3804            524   \n",
       "1               3159    1770  131789    14559   2188            291   \n",
       "2               2301    1290  104415    12298   1722            228   \n",
       "3               1896    1031   80161     9513   1266            179   \n",
       "4               1678     968   67458     7773   1168            163   \n",
       "128             8724    4318  401263    41695   6554            818   \n",
       "129             3937    1925  174903    20035   3026            373   \n",
       "130             3575    1772  151997    18335   2576            340   \n",
       "131             3000    1562  127887    14927   2275            286   \n",
       "132             2348    1165   99565    10815   1743            215   \n",
       "\n",
       "                 Match ID  Match Length (s)    Player ID  Win Y/N     XPM  \n",
       "Player Slot                                                                \n",
       "0            498005713832           1262579  24454022568      304  253969  \n",
       "1            212402096731            675868  13580382762      164  135077  \n",
       "2            145801951472            523207  10640299896      129  105853  \n",
       "3            112340866461            408411   8353568778      106   85510  \n",
       "4            120313302781            377178   7606881066       86   73311  \n",
       "128          758599736172           1853831  38174409276      570  426563  \n",
       "129          305736901284            841582  17407157286      245  192855  \n",
       "130          228049382458            763612  15867113880      209  168160  \n",
       "131          211644352602            655740  13347042852      179  141484  \n",
       "132          157503319628            501948  10033616130      138  111516  "
      ]
     },
     "execution_count": 77,
     "metadata": {},
     "output_type": "execute_result"
    }
   ],
   "source": [
    "chocoDF.groupby('Player Slot').sum()"
   ]
  },
  {
   "cell_type": "code",
   "execution_count": 80,
   "metadata": {
    "collapsed": true
   },
   "outputs": [],
   "source": [
    "grouped = chocoDF.groupby('Player Slot')"
   ]
  },
  {
   "cell_type": "code",
   "execution_count": 83,
   "metadata": {
    "collapsed": false
   },
   "outputs": [
    {
     "data": {
      "text/html": [
       "<div>\n",
       "<table border=\"1\" class=\"dataframe\">\n",
       "  <thead>\n",
       "    <tr>\n",
       "      <th></th>\n",
       "      <th colspan=\"3\" halign=\"left\">Assists</th>\n",
       "      <th colspan=\"3\" halign=\"left\">Deaths</th>\n",
       "      <th colspan=\"3\" halign=\"left\">GPM</th>\n",
       "      <th>Hero ID</th>\n",
       "      <th>...</th>\n",
       "      <th>Match Length (s)</th>\n",
       "      <th colspan=\"3\" halign=\"left\">Player ID</th>\n",
       "      <th colspan=\"3\" halign=\"left\">Win Y/N</th>\n",
       "      <th colspan=\"3\" halign=\"left\">XPM</th>\n",
       "    </tr>\n",
       "    <tr>\n",
       "      <th></th>\n",
       "      <th>sum</th>\n",
       "      <th>mean</th>\n",
       "      <th>std</th>\n",
       "      <th>sum</th>\n",
       "      <th>mean</th>\n",
       "      <th>std</th>\n",
       "      <th>sum</th>\n",
       "      <th>mean</th>\n",
       "      <th>std</th>\n",
       "      <th>sum</th>\n",
       "      <th>...</th>\n",
       "      <th>std</th>\n",
       "      <th>sum</th>\n",
       "      <th>mean</th>\n",
       "      <th>std</th>\n",
       "      <th>sum</th>\n",
       "      <th>mean</th>\n",
       "      <th>std</th>\n",
       "      <th>sum</th>\n",
       "      <th>mean</th>\n",
       "      <th>std</th>\n",
       "    </tr>\n",
       "    <tr>\n",
       "      <th>Player Slot</th>\n",
       "      <th></th>\n",
       "      <th></th>\n",
       "      <th></th>\n",
       "      <th></th>\n",
       "      <th></th>\n",
       "      <th></th>\n",
       "      <th></th>\n",
       "      <th></th>\n",
       "      <th></th>\n",
       "      <th></th>\n",
       "      <th></th>\n",
       "      <th></th>\n",
       "      <th></th>\n",
       "      <th></th>\n",
       "      <th></th>\n",
       "      <th></th>\n",
       "      <th></th>\n",
       "      <th></th>\n",
       "      <th></th>\n",
       "      <th></th>\n",
       "      <th></th>\n",
       "    </tr>\n",
       "  </thead>\n",
       "  <tbody>\n",
       "    <tr>\n",
       "      <th>0</th>\n",
       "      <td>5599</td>\n",
       "      <td>10.685115</td>\n",
       "      <td>6.109743</td>\n",
       "      <td>3184</td>\n",
       "      <td>6.076336</td>\n",
       "      <td>3.617714</td>\n",
       "      <td>244582</td>\n",
       "      <td>466.759542</td>\n",
       "      <td>222.662808</td>\n",
       "      <td>26919</td>\n",
       "      <td>...</td>\n",
       "      <td>778.630207</td>\n",
       "      <td>24454022568</td>\n",
       "      <td>46667982</td>\n",
       "      <td>5.266868</td>\n",
       "      <td>304</td>\n",
       "      <td>0.580153</td>\n",
       "      <td>0.494005</td>\n",
       "      <td>253969</td>\n",
       "      <td>484.673664</td>\n",
       "      <td>165.077369</td>\n",
       "    </tr>\n",
       "    <tr>\n",
       "      <th>1</th>\n",
       "      <td>3159</td>\n",
       "      <td>10.855670</td>\n",
       "      <td>6.369631</td>\n",
       "      <td>1770</td>\n",
       "      <td>6.082474</td>\n",
       "      <td>3.476036</td>\n",
       "      <td>131789</td>\n",
       "      <td>452.883162</td>\n",
       "      <td>237.877033</td>\n",
       "      <td>14559</td>\n",
       "      <td>...</td>\n",
       "      <td>795.323833</td>\n",
       "      <td>13580382762</td>\n",
       "      <td>46667982</td>\n",
       "      <td>1.393364</td>\n",
       "      <td>164</td>\n",
       "      <td>0.563574</td>\n",
       "      <td>0.496796</td>\n",
       "      <td>135077</td>\n",
       "      <td>464.182131</td>\n",
       "      <td>172.028159</td>\n",
       "    </tr>\n",
       "    <tr>\n",
       "      <th>2</th>\n",
       "      <td>2301</td>\n",
       "      <td>10.092105</td>\n",
       "      <td>5.877256</td>\n",
       "      <td>1290</td>\n",
       "      <td>5.657895</td>\n",
       "      <td>3.311518</td>\n",
       "      <td>104415</td>\n",
       "      <td>457.960526</td>\n",
       "      <td>256.708792</td>\n",
       "      <td>12298</td>\n",
       "      <td>...</td>\n",
       "      <td>765.049018</td>\n",
       "      <td>10640299896</td>\n",
       "      <td>46667982</td>\n",
       "      <td>NaN</td>\n",
       "      <td>129</td>\n",
       "      <td>0.565789</td>\n",
       "      <td>0.496743</td>\n",
       "      <td>105853</td>\n",
       "      <td>464.267544</td>\n",
       "      <td>179.842891</td>\n",
       "    </tr>\n",
       "    <tr>\n",
       "      <th>3</th>\n",
       "      <td>1896</td>\n",
       "      <td>10.592179</td>\n",
       "      <td>6.191345</td>\n",
       "      <td>1031</td>\n",
       "      <td>5.759777</td>\n",
       "      <td>3.380937</td>\n",
       "      <td>80161</td>\n",
       "      <td>447.826816</td>\n",
       "      <td>194.535107</td>\n",
       "      <td>9513</td>\n",
       "      <td>...</td>\n",
       "      <td>663.498304</td>\n",
       "      <td>8353568778</td>\n",
       "      <td>46667982</td>\n",
       "      <td>NaN</td>\n",
       "      <td>106</td>\n",
       "      <td>0.592179</td>\n",
       "      <td>0.492808</td>\n",
       "      <td>85510</td>\n",
       "      <td>477.709497</td>\n",
       "      <td>186.498018</td>\n",
       "    </tr>\n",
       "    <tr>\n",
       "      <th>4</th>\n",
       "      <td>1678</td>\n",
       "      <td>10.294479</td>\n",
       "      <td>5.953454</td>\n",
       "      <td>968</td>\n",
       "      <td>5.938650</td>\n",
       "      <td>3.274845</td>\n",
       "      <td>67458</td>\n",
       "      <td>413.852761</td>\n",
       "      <td>219.224031</td>\n",
       "      <td>7773</td>\n",
       "      <td>...</td>\n",
       "      <td>620.834922</td>\n",
       "      <td>7606881066</td>\n",
       "      <td>46667982</td>\n",
       "      <td>NaN</td>\n",
       "      <td>86</td>\n",
       "      <td>0.527607</td>\n",
       "      <td>0.500776</td>\n",
       "      <td>73311</td>\n",
       "      <td>449.760736</td>\n",
       "      <td>167.156903</td>\n",
       "    </tr>\n",
       "    <tr>\n",
       "      <th>128</th>\n",
       "      <td>8724</td>\n",
       "      <td>10.665037</td>\n",
       "      <td>5.827405</td>\n",
       "      <td>4318</td>\n",
       "      <td>5.278729</td>\n",
       "      <td>3.379043</td>\n",
       "      <td>401263</td>\n",
       "      <td>490.541565</td>\n",
       "      <td>163.768768</td>\n",
       "      <td>41695</td>\n",
       "      <td>...</td>\n",
       "      <td>733.641602</td>\n",
       "      <td>38174409276</td>\n",
       "      <td>46667982</td>\n",
       "      <td>6.262998</td>\n",
       "      <td>570</td>\n",
       "      <td>0.696822</td>\n",
       "      <td>0.459913</td>\n",
       "      <td>426563</td>\n",
       "      <td>521.470660</td>\n",
       "      <td>171.511681</td>\n",
       "    </tr>\n",
       "    <tr>\n",
       "      <th>129</th>\n",
       "      <td>3937</td>\n",
       "      <td>10.554960</td>\n",
       "      <td>5.946021</td>\n",
       "      <td>1925</td>\n",
       "      <td>5.160858</td>\n",
       "      <td>3.447903</td>\n",
       "      <td>174903</td>\n",
       "      <td>468.908847</td>\n",
       "      <td>155.536903</td>\n",
       "      <td>20035</td>\n",
       "      <td>...</td>\n",
       "      <td>806.292751</td>\n",
       "      <td>17407157286</td>\n",
       "      <td>46667982</td>\n",
       "      <td>3.826440</td>\n",
       "      <td>245</td>\n",
       "      <td>0.656836</td>\n",
       "      <td>0.475403</td>\n",
       "      <td>192855</td>\n",
       "      <td>517.037534</td>\n",
       "      <td>201.506660</td>\n",
       "    </tr>\n",
       "    <tr>\n",
       "      <th>130</th>\n",
       "      <td>3575</td>\n",
       "      <td>10.514706</td>\n",
       "      <td>6.177064</td>\n",
       "      <td>1772</td>\n",
       "      <td>5.211765</td>\n",
       "      <td>3.419859</td>\n",
       "      <td>151997</td>\n",
       "      <td>447.050000</td>\n",
       "      <td>163.632657</td>\n",
       "      <td>18335</td>\n",
       "      <td>...</td>\n",
       "      <td>738.230316</td>\n",
       "      <td>15867113880</td>\n",
       "      <td>46667982</td>\n",
       "      <td>3.199167</td>\n",
       "      <td>209</td>\n",
       "      <td>0.614706</td>\n",
       "      <td>0.487382</td>\n",
       "      <td>168160</td>\n",
       "      <td>494.588235</td>\n",
       "      <td>172.219096</td>\n",
       "    </tr>\n",
       "    <tr>\n",
       "      <th>131</th>\n",
       "      <td>3000</td>\n",
       "      <td>10.489510</td>\n",
       "      <td>6.596509</td>\n",
       "      <td>1562</td>\n",
       "      <td>5.461538</td>\n",
       "      <td>3.529861</td>\n",
       "      <td>127887</td>\n",
       "      <td>447.157343</td>\n",
       "      <td>161.896349</td>\n",
       "      <td>14927</td>\n",
       "      <td>...</td>\n",
       "      <td>817.182966</td>\n",
       "      <td>13347042852</td>\n",
       "      <td>46667982</td>\n",
       "      <td>1.098197</td>\n",
       "      <td>179</td>\n",
       "      <td>0.625874</td>\n",
       "      <td>0.484745</td>\n",
       "      <td>141484</td>\n",
       "      <td>494.699301</td>\n",
       "      <td>179.860200</td>\n",
       "    </tr>\n",
       "    <tr>\n",
       "      <th>132</th>\n",
       "      <td>2348</td>\n",
       "      <td>10.920930</td>\n",
       "      <td>6.281428</td>\n",
       "      <td>1165</td>\n",
       "      <td>5.418605</td>\n",
       "      <td>3.277169</td>\n",
       "      <td>99565</td>\n",
       "      <td>463.093023</td>\n",
       "      <td>167.340887</td>\n",
       "      <td>10815</td>\n",
       "      <td>...</td>\n",
       "      <td>720.693416</td>\n",
       "      <td>10033616130</td>\n",
       "      <td>46667982</td>\n",
       "      <td>NaN</td>\n",
       "      <td>138</td>\n",
       "      <td>0.641860</td>\n",
       "      <td>0.480572</td>\n",
       "      <td>111516</td>\n",
       "      <td>518.679070</td>\n",
       "      <td>178.830506</td>\n",
       "    </tr>\n",
       "  </tbody>\n",
       "</table>\n",
       "<p>10 rows × 33 columns</p>\n",
       "</div>"
      ],
      "text/plain": [
       "            Assists                      Deaths                         GPM  \\\n",
       "                sum       mean       std    sum      mean       std     sum   \n",
       "Player Slot                                                                   \n",
       "0              5599  10.685115  6.109743   3184  6.076336  3.617714  244582   \n",
       "1              3159  10.855670  6.369631   1770  6.082474  3.476036  131789   \n",
       "2              2301  10.092105  5.877256   1290  5.657895  3.311518  104415   \n",
       "3              1896  10.592179  6.191345   1031  5.759777  3.380937   80161   \n",
       "4              1678  10.294479  5.953454    968  5.938650  3.274845   67458   \n",
       "128            8724  10.665037  5.827405   4318  5.278729  3.379043  401263   \n",
       "129            3937  10.554960  5.946021   1925  5.160858  3.447903  174903   \n",
       "130            3575  10.514706  6.177064   1772  5.211765  3.419859  151997   \n",
       "131            3000  10.489510  6.596509   1562  5.461538  3.529861  127887   \n",
       "132            2348  10.920930  6.281428   1165  5.418605  3.277169   99565   \n",
       "\n",
       "                                    Hero ID     ...     Match Length (s)  \\\n",
       "                   mean         std     sum     ...                  std   \n",
       "Player Slot                                     ...                        \n",
       "0            466.759542  222.662808   26919     ...           778.630207   \n",
       "1            452.883162  237.877033   14559     ...           795.323833   \n",
       "2            457.960526  256.708792   12298     ...           765.049018   \n",
       "3            447.826816  194.535107    9513     ...           663.498304   \n",
       "4            413.852761  219.224031    7773     ...           620.834922   \n",
       "128          490.541565  163.768768   41695     ...           733.641602   \n",
       "129          468.908847  155.536903   20035     ...           806.292751   \n",
       "130          447.050000  163.632657   18335     ...           738.230316   \n",
       "131          447.157343  161.896349   14927     ...           817.182966   \n",
       "132          463.093023  167.340887   10815     ...           720.693416   \n",
       "\n",
       "               Player ID                     Win Y/N                      \\\n",
       "                     sum      mean       std     sum      mean       std   \n",
       "Player Slot                                                                \n",
       "0            24454022568  46667982  5.266868     304  0.580153  0.494005   \n",
       "1            13580382762  46667982  1.393364     164  0.563574  0.496796   \n",
       "2            10640299896  46667982       NaN     129  0.565789  0.496743   \n",
       "3             8353568778  46667982       NaN     106  0.592179  0.492808   \n",
       "4             7606881066  46667982       NaN      86  0.527607  0.500776   \n",
       "128          38174409276  46667982  6.262998     570  0.696822  0.459913   \n",
       "129          17407157286  46667982  3.826440     245  0.656836  0.475403   \n",
       "130          15867113880  46667982  3.199167     209  0.614706  0.487382   \n",
       "131          13347042852  46667982  1.098197     179  0.625874  0.484745   \n",
       "132          10033616130  46667982       NaN     138  0.641860  0.480572   \n",
       "\n",
       "                XPM                          \n",
       "                sum        mean         std  \n",
       "Player Slot                                  \n",
       "0            253969  484.673664  165.077369  \n",
       "1            135077  464.182131  172.028159  \n",
       "2            105853  464.267544  179.842891  \n",
       "3             85510  477.709497  186.498018  \n",
       "4             73311  449.760736  167.156903  \n",
       "128          426563  521.470660  171.511681  \n",
       "129          192855  517.037534  201.506660  \n",
       "130          168160  494.588235  172.219096  \n",
       "131          141484  494.699301  179.860200  \n",
       "132          111516  518.679070  178.830506  \n",
       "\n",
       "[10 rows x 33 columns]"
      ]
     },
     "execution_count": 83,
     "metadata": {},
     "output_type": "execute_result"
    }
   ],
   "source": [
    "grouped.aggregate([np.sum, np.mean, np.std])"
   ]
  },
  {
   "cell_type": "code",
   "execution_count": 93,
   "metadata": {
    "collapsed": false
   },
   "outputs": [
    {
     "data": {
      "text/plain": [
       "<matplotlib.collections.PathCollection at 0x3dd0c208>"
      ]
     },
     "execution_count": 93,
     "metadata": {},
     "output_type": "execute_result"
    },
    {
     "data": {
      "image/png": "[encoded data removed]",
      "text/plain": [
       "<matplotlib.figure.Figure at 0x36da0438>"
      ]
     },
     "metadata": {},
     "output_type": "display_data"
    }
   ],
   "source": [
    "plt.scatter(chocoDF['Match Length (s)'], chocoDF['Level'])"
   ]
  },
  {
   "cell_type": "code",
   "execution_count": null,
   "metadata": {
    "collapsed": true
   },
   "outputs": [],
   "source": []
  }
 ],
 "metadata": {
  "kernelspec": {
   "display_name": "Python 2",
   "language": "python",
   "name": "python2"
  },
  "language_info": {
   "codemirror_mode": {
    "name": "ipython",
    "version": 2
   },
   "file_extension": ".py",
   "mimetype": "text/x-python",
   "name": "python",
   "nbconvert_exporter": "python",
   "pygments_lexer": "ipython2",
   "version": "2.7.9"
  }
 },
 "nbformat": 4,
 "nbformat_minor": 0
}
