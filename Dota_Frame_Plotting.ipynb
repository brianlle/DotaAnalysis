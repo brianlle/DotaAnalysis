{
 "cells": [
  {
   "cell_type": "code",
   "execution_count": 18,
   "metadata": {
    "collapsed": true
   },
   "outputs": [],
   "source": [
    "import numpy as np\n",
    "import pandas as pd\n",
    "import matplotlib.pyplot as plt\n",
    "import json\n",
    "import seaborn as sns\n",
    "import statsmodels.api as sm\n",
    "import statsmodels.formula.api as smf\n",
    "from __future__ import division"
   ]
  },
  {
   "cell_type": "code",
   "execution_count": 5,
   "metadata": {
    "collapsed": true
   },
   "outputs": [],
   "source": [
    "def create_dota_dataframe(matchDetailsList):\n",
    "    \n",
    "    '''\n",
    "    Takes in list of match detail json strings and converts\n",
    "    into a pandas dataframe for easier statistical manipulation\n",
    "    '''\n",
    "\n",
    "    playerID = []                 #initialize lists for stats of interest\n",
    "    playerSlot = []\n",
    "    playerKills = []\n",
    "    playerDeaths = []\n",
    "    playerAssists = []\n",
    "    playerGPM = []\n",
    "    playerXPM = []\n",
    "    playerHeroDamage = []\n",
    "    playerTowerDamage = []\n",
    "    playerLevel = []\n",
    "    playerHeroID = []\n",
    "    gameWonStatus = []\n",
    "    matchID = []\n",
    "    matchLength = []\n",
    "    matchCounter = []\n",
    "    gameStartTime = []\n",
    "\n",
    "    for match in matchDetailsList:    #construct lists\n",
    "        for player in match['result']['players']:\n",
    "            playerID.append(player['account_id'])\n",
    "            playerSlot.append(player['player_slot'])\n",
    "            playerKills.append(player['kills'])\n",
    "            playerDeaths.append(player['deaths'])\n",
    "            playerAssists.append(player['assists'])\n",
    "            playerGPM.append(player['gold_per_min'])\n",
    "            playerXPM.append(player['xp_per_min'])\n",
    "            playerHeroDamage.append(player['hero_damage'])\n",
    "            playerTowerDamage.append(player['tower_damage'])\n",
    "            playerLevel.append(player['level'])\n",
    "            playerHeroID.append(player['hero_id'])\n",
    "            if ((player['player_slot'] == 0) or (player['player_slot'] == 1) or (player['player_slot'] == 2) or (player['player_slot'] == 3) or (player['player_slot'] == 4)) and match['result']['radiant_win'] == True:\n",
    "                gameWonStatus.append(1)\n",
    "            elif ((player['player_slot'] == 128) or (player['player_slot'] == 129) or (player['player_slot'] == 130) or (player['player_slot'] == 131) or (player['player_slot'] == 132)) and match['result']['radiant_win'] == False:\n",
    "                gameWonStatus.append(1)\n",
    "            else:\n",
    "                gameWonStatus.append(0)\n",
    "            matchID.append(match['result']['match_id'])\n",
    "            matchLength.append(match['result']['duration'])\n",
    "            matchCounter.append(1)\n",
    "            gameStartTime.append(match['result']['start_time'])\n",
    "\n",
    "    #construct dictionary to build data frame\n",
    "    referenceDict = {'Player ID': playerID, 'Player Slot': playerSlot, 'Kills': playerKills, 'Deaths': playerDeaths, 'Assists': playerAssists, 'GPM': playerGPM, 'XPM': playerXPM, 'Hero Damage': playerHeroDamage, 'Tower Damage': playerTowerDamage, 'Level': playerLevel, 'Hero ID': playerHeroID, 'Win Y/N': gameWonStatus, 'Match ID': matchID, 'Match Length (s)': matchLength, 'Match Counter': matchCounter, 'Game Start Time': gameStartTime}\n",
    "    dataFrameSummary = pd.DataFrame(data=referenceDict)\n",
    "\n",
    "    return dataFrameSummary"
   ]
  },
  {
   "cell_type": "code",
   "execution_count": 8,
   "metadata": {
    "collapsed": true
   },
   "outputs": [],
   "source": [
    "def bin_win_rate(dataframe, numberbins):\n",
    "    dfMin = dataframe['Match Length (s)'].min()\n",
    "    dfMax = dataframe['Match Length (s)'].max()\n",
    "    binlength = (dfMax-dfMin)/numberbins\n",
    "    matchLength = []\n",
    "    winRate = []\n",
    "    \n",
    "    for x in range (0, numberbins):\n",
    "        matchLength.append(dfMin+binlength*(2*x+1)/2)\n",
    "        tempDF = dataframe[dataframe['Match Length (s)']>(dfMin+x*binlength)]\n",
    "        tempDF = tempDF [tempDF['Match Length (s)']<=(dfMin+(x+1)*binlength)]\n",
    "        if tempDF['Match Counter'].sum() != 0:  \n",
    "            winRate.append(tempDF['Win Y/N'].sum()/tempDF['Match Counter'].sum())\n",
    "        else:\n",
    "            winRate.append(0)\n",
    "        \n",
    "    return matchLength, winRate"
   ]
  },
  {
   "cell_type": "code",
   "execution_count": 3,
   "metadata": {
    "collapsed": false
   },
   "outputs": [],
   "source": [
    "with open('matchdetails.txt', 'r') as text:\n",
    "    matchDetailsJSON = json.load(text)"
   ]
  },
  {
   "cell_type": "code",
   "execution_count": 6,
   "metadata": {
    "collapsed": false
   },
   "outputs": [],
   "source": [
    "dotaFrame = create_dota_dataframe(matchDetailsJSON)"
   ]
  },
  {
   "cell_type": "code",
   "execution_count": 11,
   "metadata": {
    "collapsed": false
   },
   "outputs": [
    {
     "data": {
      "text/html": [
       "<div>\n",
       "<table border=\"1\" class=\"dataframe\">\n",
       "  <thead>\n",
       "    <tr style=\"text-align: right;\">\n",
       "      <th></th>\n",
       "      <th>Assists</th>\n",
       "      <th>Deaths</th>\n",
       "      <th>GPM</th>\n",
       "      <th>Game Start Time</th>\n",
       "      <th>Hero Damage</th>\n",
       "      <th>Hero ID</th>\n",
       "      <th>Kills</th>\n",
       "      <th>Level</th>\n",
       "      <th>Match Counter</th>\n",
       "      <th>Match ID</th>\n",
       "      <th>Match Length (s)</th>\n",
       "      <th>Player ID</th>\n",
       "      <th>Player Slot</th>\n",
       "      <th>Tower Damage</th>\n",
       "      <th>Win Y/N</th>\n",
       "      <th>XPM</th>\n",
       "    </tr>\n",
       "  </thead>\n",
       "  <tbody>\n",
       "    <tr>\n",
       "      <th>0</th>\n",
       "      <td>12</td>\n",
       "      <td>4</td>\n",
       "      <td>647</td>\n",
       "      <td>1446086490</td>\n",
       "      <td>16174</td>\n",
       "      <td>106</td>\n",
       "      <td>14</td>\n",
       "      <td>15</td>\n",
       "      <td>1</td>\n",
       "      <td>1899269380</td>\n",
       "      <td>1501</td>\n",
       "      <td>4294967295</td>\n",
       "      <td>0</td>\n",
       "      <td>1962</td>\n",
       "      <td>1</td>\n",
       "      <td>530</td>\n",
       "    </tr>\n",
       "    <tr>\n",
       "      <th>1</th>\n",
       "      <td>13</td>\n",
       "      <td>5</td>\n",
       "      <td>350</td>\n",
       "      <td>1446086490</td>\n",
       "      <td>5367</td>\n",
       "      <td>100</td>\n",
       "      <td>3</td>\n",
       "      <td>11</td>\n",
       "      <td>1</td>\n",
       "      <td>1899269380</td>\n",
       "      <td>1501</td>\n",
       "      <td>102827045</td>\n",
       "      <td>1</td>\n",
       "      <td>517</td>\n",
       "      <td>1</td>\n",
       "      <td>297</td>\n",
       "    </tr>\n",
       "    <tr>\n",
       "      <th>2</th>\n",
       "      <td>15</td>\n",
       "      <td>5</td>\n",
       "      <td>342</td>\n",
       "      <td>1446086490</td>\n",
       "      <td>4030</td>\n",
       "      <td>91</td>\n",
       "      <td>1</td>\n",
       "      <td>12</td>\n",
       "      <td>1</td>\n",
       "      <td>1899269380</td>\n",
       "      <td>1501</td>\n",
       "      <td>4294967295</td>\n",
       "      <td>2</td>\n",
       "      <td>737</td>\n",
       "      <td>1</td>\n",
       "      <td>333</td>\n",
       "    </tr>\n",
       "    <tr>\n",
       "      <th>3</th>\n",
       "      <td>12</td>\n",
       "      <td>3</td>\n",
       "      <td>642</td>\n",
       "      <td>1446086490</td>\n",
       "      <td>17456</td>\n",
       "      <td>63</td>\n",
       "      <td>14</td>\n",
       "      <td>15</td>\n",
       "      <td>1</td>\n",
       "      <td>1899269380</td>\n",
       "      <td>1501</td>\n",
       "      <td>86811043</td>\n",
       "      <td>3</td>\n",
       "      <td>5782</td>\n",
       "      <td>1</td>\n",
       "      <td>500</td>\n",
       "    </tr>\n",
       "    <tr>\n",
       "      <th>4</th>\n",
       "      <td>14</td>\n",
       "      <td>4</td>\n",
       "      <td>432</td>\n",
       "      <td>1446086490</td>\n",
       "      <td>7441</td>\n",
       "      <td>29</td>\n",
       "      <td>3</td>\n",
       "      <td>12</td>\n",
       "      <td>1</td>\n",
       "      <td>1899269380</td>\n",
       "      <td>1501</td>\n",
       "      <td>44039249</td>\n",
       "      <td>4</td>\n",
       "      <td>1155</td>\n",
       "      <td>1</td>\n",
       "      <td>354</td>\n",
       "    </tr>\n",
       "    <tr>\n",
       "      <th>5</th>\n",
       "      <td>8</td>\n",
       "      <td>3</td>\n",
       "      <td>382</td>\n",
       "      <td>1446086490</td>\n",
       "      <td>4408</td>\n",
       "      <td>1</td>\n",
       "      <td>1</td>\n",
       "      <td>14</td>\n",
       "      <td>1</td>\n",
       "      <td>1899269380</td>\n",
       "      <td>1501</td>\n",
       "      <td>46667982</td>\n",
       "      <td>128</td>\n",
       "      <td>71</td>\n",
       "      <td>0</td>\n",
       "      <td>451</td>\n",
       "    </tr>\n",
       "    <tr>\n",
       "      <th>6</th>\n",
       "      <td>6</td>\n",
       "      <td>8</td>\n",
       "      <td>204</td>\n",
       "      <td>1446086490</td>\n",
       "      <td>7542</td>\n",
       "      <td>2</td>\n",
       "      <td>4</td>\n",
       "      <td>10</td>\n",
       "      <td>1</td>\n",
       "      <td>1899269380</td>\n",
       "      <td>1501</td>\n",
       "      <td>47067153</td>\n",
       "      <td>129</td>\n",
       "      <td>0</td>\n",
       "      <td>0</td>\n",
       "      <td>235</td>\n",
       "    </tr>\n",
       "    <tr>\n",
       "      <th>7</th>\n",
       "      <td>6</td>\n",
       "      <td>6</td>\n",
       "      <td>364</td>\n",
       "      <td>1446086490</td>\n",
       "      <td>8517</td>\n",
       "      <td>6</td>\n",
       "      <td>7</td>\n",
       "      <td>12</td>\n",
       "      <td>1</td>\n",
       "      <td>1899269380</td>\n",
       "      <td>1501</td>\n",
       "      <td>86740711</td>\n",
       "      <td>130</td>\n",
       "      <td>0</td>\n",
       "      <td>0</td>\n",
       "      <td>338</td>\n",
       "    </tr>\n",
       "    <tr>\n",
       "      <th>8</th>\n",
       "      <td>7</td>\n",
       "      <td>12</td>\n",
       "      <td>260</td>\n",
       "      <td>1446086490</td>\n",
       "      <td>5732</td>\n",
       "      <td>97</td>\n",
       "      <td>4</td>\n",
       "      <td>11</td>\n",
       "      <td>1</td>\n",
       "      <td>1899269380</td>\n",
       "      <td>1501</td>\n",
       "      <td>30999748</td>\n",
       "      <td>131</td>\n",
       "      <td>0</td>\n",
       "      <td>0</td>\n",
       "      <td>268</td>\n",
       "    </tr>\n",
       "    <tr>\n",
       "      <th>9</th>\n",
       "      <td>10</td>\n",
       "      <td>6</td>\n",
       "      <td>239</td>\n",
       "      <td>1446086490</td>\n",
       "      <td>6242</td>\n",
       "      <td>71</td>\n",
       "      <td>4</td>\n",
       "      <td>10</td>\n",
       "      <td>1</td>\n",
       "      <td>1899269380</td>\n",
       "      <td>1501</td>\n",
       "      <td>6289444</td>\n",
       "      <td>132</td>\n",
       "      <td>0</td>\n",
       "      <td>0</td>\n",
       "      <td>224</td>\n",
       "    </tr>\n",
       "    <tr>\n",
       "      <th>10</th>\n",
       "      <td>5</td>\n",
       "      <td>5</td>\n",
       "      <td>667</td>\n",
       "      <td>1443407702</td>\n",
       "      <td>20075</td>\n",
       "      <td>1</td>\n",
       "      <td>14</td>\n",
       "      <td>25</td>\n",
       "      <td>1</td>\n",
       "      <td>1825747345</td>\n",
       "      <td>3520</td>\n",
       "      <td>46667982</td>\n",
       "      <td>0</td>\n",
       "      <td>1503</td>\n",
       "      <td>0</td>\n",
       "      <td>552</td>\n",
       "    </tr>\n",
       "    <tr>\n",
       "      <th>11</th>\n",
       "      <td>6</td>\n",
       "      <td>8</td>\n",
       "      <td>262</td>\n",
       "      <td>1443407702</td>\n",
       "      <td>5385</td>\n",
       "      <td>62</td>\n",
       "      <td>5</td>\n",
       "      <td>19</td>\n",
       "      <td>1</td>\n",
       "      <td>1825747345</td>\n",
       "      <td>3520</td>\n",
       "      <td>1049332</td>\n",
       "      <td>1</td>\n",
       "      <td>58</td>\n",
       "      <td>0</td>\n",
       "      <td>345</td>\n",
       "    </tr>\n",
       "    <tr>\n",
       "      <th>12</th>\n",
       "      <td>10</td>\n",
       "      <td>10</td>\n",
       "      <td>246</td>\n",
       "      <td>1443407702</td>\n",
       "      <td>3294</td>\n",
       "      <td>86</td>\n",
       "      <td>1</td>\n",
       "      <td>17</td>\n",
       "      <td>1</td>\n",
       "      <td>1825747345</td>\n",
       "      <td>3520</td>\n",
       "      <td>4294967295</td>\n",
       "      <td>2</td>\n",
       "      <td>35</td>\n",
       "      <td>0</td>\n",
       "      <td>263</td>\n",
       "    </tr>\n",
       "    <tr>\n",
       "      <th>13</th>\n",
       "      <td>20</td>\n",
       "      <td>12</td>\n",
       "      <td>363</td>\n",
       "      <td>1443407702</td>\n",
       "      <td>22812</td>\n",
       "      <td>110</td>\n",
       "      <td>8</td>\n",
       "      <td>21</td>\n",
       "      <td>1</td>\n",
       "      <td>1825747345</td>\n",
       "      <td>3520</td>\n",
       "      <td>86740711</td>\n",
       "      <td>3</td>\n",
       "      <td>180</td>\n",
       "      <td>0</td>\n",
       "      <td>401</td>\n",
       "    </tr>\n",
       "    <tr>\n",
       "      <th>14</th>\n",
       "      <td>13</td>\n",
       "      <td>9</td>\n",
       "      <td>510</td>\n",
       "      <td>1443407702</td>\n",
       "      <td>6748</td>\n",
       "      <td>93</td>\n",
       "      <td>3</td>\n",
       "      <td>25</td>\n",
       "      <td>1</td>\n",
       "      <td>1825747345</td>\n",
       "      <td>3520</td>\n",
       "      <td>1049667</td>\n",
       "      <td>4</td>\n",
       "      <td>611</td>\n",
       "      <td>0</td>\n",
       "      <td>558</td>\n",
       "    </tr>\n",
       "    <tr>\n",
       "      <th>15</th>\n",
       "      <td>9</td>\n",
       "      <td>5</td>\n",
       "      <td>461</td>\n",
       "      <td>1443407702</td>\n",
       "      <td>10773</td>\n",
       "      <td>44</td>\n",
       "      <td>6</td>\n",
       "      <td>23</td>\n",
       "      <td>1</td>\n",
       "      <td>1825747345</td>\n",
       "      <td>3520</td>\n",
       "      <td>131087554</td>\n",
       "      <td>128</td>\n",
       "      <td>2733</td>\n",
       "      <td>1</td>\n",
       "      <td>492</td>\n",
       "    </tr>\n",
       "    <tr>\n",
       "      <th>16</th>\n",
       "      <td>17</td>\n",
       "      <td>6</td>\n",
       "      <td>279</td>\n",
       "      <td>1443407702</td>\n",
       "      <td>8428</td>\n",
       "      <td>100</td>\n",
       "      <td>1</td>\n",
       "      <td>18</td>\n",
       "      <td>1</td>\n",
       "      <td>1825747345</td>\n",
       "      <td>3520</td>\n",
       "      <td>126874367</td>\n",
       "      <td>129</td>\n",
       "      <td>186</td>\n",
       "      <td>1</td>\n",
       "      <td>313</td>\n",
       "    </tr>\n",
       "    <tr>\n",
       "      <th>17</th>\n",
       "      <td>11</td>\n",
       "      <td>11</td>\n",
       "      <td>268</td>\n",
       "      <td>1443407702</td>\n",
       "      <td>7572</td>\n",
       "      <td>7</td>\n",
       "      <td>4</td>\n",
       "      <td>18</td>\n",
       "      <td>1</td>\n",
       "      <td>1825747345</td>\n",
       "      <td>3520</td>\n",
       "      <td>127377347</td>\n",
       "      <td>130</td>\n",
       "      <td>112</td>\n",
       "      <td>1</td>\n",
       "      <td>313</td>\n",
       "    </tr>\n",
       "    <tr>\n",
       "      <th>18</th>\n",
       "      <td>6</td>\n",
       "      <td>4</td>\n",
       "      <td>626</td>\n",
       "      <td>1443407702</td>\n",
       "      <td>21529</td>\n",
       "      <td>9</td>\n",
       "      <td>23</td>\n",
       "      <td>25</td>\n",
       "      <td>1</td>\n",
       "      <td>1825747345</td>\n",
       "      <td>3520</td>\n",
       "      <td>94871132</td>\n",
       "      <td>131</td>\n",
       "      <td>8386</td>\n",
       "      <td>1</td>\n",
       "      <td>552</td>\n",
       "    </tr>\n",
       "    <tr>\n",
       "      <th>19</th>\n",
       "      <td>26</td>\n",
       "      <td>6</td>\n",
       "      <td>571</td>\n",
       "      <td>1443407702</td>\n",
       "      <td>35732</td>\n",
       "      <td>22</td>\n",
       "      <td>10</td>\n",
       "      <td>25</td>\n",
       "      <td>1</td>\n",
       "      <td>1825747345</td>\n",
       "      <td>3520</td>\n",
       "      <td>236751013</td>\n",
       "      <td>132</td>\n",
       "      <td>951</td>\n",
       "      <td>1</td>\n",
       "      <td>552</td>\n",
       "    </tr>\n",
       "    <tr>\n",
       "      <th>20</th>\n",
       "      <td>0</td>\n",
       "      <td>6</td>\n",
       "      <td>376</td>\n",
       "      <td>1443231766</td>\n",
       "      <td>2603</td>\n",
       "      <td>1</td>\n",
       "      <td>2</td>\n",
       "      <td>14</td>\n",
       "      <td>1</td>\n",
       "      <td>1819945960</td>\n",
       "      <td>1786</td>\n",
       "      <td>46667982</td>\n",
       "      <td>0</td>\n",
       "      <td>436</td>\n",
       "      <td>0</td>\n",
       "      <td>355</td>\n",
       "    </tr>\n",
       "    <tr>\n",
       "      <th>21</th>\n",
       "      <td>3</td>\n",
       "      <td>4</td>\n",
       "      <td>147</td>\n",
       "      <td>1443231766</td>\n",
       "      <td>2256</td>\n",
       "      <td>20</td>\n",
       "      <td>0</td>\n",
       "      <td>8</td>\n",
       "      <td>1</td>\n",
       "      <td>1819945960</td>\n",
       "      <td>1786</td>\n",
       "      <td>1049332</td>\n",
       "      <td>1</td>\n",
       "      <td>6</td>\n",
       "      <td>0</td>\n",
       "      <td>146</td>\n",
       "    </tr>\n",
       "    <tr>\n",
       "      <th>22</th>\n",
       "      <td>4</td>\n",
       "      <td>2</td>\n",
       "      <td>491</td>\n",
       "      <td>1443231766</td>\n",
       "      <td>6845</td>\n",
       "      <td>73</td>\n",
       "      <td>1</td>\n",
       "      <td>15</td>\n",
       "      <td>1</td>\n",
       "      <td>1819945960</td>\n",
       "      <td>1786</td>\n",
       "      <td>86740711</td>\n",
       "      <td>2</td>\n",
       "      <td>0</td>\n",
       "      <td>0</td>\n",
       "      <td>433</td>\n",
       "    </tr>\n",
       "    <tr>\n",
       "      <th>23</th>\n",
       "      <td>3</td>\n",
       "      <td>3</td>\n",
       "      <td>262</td>\n",
       "      <td>1443231766</td>\n",
       "      <td>2783</td>\n",
       "      <td>65</td>\n",
       "      <td>1</td>\n",
       "      <td>11</td>\n",
       "      <td>1</td>\n",
       "      <td>1819945960</td>\n",
       "      <td>1786</td>\n",
       "      <td>6289444</td>\n",
       "      <td>3</td>\n",
       "      <td>0</td>\n",
       "      <td>0</td>\n",
       "      <td>250</td>\n",
       "    </tr>\n",
       "    <tr>\n",
       "      <th>24</th>\n",
       "      <td>3</td>\n",
       "      <td>8</td>\n",
       "      <td>178</td>\n",
       "      <td>1443231766</td>\n",
       "      <td>6159</td>\n",
       "      <td>22</td>\n",
       "      <td>1</td>\n",
       "      <td>8</td>\n",
       "      <td>1</td>\n",
       "      <td>1819945960</td>\n",
       "      <td>1786</td>\n",
       "      <td>4294967295</td>\n",
       "      <td>4</td>\n",
       "      <td>0</td>\n",
       "      <td>0</td>\n",
       "      <td>138</td>\n",
       "    </tr>\n",
       "  </tbody>\n",
       "</table>\n",
       "</div>"
      ],
      "text/plain": [
       "    Assists  Deaths  GPM  Game Start Time  Hero Damage  Hero ID  Kills  Level  \\\n",
       "0        12       4  647       1446086490        16174      106     14     15   \n",
       "1        13       5  350       1446086490         5367      100      3     11   \n",
       "2        15       5  342       1446086490         4030       91      1     12   \n",
       "3        12       3  642       1446086490        17456       63     14     15   \n",
       "4        14       4  432       1446086490         7441       29      3     12   \n",
       "5         8       3  382       1446086490         4408        1      1     14   \n",
       "6         6       8  204       1446086490         7542        2      4     10   \n",
       "7         6       6  364       1446086490         8517        6      7     12   \n",
       "8         7      12  260       1446086490         5732       97      4     11   \n",
       "9        10       6  239       1446086490         6242       71      4     10   \n",
       "10        5       5  667       1443407702        20075        1     14     25   \n",
       "11        6       8  262       1443407702         5385       62      5     19   \n",
       "12       10      10  246       1443407702         3294       86      1     17   \n",
       "13       20      12  363       1443407702        22812      110      8     21   \n",
       "14       13       9  510       1443407702         6748       93      3     25   \n",
       "15        9       5  461       1443407702        10773       44      6     23   \n",
       "16       17       6  279       1443407702         8428      100      1     18   \n",
       "17       11      11  268       1443407702         7572        7      4     18   \n",
       "18        6       4  626       1443407702        21529        9     23     25   \n",
       "19       26       6  571       1443407702        35732       22     10     25   \n",
       "20        0       6  376       1443231766         2603        1      2     14   \n",
       "21        3       4  147       1443231766         2256       20      0      8   \n",
       "22        4       2  491       1443231766         6845       73      1     15   \n",
       "23        3       3  262       1443231766         2783       65      1     11   \n",
       "24        3       8  178       1443231766         6159       22      1      8   \n",
       "\n",
       "    Match Counter    Match ID  Match Length (s)   Player ID  Player Slot  \\\n",
       "0               1  1899269380              1501  4294967295            0   \n",
       "1               1  1899269380              1501   102827045            1   \n",
       "2               1  1899269380              1501  4294967295            2   \n",
       "3               1  1899269380              1501    86811043            3   \n",
       "4               1  1899269380              1501    44039249            4   \n",
       "5               1  1899269380              1501    46667982          128   \n",
       "6               1  1899269380              1501    47067153          129   \n",
       "7               1  1899269380              1501    86740711          130   \n",
       "8               1  1899269380              1501    30999748          131   \n",
       "9               1  1899269380              1501     6289444          132   \n",
       "10              1  1825747345              3520    46667982            0   \n",
       "11              1  1825747345              3520     1049332            1   \n",
       "12              1  1825747345              3520  4294967295            2   \n",
       "13              1  1825747345              3520    86740711            3   \n",
       "14              1  1825747345              3520     1049667            4   \n",
       "15              1  1825747345              3520   131087554          128   \n",
       "16              1  1825747345              3520   126874367          129   \n",
       "17              1  1825747345              3520   127377347          130   \n",
       "18              1  1825747345              3520    94871132          131   \n",
       "19              1  1825747345              3520   236751013          132   \n",
       "20              1  1819945960              1786    46667982            0   \n",
       "21              1  1819945960              1786     1049332            1   \n",
       "22              1  1819945960              1786    86740711            2   \n",
       "23              1  1819945960              1786     6289444            3   \n",
       "24              1  1819945960              1786  4294967295            4   \n",
       "\n",
       "    Tower Damage  Win Y/N  XPM  \n",
       "0           1962        1  530  \n",
       "1            517        1  297  \n",
       "2            737        1  333  \n",
       "3           5782        1  500  \n",
       "4           1155        1  354  \n",
       "5             71        0  451  \n",
       "6              0        0  235  \n",
       "7              0        0  338  \n",
       "8              0        0  268  \n",
       "9              0        0  224  \n",
       "10          1503        0  552  \n",
       "11            58        0  345  \n",
       "12            35        0  263  \n",
       "13           180        0  401  \n",
       "14           611        0  558  \n",
       "15          2733        1  492  \n",
       "16           186        1  313  \n",
       "17           112        1  313  \n",
       "18          8386        1  552  \n",
       "19           951        1  552  \n",
       "20           436        0  355  \n",
       "21             6        0  146  \n",
       "22             0        0  433  \n",
       "23             0        0  250  \n",
       "24             0        0  138  "
      ]
     },
     "execution_count": 11,
     "metadata": {},
     "output_type": "execute_result"
    }
   ],
   "source": [
    "dotaFrame.head(25)"
   ]
  },
  {
   "cell_type": "code",
   "execution_count": 9,
   "metadata": {
    "collapsed": false
   },
   "outputs": [],
   "source": [
    "%matplotlib inline"
   ]
  },
  {
   "cell_type": "code",
   "execution_count": 7,
   "metadata": {
    "collapsed": true
   },
   "outputs": [],
   "source": [
    "chocoDotaFrame = dotaFrame[dotaFrame['Player ID']==46667982]"
   ]
  },
  {
   "cell_type": "code",
   "execution_count": 14,
   "metadata": {
    "collapsed": false
   },
   "outputs": [
    {
     "data": {
      "text/plain": [
       "array([[<matplotlib.axes._subplots.AxesSubplot object at 0x000000004F318320>]], dtype=object)"
      ]
     },
     "execution_count": 14,
     "metadata": {},
     "output_type": "execute_result"
    },
    {
     "data": {
      "image/png": "[encoded data removed]",
      "text/plain": [
       "<matplotlib.figure.Figure at 0x4eb95e10>"
      ]
     },
     "metadata": {},
     "output_type": "display_data"
    }
   ],
   "source": [
    "chocoDotaFrame.hist(column='Match Length (s)', bins=25)"
   ]
  },
  {
   "cell_type": "code",
   "execution_count": 10,
   "metadata": {
    "collapsed": false
   },
   "outputs": [
    {
     "data": {
      "text/plain": [
       "<matplotlib.axes._subplots.AxesSubplot at 0x2ec64cf8>"
      ]
     },
     "execution_count": 10,
     "metadata": {},
     "output_type": "execute_result"
    },
    {
     "data": {
      "image/png": "[encoded data removed]",
      "text/plain": [
       "<matplotlib.figure.Figure at 0x2ec39e80>"
      ]
     },
     "metadata": {},
     "output_type": "display_data"
    }
   ],
   "source": [
    "chocoDotaFrame.plot(x='Match Length (s)', y='Level', kind='scatter')"
   ]
  },
  {
   "cell_type": "code",
   "execution_count": 20,
   "metadata": {
    "collapsed": false
   },
   "outputs": [
    {
     "data": {
      "image/png": "[encoded data removed]",
      "text/plain": [
       "<matplotlib.figure.Figure at 0x30229978>"
      ]
     },
     "metadata": {},
     "output_type": "display_data"
    }
   ],
   "source": [
    "ax = sns.regplot(data=chocoDotaFrame, x='Match Length (s)', y='Level')\n",
    "\n",
    "ax.set(title='Delay Comparison',\n",
    "       xlabel='Departure Delay', xlim=(0, 5000),\n",
    "       ylabel='Arrival Delay', ylim=(0, 26))\n",
    "\n",
    "sns.despine(offset=0, trim=True)"
   ]
  },
  {
   "cell_type": "code",
   "execution_count": 15,
   "metadata": {
    "collapsed": false
   },
   "outputs": [
    {
     "data": {
      "text/html": [
       "<div>\n",
       "<table border=\"1\" class=\"dataframe\">\n",
       "  <thead>\n",
       "    <tr style=\"text-align: right;\">\n",
       "      <th></th>\n",
       "      <th>Match Length (s)</th>\n",
       "      <th>Level</th>\n",
       "    </tr>\n",
       "  </thead>\n",
       "  <tbody>\n",
       "    <tr>\n",
       "      <th>5</th>\n",
       "      <td>1501</td>\n",
       "      <td>14</td>\n",
       "    </tr>\n",
       "    <tr>\n",
       "      <th>10</th>\n",
       "      <td>3520</td>\n",
       "      <td>25</td>\n",
       "    </tr>\n",
       "    <tr>\n",
       "      <th>20</th>\n",
       "      <td>1786</td>\n",
       "      <td>14</td>\n",
       "    </tr>\n",
       "    <tr>\n",
       "      <th>35</th>\n",
       "      <td>1792</td>\n",
       "      <td>20</td>\n",
       "    </tr>\n",
       "    <tr>\n",
       "      <th>45</th>\n",
       "      <td>3138</td>\n",
       "      <td>25</td>\n",
       "    </tr>\n",
       "    <tr>\n",
       "      <th>50</th>\n",
       "      <td>2062</td>\n",
       "      <td>22</td>\n",
       "    </tr>\n",
       "    <tr>\n",
       "      <th>65</th>\n",
       "      <td>2999</td>\n",
       "      <td>25</td>\n",
       "    </tr>\n",
       "    <tr>\n",
       "      <th>79</th>\n",
       "      <td>1978</td>\n",
       "      <td>22</td>\n",
       "    </tr>\n",
       "    <tr>\n",
       "      <th>85</th>\n",
       "      <td>3525</td>\n",
       "      <td>25</td>\n",
       "    </tr>\n",
       "    <tr>\n",
       "      <th>95</th>\n",
       "      <td>2645</td>\n",
       "      <td>21</td>\n",
       "    </tr>\n",
       "    <tr>\n",
       "      <th>105</th>\n",
       "      <td>2430</td>\n",
       "      <td>24</td>\n",
       "    </tr>\n",
       "    <tr>\n",
       "      <th>112</th>\n",
       "      <td>2854</td>\n",
       "      <td>25</td>\n",
       "    </tr>\n",
       "    <tr>\n",
       "      <th>126</th>\n",
       "      <td>2151</td>\n",
       "      <td>15</td>\n",
       "    </tr>\n",
       "    <tr>\n",
       "      <th>130</th>\n",
       "      <td>1997</td>\n",
       "      <td>20</td>\n",
       "    </tr>\n",
       "    <tr>\n",
       "      <th>145</th>\n",
       "      <td>2275</td>\n",
       "      <td>25</td>\n",
       "    </tr>\n",
       "    <tr>\n",
       "      <th>150</th>\n",
       "      <td>1827</td>\n",
       "      <td>21</td>\n",
       "    </tr>\n",
       "    <tr>\n",
       "      <th>165</th>\n",
       "      <td>2583</td>\n",
       "      <td>23</td>\n",
       "    </tr>\n",
       "    <tr>\n",
       "      <th>175</th>\n",
       "      <td>2223</td>\n",
       "      <td>22</td>\n",
       "    </tr>\n",
       "    <tr>\n",
       "      <th>185</th>\n",
       "      <td>1335</td>\n",
       "      <td>16</td>\n",
       "    </tr>\n",
       "    <tr>\n",
       "      <th>195</th>\n",
       "      <td>3416</td>\n",
       "      <td>25</td>\n",
       "    </tr>\n",
       "    <tr>\n",
       "      <th>205</th>\n",
       "      <td>1474</td>\n",
       "      <td>21</td>\n",
       "    </tr>\n",
       "    <tr>\n",
       "      <th>210</th>\n",
       "      <td>1242</td>\n",
       "      <td>15</td>\n",
       "    </tr>\n",
       "    <tr>\n",
       "      <th>225</th>\n",
       "      <td>1495</td>\n",
       "      <td>17</td>\n",
       "    </tr>\n",
       "    <tr>\n",
       "      <th>237</th>\n",
       "      <td>903</td>\n",
       "      <td>6</td>\n",
       "    </tr>\n",
       "    <tr>\n",
       "      <th>245</th>\n",
       "      <td>2638</td>\n",
       "      <td>25</td>\n",
       "    </tr>\n",
       "    <tr>\n",
       "      <th>255</th>\n",
       "      <td>1303</td>\n",
       "      <td>17</td>\n",
       "    </tr>\n",
       "    <tr>\n",
       "      <th>265</th>\n",
       "      <td>1682</td>\n",
       "      <td>19</td>\n",
       "    </tr>\n",
       "    <tr>\n",
       "      <th>273</th>\n",
       "      <td>2900</td>\n",
       "      <td>25</td>\n",
       "    </tr>\n",
       "    <tr>\n",
       "      <th>285</th>\n",
       "      <td>2443</td>\n",
       "      <td>25</td>\n",
       "    </tr>\n",
       "    <tr>\n",
       "      <th>290</th>\n",
       "      <td>2214</td>\n",
       "      <td>24</td>\n",
       "    </tr>\n",
       "    <tr>\n",
       "      <th>...</th>\n",
       "      <td>...</td>\n",
       "      <td>...</td>\n",
       "    </tr>\n",
       "    <tr>\n",
       "      <th>33793</th>\n",
       "      <td>2390</td>\n",
       "      <td>20</td>\n",
       "    </tr>\n",
       "    <tr>\n",
       "      <th>33802</th>\n",
       "      <td>1724</td>\n",
       "      <td>16</td>\n",
       "    </tr>\n",
       "    <tr>\n",
       "      <th>33810</th>\n",
       "      <td>1372</td>\n",
       "      <td>14</td>\n",
       "    </tr>\n",
       "    <tr>\n",
       "      <th>33822</th>\n",
       "      <td>1210</td>\n",
       "      <td>11</td>\n",
       "    </tr>\n",
       "    <tr>\n",
       "      <th>33825</th>\n",
       "      <td>2154</td>\n",
       "      <td>17</td>\n",
       "    </tr>\n",
       "    <tr>\n",
       "      <th>33840</th>\n",
       "      <td>2354</td>\n",
       "      <td>20</td>\n",
       "    </tr>\n",
       "    <tr>\n",
       "      <th>33848</th>\n",
       "      <td>1766</td>\n",
       "      <td>20</td>\n",
       "    </tr>\n",
       "    <tr>\n",
       "      <th>33857</th>\n",
       "      <td>1953</td>\n",
       "      <td>18</td>\n",
       "    </tr>\n",
       "    <tr>\n",
       "      <th>33873</th>\n",
       "      <td>736</td>\n",
       "      <td>11</td>\n",
       "    </tr>\n",
       "    <tr>\n",
       "      <th>33880</th>\n",
       "      <td>1390</td>\n",
       "      <td>11</td>\n",
       "    </tr>\n",
       "    <tr>\n",
       "      <th>33892</th>\n",
       "      <td>1314</td>\n",
       "      <td>15</td>\n",
       "    </tr>\n",
       "    <tr>\n",
       "      <th>33901</th>\n",
       "      <td>3359</td>\n",
       "      <td>21</td>\n",
       "    </tr>\n",
       "    <tr>\n",
       "      <th>33910</th>\n",
       "      <td>1952</td>\n",
       "      <td>15</td>\n",
       "    </tr>\n",
       "    <tr>\n",
       "      <th>33919</th>\n",
       "      <td>2291</td>\n",
       "      <td>15</td>\n",
       "    </tr>\n",
       "    <tr>\n",
       "      <th>33926</th>\n",
       "      <td>2157</td>\n",
       "      <td>11</td>\n",
       "    </tr>\n",
       "    <tr>\n",
       "      <th>33943</th>\n",
       "      <td>3052</td>\n",
       "      <td>25</td>\n",
       "    </tr>\n",
       "    <tr>\n",
       "      <th>33946</th>\n",
       "      <td>3335</td>\n",
       "      <td>25</td>\n",
       "    </tr>\n",
       "    <tr>\n",
       "      <th>33962</th>\n",
       "      <td>2261</td>\n",
       "      <td>16</td>\n",
       "    </tr>\n",
       "    <tr>\n",
       "      <th>33967</th>\n",
       "      <td>4551</td>\n",
       "      <td>25</td>\n",
       "    </tr>\n",
       "    <tr>\n",
       "      <th>33978</th>\n",
       "      <td>2631</td>\n",
       "      <td>15</td>\n",
       "    </tr>\n",
       "    <tr>\n",
       "      <th>33990</th>\n",
       "      <td>2192</td>\n",
       "      <td>16</td>\n",
       "    </tr>\n",
       "    <tr>\n",
       "      <th>33995</th>\n",
       "      <td>2972</td>\n",
       "      <td>19</td>\n",
       "    </tr>\n",
       "    <tr>\n",
       "      <th>34014</th>\n",
       "      <td>2392</td>\n",
       "      <td>20</td>\n",
       "    </tr>\n",
       "    <tr>\n",
       "      <th>34016</th>\n",
       "      <td>2858</td>\n",
       "      <td>19</td>\n",
       "    </tr>\n",
       "    <tr>\n",
       "      <th>34034</th>\n",
       "      <td>3612</td>\n",
       "      <td>16</td>\n",
       "    </tr>\n",
       "    <tr>\n",
       "      <th>34038</th>\n",
       "      <td>1640</td>\n",
       "      <td>9</td>\n",
       "    </tr>\n",
       "    <tr>\n",
       "      <th>34053</th>\n",
       "      <td>2454</td>\n",
       "      <td>11</td>\n",
       "    </tr>\n",
       "    <tr>\n",
       "      <th>34055</th>\n",
       "      <td>1654</td>\n",
       "      <td>11</td>\n",
       "    </tr>\n",
       "    <tr>\n",
       "      <th>34070</th>\n",
       "      <td>2221</td>\n",
       "      <td>16</td>\n",
       "    </tr>\n",
       "    <tr>\n",
       "      <th>34082</th>\n",
       "      <td>1759</td>\n",
       "      <td>10</td>\n",
       "    </tr>\n",
       "  </tbody>\n",
       "</table>\n",
       "<p>3417 rows × 2 columns</p>\n",
       "</div>"
      ],
      "text/plain": [
       "       Match Length (s)  Level\n",
       "5                  1501     14\n",
       "10                 3520     25\n",
       "20                 1786     14\n",
       "35                 1792     20\n",
       "45                 3138     25\n",
       "50                 2062     22\n",
       "65                 2999     25\n",
       "79                 1978     22\n",
       "85                 3525     25\n",
       "95                 2645     21\n",
       "105                2430     24\n",
       "112                2854     25\n",
       "126                2151     15\n",
       "130                1997     20\n",
       "145                2275     25\n",
       "150                1827     21\n",
       "165                2583     23\n",
       "175                2223     22\n",
       "185                1335     16\n",
       "195                3416     25\n",
       "205                1474     21\n",
       "210                1242     15\n",
       "225                1495     17\n",
       "237                 903      6\n",
       "245                2638     25\n",
       "255                1303     17\n",
       "265                1682     19\n",
       "273                2900     25\n",
       "285                2443     25\n",
       "290                2214     24\n",
       "...                 ...    ...\n",
       "33793              2390     20\n",
       "33802              1724     16\n",
       "33810              1372     14\n",
       "33822              1210     11\n",
       "33825              2154     17\n",
       "33840              2354     20\n",
       "33848              1766     20\n",
       "33857              1953     18\n",
       "33873               736     11\n",
       "33880              1390     11\n",
       "33892              1314     15\n",
       "33901              3359     21\n",
       "33910              1952     15\n",
       "33919              2291     15\n",
       "33926              2157     11\n",
       "33943              3052     25\n",
       "33946              3335     25\n",
       "33962              2261     16\n",
       "33967              4551     25\n",
       "33978              2631     15\n",
       "33990              2192     16\n",
       "33995              2972     19\n",
       "34014              2392     20\n",
       "34016              2858     19\n",
       "34034              3612     16\n",
       "34038              1640      9\n",
       "34053              2454     11\n",
       "34055              1654     11\n",
       "34070              2221     16\n",
       "34082              1759     10\n",
       "\n",
       "[3417 rows x 2 columns]"
      ]
     },
     "execution_count": 15,
     "metadata": {},
     "output_type": "execute_result"
    }
   ],
   "source": [
    "chocoDotaFrame[['Match Length (s)', 'Level']]"
   ]
  },
  {
   "cell_type": "code",
   "execution_count": 16,
   "metadata": {
    "collapsed": false
   },
   "outputs": [
    {
     "data": {
      "text/plain": [
       "<Container object of 20 artists>"
      ]
     },
     "execution_count": 16,
     "metadata": {},
     "output_type": "execute_result"
    },
    {
     "data": {
      "image/png": "[encoded data removed]",
      "text/plain": [
       "<matplotlib.figure.Figure at 0xb327198>"
      ]
     },
     "metadata": {},
     "output_type": "display_data"
    }
   ],
   "source": [
    "wr_x, wr_y = bin_win_rate(chocoDotaFrame,20)\n",
    "plt.bar(wr_x, wr_y, width=200)"
   ]
  },
  {
   "cell_type": "code",
   "execution_count": 17,
   "metadata": {
    "collapsed": true
   },
   "outputs": [],
   "source": [
    "meepo = chocoDotaFrame[chocoDotaFrame['Hero ID']==82]"
   ]
  },
  {
   "cell_type": "code",
   "execution_count": 18,
   "metadata": {
    "collapsed": false
   },
   "outputs": [],
   "source": [
    "wr_x, wr_y = bin_win_rate(meepo, 10)"
   ]
  },
  {
   "cell_type": "code",
   "execution_count": 19,
   "metadata": {
    "collapsed": false
   },
   "outputs": [
    {
     "data": {
      "text/plain": [
       "<Container object of 10 artists>"
      ]
     },
     "execution_count": 19,
     "metadata": {},
     "output_type": "execute_result"
    },
    {
     "data": {
      "image/png": "[encoded data removed]",
      "text/plain": [
       "<matplotlib.figure.Figure at 0x4ef5df28>"
      ]
     },
     "metadata": {},
     "output_type": "display_data"
    }
   ],
   "source": [
    "plt.bar(wr_x,wr_y,width=480)"
   ]
  },
  {
   "cell_type": "code",
   "execution_count": 20,
   "metadata": {
    "collapsed": false
   },
   "outputs": [
    {
     "data": {
      "text/plain": [
       "<Container object of 10 artists>"
      ]
     },
     "execution_count": 20,
     "metadata": {},
     "output_type": "execute_result"
    },
    {
     "data": {
      "image/png": "[encoded data removed]",
      "text/plain": [
       "<matplotlib.figure.Figure at 0x4ee4a550>"
      ]
     },
     "metadata": {},
     "output_type": "display_data"
    }
   ],
   "source": [
    "antimage = chocoDotaFrame[chocoDotaFrame['Hero ID']==1]\n",
    "wr_x2, wr_y2 = bin_win_rate(antimage, 10)\n",
    "plt.bar(wr_x2,wr_y2,width=200)"
   ]
  },
  {
   "cell_type": "code",
   "execution_count": 21,
   "metadata": {
    "collapsed": false
   },
   "outputs": [
    {
     "data": {
      "text/plain": [
       "<Container object of 10 artists>"
      ]
     },
     "execution_count": 21,
     "metadata": {},
     "output_type": "execute_result"
    },
    {
     "data": {
      "image/png": "[encoded data removed]",
      "text/plain": [
       "<matplotlib.figure.Figure at 0xb578940>"
      ]
     },
     "metadata": {},
     "output_type": "display_data"
    }
   ],
   "source": [
    "antimageAll = dotaFrame[dotaFrame['Hero ID']==1]\n",
    "wr_x2, wr_y2 = bin_win_rate(antimageAll, 10)\n",
    "plt.bar(wr_x2,wr_y2,width=200)"
   ]
  },
  {
   "cell_type": "code",
   "execution_count": 22,
   "metadata": {
    "collapsed": false
   },
   "outputs": [
    {
     "data": {
      "text/plain": [
       "354"
      ]
     },
     "execution_count": 22,
     "metadata": {},
     "output_type": "execute_result"
    }
   ],
   "source": [
    "len(antimageAll)"
   ]
  },
  {
   "cell_type": "code",
   "execution_count": 23,
   "metadata": {
    "collapsed": false
   },
   "outputs": [
    {
     "data": {
      "text/plain": [
       "<Container object of 10 artists>"
      ]
     },
     "execution_count": 23,
     "metadata": {},
     "output_type": "execute_result"
    },
    {
     "data": {
      "image/png": "[encoded data removed]",
      "text/plain": [
       "<matplotlib.figure.Figure at 0xba4fe10>"
      ]
     },
     "metadata": {},
     "output_type": "display_data"
    }
   ],
   "source": [
    "medusa = chocoDotaFrame[chocoDotaFrame['Hero ID']==94]\n",
    "wr_x3, wr_y3 = bin_win_rate(medusa, 10)\n",
    "plt.bar(wr_x3,wr_y3,width=200)"
   ]
  },
  {
   "cell_type": "code",
   "execution_count": 24,
   "metadata": {
    "collapsed": false
   },
   "outputs": [],
   "source": [
    "chen = chocoDotaFrame[chocoDotaFrame['Hero ID']==66]"
   ]
  },
  {
   "cell_type": "code",
   "execution_count": 25,
   "metadata": {
    "collapsed": true
   },
   "outputs": [],
   "source": [
    "wr_x3, wr_y3 = bin_win_rate(chen, 10)"
   ]
  },
  {
   "cell_type": "code",
   "execution_count": 26,
   "metadata": {
    "collapsed": false
   },
   "outputs": [
    {
     "data": {
      "text/plain": [
       "<Container object of 10 artists>"
      ]
     },
     "execution_count": 26,
     "metadata": {},
     "output_type": "execute_result"
    },
    {
     "data": {
      "image/png": "[encoded data removed]",
      "text/plain": [
       "<matplotlib.figure.Figure at 0xbd04438>"
      ]
     },
     "metadata": {},
     "output_type": "display_data"
    }
   ],
   "source": [
    "plt.bar(wr_x3,wr_y3,width=200)"
   ]
  },
  {
   "cell_type": "code",
   "execution_count": 27,
   "metadata": {
    "collapsed": false
   },
   "outputs": [
    {
     "name": "stderr",
     "output_type": "stream",
     "text": [
      "C:\\Users\\Brian\\AppData\\Local\\Enthought\\Canopy\\User\\lib\\site-packages\\ipykernel\\__main__.py:1: SettingWithCopyWarning: \n",
      "A value is trying to be set on a copy of a slice from a DataFrame.\n",
      "Try using .loc[row_indexer,col_indexer] = value instead\n",
      "\n",
      "See the the caveats in the documentation: http://pandas.pydata.org/pandas-docs/stable/indexing.html#indexing-view-versus-copy\n",
      "  if __name__ == '__main__':\n"
     ]
    }
   ],
   "source": [
    "chocoDotaFrame['Won Last Game Y/N'] = chocoDotaFrame['Win Y/N'].shift(1)"
   ]
  },
  {
   "cell_type": "code",
   "execution_count": 29,
   "metadata": {
    "collapsed": false
   },
   "outputs": [],
   "source": [
    "def morale_measurement(dataframe, playerID):\n",
    "    \n",
    "    moraleDF = dataframe[dataframe['Player ID']==playerID]\n",
    "    moraleDF = moraleDF.sort(columns='Match ID')\n",
    "    moraleDF['Won Last Game Y/N'] = moraleDF['Win Y/N'].shift(1)\n",
    "    wonLastDF = moraleDF[moraleDF['Won Last Game Y/N']==1]\n",
    "    lostLastDF = moraleDF[moraleDF['Won Last Game Y/N']==0]\n",
    "    \n",
    "    postWinWinRate = wonLastDF['Win Y/N'].sum()/wonLastDF['Match Counter'].sum()\n",
    "    postLossWinRate = lostLastDF['Win Y/N'].sum()/lostLastDF['Match Counter'].sum()\n",
    "    \n",
    "    print(postWinWinRate)\n",
    "    print(postLossWinRate)\n",
    "    \n",
    "    return moraleDF"
   ]
  },
  {
   "cell_type": "code",
   "execution_count": 30,
   "metadata": {
    "collapsed": false
   },
   "outputs": [
    {
     "name": "stdout",
     "output_type": "stream",
     "text": [
      "0.722054380665\n",
      "0.689138576779\n"
     ]
    }
   ],
   "source": [
    "moraleDF = morale_measurement(dotaFrame,playerID=30999748)"
   ]
  },
  {
   "cell_type": "code",
   "execution_count": 31,
   "metadata": {
    "collapsed": false
   },
   "outputs": [
    {
     "name": "stdout",
     "output_type": "stream",
     "text": [
      "0.643192488263\n",
      "0.590202177294\n"
     ]
    }
   ],
   "source": [
    "moraleDF = morale_measurement(dotaFrame,playerID=46667982)"
   ]
  },
  {
   "cell_type": "code",
   "execution_count": null,
   "metadata": {
    "collapsed": false
   },
   "outputs": [],
   "source": []
  },
  {
   "cell_type": "code",
   "execution_count": 32,
   "metadata": {
    "collapsed": false
   },
   "outputs": [],
   "source": [
    "wonLastDF = moraleDF[moraleDF['Won Last Game Y/N']==1]\n",
    "lostLastDF = moraleDF[moraleDF['Won Last Game Y/N']==0]"
   ]
  },
  {
   "cell_type": "code",
   "execution_count": 33,
   "metadata": {
    "collapsed": false
   },
   "outputs": [],
   "source": [
    "wr_x, wr_y = bin_win_rate(wonLastDF,25)\n",
    "wr_x2, wr_y2 = bin_win_rate(lostLastDF,25)"
   ]
  },
  {
   "cell_type": "code",
   "execution_count": 34,
   "metadata": {
    "collapsed": false
   },
   "outputs": [
    {
     "data": {
      "text/plain": [
       "<matplotlib.text.Text at 0x2f8b2da0>"
      ]
     },
     "execution_count": 34,
     "metadata": {},
     "output_type": "execute_result"
    },
    {
     "data": {
      "image/png": "[encoded data removed]",
      "text/plain": [
       "<matplotlib.figure.Figure at 0x4ebec978>"
      ]
     },
     "metadata": {},
     "output_type": "display_data"
    }
   ],
   "source": [
    "fig, ax = plt.subplots()\n",
    "ax.plot(wr_x,wr_y,'b',wr_x2,wr_y2,'r')\n",
    "ax.set_title('Win Rate by Match Length Following Wins (Blue) and Losses (Red)')\n"
   ]
  },
  {
   "cell_type": "code",
   "execution_count": null,
   "metadata": {
    "collapsed": false
   },
   "outputs": [],
   "source": [
    "ax.axis([0,5000,0,1])"
   ]
  },
  {
   "cell_type": "code",
   "execution_count": null,
   "metadata": {
    "collapsed": false
   },
   "outputs": [],
   "source": [
    "plt.plot(wr_x2,wr_y2)"
   ]
  },
  {
   "cell_type": "code",
   "execution_count": null,
   "metadata": {
    "collapsed": true
   },
   "outputs": [],
   "source": []
  }
 ],
 "metadata": {
  "kernelspec": {
   "display_name": "Python 2",
   "language": "python",
   "name": "python2"
  },
  "language_info": {
   "codemirror_mode": {
    "name": "ipython",
    "version": 2
   },
   "file_extension": ".py",
   "mimetype": "text/x-python",
   "name": "python",
   "nbconvert_exporter": "python",
   "pygments_lexer": "ipython2",
   "version": "2.7.9"
  }
 },
 "nbformat": 4,
 "nbformat_minor": 0
}
