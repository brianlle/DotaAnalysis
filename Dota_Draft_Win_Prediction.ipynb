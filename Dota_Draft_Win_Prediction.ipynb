{
 "cells": [
  {
   "cell_type": "code",
   "execution_count": 4,
   "metadata": {
    "collapsed": true
   },
   "outputs": [],
   "source": [
    "import numpy as np\n",
    "import pandas as pd\n",
    "import matplotlib.pyplot as plt\n",
    "import json\n",
    "import seaborn as sns\n",
    "import statsmodels.api as sm\n",
    "import statsmodels.formula.api as smf\n",
    "import string\n",
    "import math\n",
    "from __future__ import division"
   ]
  },
  {
   "cell_type": "code",
   "execution_count": 5,
   "metadata": {
    "collapsed": true
   },
   "outputs": [],
   "source": [
    "def create_dota_dataframe2(matchDetailsList):\n",
    "    \n",
    "    '''\n",
    "    Takes in list of match detail json strings and converts\n",
    "    into a pandas dataframe for easier statistical manipulation\n",
    "    \n",
    "    1 row per match\n",
    "    '''\n",
    "\n",
    "    radiant1 = []                 #initialize lists for stats of interest\n",
    "    radiant2 = []\n",
    "    radiant3 = []\n",
    "    radiant4 = []\n",
    "    radiant5 = []\n",
    "    dire1 = []\n",
    "    dire2 = []\n",
    "    dire3 = []\n",
    "    dire4 = []\n",
    "    dire5 = []\n",
    "    radiantWin = []\n",
    "    matchID = []\n",
    "    matchLength = []\n",
    "    matchCounter = []\n",
    "    gameStartTime = []\n",
    "\n",
    "\n",
    "    for match in matchDetailsList:    #construct lists\n",
    "        for player in match['result']['players']:\n",
    "            \n",
    "            if player['player_slot'] == 0:\n",
    "                radiant1.append(player['hero_id'])\n",
    "            if player['player_slot'] == 1:\n",
    "                radiant2.append(player['hero_id'])    \n",
    "            if player['player_slot'] == 2:\n",
    "                radiant3.append(player['hero_id'])    \n",
    "            if player['player_slot'] == 3:\n",
    "                radiant4.append(player['hero_id'])\n",
    "            if player['player_slot'] == 4:\n",
    "                radiant5.append(player['hero_id'])\n",
    "            if player['player_slot'] == 128:\n",
    "                dire1.append(player['hero_id'])\n",
    "            if player['player_slot'] == 129:\n",
    "                dire2.append(player['hero_id'])    \n",
    "            if player['player_slot'] == 130:\n",
    "                dire3.append(player['hero_id'])                \n",
    "            if player['player_slot'] == 131:\n",
    "                dire4.append(player['hero_id'])                \n",
    "            if player['player_slot'] == 132:\n",
    "                dire5.append(player['hero_id'])                \n",
    "        #endplayerloop    \n",
    "        radiantWin.append(match['result']['radiant_win'])\n",
    "        matchID.append(match['result']['match_id'])\n",
    "        matchLength.append(match['result']['duration'])\n",
    "        matchCounter.append(1)\n",
    "        gameStartTime.append(match['result']['start_time'])\n",
    "                \n",
    "    #construct dictionary to build data frame\n",
    "    referenceDict = {'Radiant 1': radiant1, 'Radiant 2': radiant2, 'Radiant 3': radiant3, 'Radiant 4': radiant4, 'Radiant 5': radiant5, 'Dire 1': dire1, 'Dire 2': dire2, 'Dire 3': dire3, 'Dire 4': dire4, 'Dire 5': dire5, 'Radiant Win Y/N': radiantWin, 'Match ID': matchID, 'Match Length (s)': matchLength, 'Match Counter': matchCounter, 'Game Start Time': gameStartTime}\n",
    "    dataFrameSummary = pd.DataFrame(data=referenceDict)\n",
    "\n",
    "    return dataFrameSummary"
   ]
  },
  {
   "cell_type": "code",
   "execution_count": null,
   "metadata": {
    "collapsed": true
   },
   "outputs": [],
   "source": [
    "def create_dota_dataframe(matchDetailsList):\n",
    "    \n",
    "    '''\n",
    "    Takes in list of match detail json strings and converts\n",
    "    into a pandas dataframe for easier statistical manipulation\n",
    "    \n",
    "    1 row per player (10 rows per match)\n",
    "    '''\n",
    "\n",
    "    playerID = []                 #initialize lists for stats of interest\n",
    "    playerSlot = []\n",
    "    playerKills = []\n",
    "    playerDeaths = []\n",
    "    playerAssists = []\n",
    "    playerGPM = []\n",
    "    playerXPM = []\n",
    "    playerHeroDamage = []\n",
    "    playerTowerDamage = []\n",
    "    playerLevel = []\n",
    "    playerHeroID = []\n",
    "    gameWonStatus = []\n",
    "    matchID = []\n",
    "    matchLength = []\n",
    "    matchCounter = []\n",
    "    gameStartTime = []\n",
    "    isRadiant = []\n",
    "\n",
    "    for match in matchDetailsList:    #construct lists\n",
    "        for player in match['result']['players']:\n",
    "            playerID.append(player['account_id'])\n",
    "            playerSlot.append(player['player_slot'])\n",
    "            playerKills.append(player['kills'])\n",
    "            playerDeaths.append(player['deaths'])\n",
    "            playerAssists.append(player['assists'])\n",
    "            playerGPM.append(player['gold_per_min'])\n",
    "            playerXPM.append(player['xp_per_min'])\n",
    "            playerHeroDamage.append(player['hero_damage'])\n",
    "            playerTowerDamage.append(player['tower_damage'])\n",
    "            playerLevel.append(player['level'])\n",
    "            playerHeroID.append(player['hero_id'])\n",
    "            if ((player['player_slot'] == 0) or (player['player_slot'] == 1) or (player['player_slot'] == 2) or (player['player_slot'] == 3) or (player['player_slot'] == 4)) and match['result']['radiant_win'] == True:\n",
    "                gameWonStatus.append(1)\n",
    "            elif ((player['player_slot'] == 128) or (player['player_slot'] == 129) or (player['player_slot'] == 130) or (player['player_slot'] == 131) or (player['player_slot'] == 132)) and match['result']['radiant_win'] == False:\n",
    "                gameWonStatus.append(1)\n",
    "            else:\n",
    "                gameWonStatus.append(0)\n",
    "            matchID.append(match['result']['match_id'])\n",
    "            matchLength.append(match['result']['duration'])\n",
    "            matchCounter.append(1)\n",
    "            gameStartTime.append(match['result']['start_time'])\n",
    "            if ((player['player_slot'] == 0) or (player['player_slot'] == 1) or (player['player_slot'] == 2) or (player['player_slot'] == 3) or (player['player_slot'] == 4)):\n",
    "                isRadiant.append(1)\n",
    "            else:\n",
    "                isRadiant.append(0)\n",
    "                \n",
    "    #construct dictionary to build data frame\n",
    "    referenceDict = {'Player ID': playerID, 'Player Slot': playerSlot, 'Kills': playerKills, 'Deaths': playerDeaths, 'Assists': playerAssists, 'GPM': playerGPM, 'XPM': playerXPM, 'Hero Damage': playerHeroDamage, 'Tower Damage': playerTowerDamage, 'Level': playerLevel, 'Hero ID': playerHeroID, 'Win Y/N': gameWonStatus, 'Match ID': matchID, 'Match Length (s)': matchLength, 'Match Counter': matchCounter, 'Game Start Time': gameStartTime, 'Radiant Y/N': isRadiant}\n",
    "    dataFrameSummary = pd.DataFrame(data=referenceDict)\n",
    "\n",
    "    return dataFrameSummary"
   ]
  },
  {
   "cell_type": "code",
   "execution_count": 2,
   "metadata": {
    "collapsed": false
   },
   "outputs": [],
   "source": [
    "with open('automatchdetails_copy.txt', 'r') as text:\n",
    "    dotaString = text.read()"
   ]
  },
  {
   "cell_type": "code",
   "execution_count": 6,
   "metadata": {
    "collapsed": false
   },
   "outputs": [],
   "source": [
    "dotaString4 = string.replace(dotaString, '][', ', ')"
   ]
  },
  {
   "cell_type": "code",
   "execution_count": 7,
   "metadata": {
    "collapsed": false
   },
   "outputs": [],
   "source": [
    "matchDetailsJSON = json.loads(dotaString4)"
   ]
  },
  {
   "cell_type": "code",
   "execution_count": 8,
   "metadata": {
    "collapsed": false
   },
   "outputs": [],
   "source": [
    "dotaFrame = create_dota_dataframe2(matchDetailsJSON)"
   ]
  },
  {
   "cell_type": "code",
   "execution_count": 9,
   "metadata": {
    "collapsed": false
   },
   "outputs": [],
   "source": [
    "dotaFrame2 = dotaFrame[dotaFrame['Match Length (s)']>599]"
   ]
  },
  {
   "cell_type": "code",
   "execution_count": 10,
   "metadata": {
    "collapsed": false
   },
   "outputs": [
    {
     "data": {
      "text/plain": [
       "11640"
      ]
     },
     "execution_count": 10,
     "metadata": {},
     "output_type": "execute_result"
    }
   ],
   "source": [
    "len(dotaFrame2)"
   ]
  },
  {
   "cell_type": "code",
   "execution_count": 11,
   "metadata": {
    "collapsed": false,
    "scrolled": true
   },
   "outputs": [
    {
     "data": {
      "text/html": [
       "<div>\n",
       "<table border=\"1\" class=\"dataframe\">\n",
       "  <thead>\n",
       "    <tr style=\"text-align: right;\">\n",
       "      <th></th>\n",
       "      <th>Dire 1</th>\n",
       "      <th>Dire 2</th>\n",
       "      <th>Dire 3</th>\n",
       "      <th>Dire 4</th>\n",
       "      <th>Dire 5</th>\n",
       "      <th>Game Start Time</th>\n",
       "      <th>Match Counter</th>\n",
       "      <th>Match ID</th>\n",
       "      <th>Match Length (s)</th>\n",
       "      <th>Radiant 1</th>\n",
       "      <th>Radiant 2</th>\n",
       "      <th>Radiant 3</th>\n",
       "      <th>Radiant 4</th>\n",
       "      <th>Radiant 5</th>\n",
       "      <th>Radiant Win Y/N</th>\n",
       "    </tr>\n",
       "  </thead>\n",
       "  <tbody>\n",
       "    <tr>\n",
       "      <th>3</th>\n",
       "      <td>91</td>\n",
       "      <td>74</td>\n",
       "      <td>48</td>\n",
       "      <td>38</td>\n",
       "      <td>101</td>\n",
       "      <td>1456544852</td>\n",
       "      <td>1</td>\n",
       "      <td>2181200057</td>\n",
       "      <td>663</td>\n",
       "      <td>6</td>\n",
       "      <td>46</td>\n",
       "      <td>25</td>\n",
       "      <td>30</td>\n",
       "      <td>14</td>\n",
       "      <td>True</td>\n",
       "    </tr>\n",
       "    <tr>\n",
       "      <th>7</th>\n",
       "      <td>86</td>\n",
       "      <td>18</td>\n",
       "      <td>26</td>\n",
       "      <td>39</td>\n",
       "      <td>22</td>\n",
       "      <td>1456544421</td>\n",
       "      <td>1</td>\n",
       "      <td>2181190470</td>\n",
       "      <td>808</td>\n",
       "      <td>67</td>\n",
       "      <td>74</td>\n",
       "      <td>62</td>\n",
       "      <td>5</td>\n",
       "      <td>80</td>\n",
       "      <td>True</td>\n",
       "    </tr>\n",
       "    <tr>\n",
       "      <th>8</th>\n",
       "      <td>45</td>\n",
       "      <td>65</td>\n",
       "      <td>48</td>\n",
       "      <td>7</td>\n",
       "      <td>21</td>\n",
       "      <td>1456544292</td>\n",
       "      <td>1</td>\n",
       "      <td>2181187238</td>\n",
       "      <td>1158</td>\n",
       "      <td>58</td>\n",
       "      <td>27</td>\n",
       "      <td>67</td>\n",
       "      <td>16</td>\n",
       "      <td>42</td>\n",
       "      <td>True</td>\n",
       "    </tr>\n",
       "    <tr>\n",
       "      <th>11</th>\n",
       "      <td>36</td>\n",
       "      <td>50</td>\n",
       "      <td>80</td>\n",
       "      <td>74</td>\n",
       "      <td>104</td>\n",
       "      <td>1456544116</td>\n",
       "      <td>1</td>\n",
       "      <td>2181182895</td>\n",
       "      <td>1158</td>\n",
       "      <td>17</td>\n",
       "      <td>110</td>\n",
       "      <td>42</td>\n",
       "      <td>107</td>\n",
       "      <td>12</td>\n",
       "      <td>False</td>\n",
       "    </tr>\n",
       "    <tr>\n",
       "      <th>12</th>\n",
       "      <td>38</td>\n",
       "      <td>8</td>\n",
       "      <td>36</td>\n",
       "      <td>76</td>\n",
       "      <td>70</td>\n",
       "      <td>1456544048</td>\n",
       "      <td>1</td>\n",
       "      <td>2181181266</td>\n",
       "      <td>1489</td>\n",
       "      <td>104</td>\n",
       "      <td>11</td>\n",
       "      <td>63</td>\n",
       "      <td>6</td>\n",
       "      <td>7</td>\n",
       "      <td>True</td>\n",
       "    </tr>\n",
       "    <tr>\n",
       "      <th>13</th>\n",
       "      <td>67</td>\n",
       "      <td>7</td>\n",
       "      <td>22</td>\n",
       "      <td>53</td>\n",
       "      <td>82</td>\n",
       "      <td>1456544061</td>\n",
       "      <td>1</td>\n",
       "      <td>2181181243</td>\n",
       "      <td>1385</td>\n",
       "      <td>58</td>\n",
       "      <td>70</td>\n",
       "      <td>28</td>\n",
       "      <td>74</td>\n",
       "      <td>81</td>\n",
       "      <td>False</td>\n",
       "    </tr>\n",
       "    <tr>\n",
       "      <th>14</th>\n",
       "      <td>86</td>\n",
       "      <td>47</td>\n",
       "      <td>8</td>\n",
       "      <td>57</td>\n",
       "      <td>76</td>\n",
       "      <td>1456544014</td>\n",
       "      <td>1</td>\n",
       "      <td>2181180151</td>\n",
       "      <td>1277</td>\n",
       "      <td>69</td>\n",
       "      <td>22</td>\n",
       "      <td>79</td>\n",
       "      <td>88</td>\n",
       "      <td>1</td>\n",
       "      <td>False</td>\n",
       "    </tr>\n",
       "    <tr>\n",
       "      <th>15</th>\n",
       "      <td>100</td>\n",
       "      <td>74</td>\n",
       "      <td>4</td>\n",
       "      <td>22</td>\n",
       "      <td>12</td>\n",
       "      <td>1456544005</td>\n",
       "      <td>1</td>\n",
       "      <td>2181180102</td>\n",
       "      <td>1179</td>\n",
       "      <td>53</td>\n",
       "      <td>110</td>\n",
       "      <td>106</td>\n",
       "      <td>28</td>\n",
       "      <td>35</td>\n",
       "      <td>True</td>\n",
       "    </tr>\n",
       "    <tr>\n",
       "      <th>16</th>\n",
       "      <td>30</td>\n",
       "      <td>7</td>\n",
       "      <td>106</td>\n",
       "      <td>22</td>\n",
       "      <td>93</td>\n",
       "      <td>1456544010</td>\n",
       "      <td>1</td>\n",
       "      <td>2181179927</td>\n",
       "      <td>1349</td>\n",
       "      <td>64</td>\n",
       "      <td>67</td>\n",
       "      <td>33</td>\n",
       "      <td>46</td>\n",
       "      <td>58</td>\n",
       "      <td>True</td>\n",
       "    </tr>\n",
       "    <tr>\n",
       "      <th>17</th>\n",
       "      <td>76</td>\n",
       "      <td>53</td>\n",
       "      <td>57</td>\n",
       "      <td>8</td>\n",
       "      <td>97</td>\n",
       "      <td>1456544008</td>\n",
       "      <td>1</td>\n",
       "      <td>2181179838</td>\n",
       "      <td>961</td>\n",
       "      <td>74</td>\n",
       "      <td>18</td>\n",
       "      <td>80</td>\n",
       "      <td>71</td>\n",
       "      <td>7</td>\n",
       "      <td>False</td>\n",
       "    </tr>\n",
       "  </tbody>\n",
       "</table>\n",
       "</div>"
      ],
      "text/plain": [
       "    Dire 1  Dire 2  Dire 3  Dire 4  Dire 5  Game Start Time  Match Counter  \\\n",
       "3       91      74      48      38     101       1456544852              1   \n",
       "7       86      18      26      39      22       1456544421              1   \n",
       "8       45      65      48       7      21       1456544292              1   \n",
       "11      36      50      80      74     104       1456544116              1   \n",
       "12      38       8      36      76      70       1456544048              1   \n",
       "13      67       7      22      53      82       1456544061              1   \n",
       "14      86      47       8      57      76       1456544014              1   \n",
       "15     100      74       4      22      12       1456544005              1   \n",
       "16      30       7     106      22      93       1456544010              1   \n",
       "17      76      53      57       8      97       1456544008              1   \n",
       "\n",
       "      Match ID  Match Length (s)  Radiant 1  Radiant 2  Radiant 3  Radiant 4  \\\n",
       "3   2181200057               663          6         46         25         30   \n",
       "7   2181190470               808         67         74         62          5   \n",
       "8   2181187238              1158         58         27         67         16   \n",
       "11  2181182895              1158         17        110         42        107   \n",
       "12  2181181266              1489        104         11         63          6   \n",
       "13  2181181243              1385         58         70         28         74   \n",
       "14  2181180151              1277         69         22         79         88   \n",
       "15  2181180102              1179         53        110        106         28   \n",
       "16  2181179927              1349         64         67         33         46   \n",
       "17  2181179838               961         74         18         80         71   \n",
       "\n",
       "    Radiant 5 Radiant Win Y/N  \n",
       "3          14            True  \n",
       "7          80            True  \n",
       "8          42            True  \n",
       "11         12           False  \n",
       "12          7            True  \n",
       "13         81           False  \n",
       "14          1           False  \n",
       "15         35            True  \n",
       "16         58            True  \n",
       "17          7           False  "
      ]
     },
     "execution_count": 11,
     "metadata": {},
     "output_type": "execute_result"
    }
   ],
   "source": [
    "dotaFrame2.head(10)"
   ]
  },
  {
   "cell_type": "code",
   "execution_count": 12,
   "metadata": {
    "collapsed": false
   },
   "outputs": [],
   "source": [
    "def getWinRateArray(dataFrame):\n",
    "    \n",
    "    heroIDs = range(0,114)\n",
    "    heroIDs.remove(24)\n",
    "    heroIDs.remove(108)\n",
    "    \n",
    "    heroIDLength = 114\n",
    "    thirdDimLength = 2\n",
    "    \n",
    "    numberMatchesAndWins = [[[0 for k in xrange(2)] for j in xrange(114)] for i in xrange(114)]\n",
    "    winRateArray = [[0 for j in xrange(114)] for i in xrange(114)]\n",
    "    matchCountArray = [[0 for j in xrange(114)] for i in xrange(114)]\n",
    "    \n",
    "    for index, row in dataFrame.iterrows():\n",
    "        \n",
    "        radiantHeroList = [row['Radiant 1'], row['Radiant 2'], row['Radiant 3'], row['Radiant 4'], row['Radiant 5']]\n",
    "        direHeroList = [row['Dire 1'], row['Dire 2'], row['Dire 3'], row['Dire 4'], row['Dire 5']]\n",
    "        \n",
    "        for hero in radiantHeroList:\n",
    "            for hero2 in radiantHeroList:\n",
    "                numberMatchesAndWins[int(hero)][int(hero2)][0] = numberMatchesAndWins[int(hero)][int(hero2)][0] + 1    #number of matches for hero-pair\n",
    "                if row['Radiant Win Y/N'] == True:   \n",
    "                    numberMatchesAndWins[int(hero)][int(hero2)][1] = numberMatchesAndWins[int(hero)][int(hero2)][1] + 1    #number of wins for hero-pair\n",
    "                    \n",
    "        for hero in direHeroList:\n",
    "            for hero2 in direHeroList:\n",
    "                numberMatchesAndWins[int(hero)][int(hero2)][0] = numberMatchesAndWins[int(hero)][int(hero2)][0] + 1    #number of matches for hero-pair\n",
    "                if row['Radiant Win Y/N'] == False:\n",
    "                    numberMatchesAndWins[int(hero)][int(hero2)][1] = numberMatchesAndWins[int(hero)][int(hero2)][1] + 1    #number of wins for hero-pair        \n",
    "    \n",
    "    for i in heroIDs:\n",
    "        for j in heroIDs:\n",
    "            if numberMatchesAndWins[i][j][0] != 0:\n",
    "                winRateArray[i][j] = numberMatchesAndWins[i][j][1]/numberMatchesAndWins[i][j][0]\n",
    "            else:\n",
    "                winRateArray[i][j] = -1\n",
    "            \n",
    "            matchCountArray[i][j] = numberMatchesAndWins[i][j][0]\n",
    "                \n",
    "    return winRateArray, matchCountArray"
   ]
  },
  {
   "cell_type": "code",
   "execution_count": 13,
   "metadata": {
    "collapsed": false,
    "scrolled": true
   },
   "outputs": [],
   "source": [
    "wrArray, mcArray = getWinRateArray(dotaFrame2)"
   ]
  },
  {
   "cell_type": "code",
   "execution_count": 14,
   "metadata": {
    "collapsed": false
   },
   "outputs": [],
   "source": [
    "def getSynergyFactor(teamHeroArray, winRateArray, matchCountArray):\n",
    "    \n",
    "    synergyNumerator = 0\n",
    "    synergyDivider = 0\n",
    "    \n",
    "    for hero in teamHeroArray:\n",
    "        for hero2 in teamHeroArray:\n",
    "            synergyNumerator = synergyNumerator + winRateArray[hero][hero2]*math.log(matchCountArray[hero][hero2])\n",
    "            synergyDivider = synergyDivider + math.log(matchCountArray[hero][hero2])\n",
    "    \n",
    "    synergyFactor = synergyNumerator/synergyDivider\n",
    "    \n",
    "    return synergyFactor"
   ]
  },
  {
   "cell_type": "code",
   "execution_count": 15,
   "metadata": {
    "collapsed": false
   },
   "outputs": [],
   "source": [
    "def predictWinRate(testDataFrame, winRateArray, matchCountArray):\n",
    "\n",
    "    numberPredictions = 0\n",
    "    correctPredictions = 0\n",
    "    highestSynergyFactor = 0\n",
    "    highestSynergyFactorTeam = [0,0,0,0,0]\n",
    "    \n",
    "    for index, row in testDataFrame.iterrows():\n",
    "        \n",
    "        radiantHeroList = [row['Radiant 1'], row['Radiant 2'], row['Radiant 3'], row['Radiant 4'], row['Radiant 5']]\n",
    "        direHeroList = [row['Dire 1'], row['Dire 2'], row['Dire 3'], row['Dire 4'], row['Dire 5']]\n",
    "        \n",
    "        radiantSynergy = getSynergyFactor(radiantHeroList, winRateArray, matchCountArray)\n",
    "        direSynergy = getSynergyFactor(direHeroList, winRateArray, matchCountArray)\n",
    "        \n",
    "        if radiantSynergy > direSynergy:\n",
    "            predictedRadiantWin = 1\n",
    "            if radiantSynergy > highestSynergyFactor:\n",
    "                highestSynergyFactor = radiantSynergy\n",
    "                highestSynergyFactorTeam = radiantHeroList\n",
    "        elif direSynergy > radiantSynergy:\n",
    "            predictedRadiantWin = 0\n",
    "            if direSynergy > highestSynergyFactor:\n",
    "                highestSynergyFactor = radiantSynergy\n",
    "                highestSynergyFactorTeam = radiantHeroList                \n",
    "        else:\n",
    "            predictedRadiantWin = 0.5\n",
    "            print(\"Equal synergies???????\")\n",
    "    \n",
    "            \n",
    "        if predictedRadiantWin == 1:\n",
    "            if row['Radiant Win Y/N'] == True:\n",
    "                correctPredictions = correctPredictions + 1\n",
    "        \n",
    "        if predictedRadiantWin == 0:\n",
    "            if row['Radiant Win Y/N'] == False:\n",
    "                correctPredictions = correctPredictions + 1\n",
    "                \n",
    "        numberPredictions = numberPredictions + 1\n",
    "        \n",
    "    percentCorrect = correctPredictions/numberPredictions\n",
    "    \n",
    "    print(\"Percentage correct predictions: %s\") %(percentCorrect)\n",
    "    print(\"Highest synergy factor: %s, team: %s\") %(highestSynergyFactor, highestSynergyFactorTeam)\n",
    "    \n",
    "    return percentCorrect"
   ]
  },
  {
   "cell_type": "code",
   "execution_count": 16,
   "metadata": {
    "collapsed": false
   },
   "outputs": [
    {
     "name": "stdout",
     "output_type": "stream",
     "text": [
      "Percentage correct predictions: 0.711512027491\n",
      "Highest synergy factor: 0.670101166014, team: [48L, 102L, 53L, 30L, 20L]\n"
     ]
    },
    {
     "data": {
      "text/plain": [
       "0.711512027491409"
      ]
     },
     "execution_count": 16,
     "metadata": {},
     "output_type": "execute_result"
    }
   ],
   "source": [
    "predictWinRate(dotaFrame2, wrArray, mcArray)"
   ]
  },
  {
   "cell_type": "code",
   "execution_count": 23,
   "metadata": {
    "collapsed": false
   },
   "outputs": [],
   "source": [
    "def getWinRateOpposingTeamArray(dataFrame):\n",
    "    \n",
    "    heroIDs = range(0,114)\n",
    "    heroIDs.remove(24)\n",
    "    heroIDs.remove(108)\n",
    "    \n",
    "    heroIDLength = 114\n",
    "    thirdDimLength = 2\n",
    "    \n",
    "    numberMatchesAndWins = [[[0 for k in xrange(2)] for j in xrange(114)] for i in xrange(114)]\n",
    "    winRateArray = [[0 for j in xrange(114)] for i in xrange(114)]\n",
    "    matchCountArray = [[0 for j in xrange(114)] for i in xrange(114)]\n",
    "    \n",
    "    for index, row in dataFrame.iterrows():\n",
    "        \n",
    "        radiantHeroList = [row['Radiant 1'], row['Radiant 2'], row['Radiant 3'], row['Radiant 4'], row['Radiant 5']]\n",
    "        direHeroList = [row['Dire 1'], row['Dire 2'], row['Dire 3'], row['Dire 4'], row['Dire 5']]\n",
    "        \n",
    "        for hero in radiantHeroList:\n",
    "            for hero2 in direHeroList:\n",
    "                numberMatchesAndWins[int(hero)][int(hero2)][0] = numberMatchesAndWins[int(hero)][int(hero2)][0] + 1    #number of matches for hero-pair\n",
    "                if row['Radiant Win Y/N'] == True:   \n",
    "                    numberMatchesAndWins[int(hero)][int(hero2)][1] = numberMatchesAndWins[int(hero)][int(hero2)][1] + 1    #number of wins for hero-pair\n",
    "                    \n",
    "        for hero in direHeroList:\n",
    "            for hero2 in radiantHeroList:\n",
    "                numberMatchesAndWins[int(hero)][int(hero2)][0] = numberMatchesAndWins[int(hero)][int(hero2)][0] + 1    #number of matches for hero-pair\n",
    "                if row['Radiant Win Y/N'] == False:\n",
    "                    numberMatchesAndWins[int(hero)][int(hero2)][1] = numberMatchesAndWins[int(hero)][int(hero2)][1] + 1    #number of wins for hero-pair        \n",
    "    \n",
    "    for i in heroIDs:\n",
    "        for j in heroIDs:\n",
    "            if numberMatchesAndWins[i][j][0] != 0:\n",
    "                winRateArray[i][j] = numberMatchesAndWins[i][j][1]/numberMatchesAndWins[i][j][0]\n",
    "            else:\n",
    "                winRateArray[i][j] = -1\n",
    "            \n",
    "            matchCountArray[i][j] = numberMatchesAndWins[i][j][0]\n",
    "                \n",
    "    return winRateArray, matchCountArray\n",
    "\n",
    "    #winRateArray returns an array where for winRateArray[hero1][hero2], reports the percentage of the time hero1 *beats* hero2"
   ]
  },
  {
   "cell_type": "code",
   "execution_count": 24,
   "metadata": {
    "collapsed": true
   },
   "outputs": [],
   "source": [
    "wrArray2, mcArray2 = getWinRateOpposingTeamArray(dotaFrame2)"
   ]
  },
  {
   "cell_type": "code",
   "execution_count": 37,
   "metadata": {
    "collapsed": false
   },
   "outputs": [],
   "source": [
    "def getAdvantageFactor(radHeroArray, direHeroArray, wrArray, mcArray, wrOpposingTeamArray, mcOpposingTeamArray):\n",
    "    \n",
    "    '''\n",
    "    Takes in input arrays and returns a value that decides the advantage that the Radiant team\n",
    "    has based on how their heroes have fared against Dire heroes in past games.\n",
    "    \n",
    "    \n",
    "    \n",
    "    '''\n",
    "    advantageNumerator = 0\n",
    "    advantageDivider = 0\n",
    "    \n",
    "    for rad in radHeroArray:\n",
    "        for dire in direHeroArray:\n",
    "            wrDiff = wrOpposingTeamArray[rad][dire] - (wrArray[rad][rad] - wrArray[dire][dire])\n",
    "            advantageNumerator = advantageNumerator + wrDiff*math.log(mcOpposingTeamArray[rad][dire])\n",
    "            advantageDivider = advantageDivider + math.log(mcOpposingTeamArray[rad][dire])\n",
    "    \n",
    "    advantageFactor = advantageNumerator/advantageDivider\n",
    "    \n",
    "    return advantageFactor"
   ]
  },
  {
   "cell_type": "code",
   "execution_count": null,
   "metadata": {
    "collapsed": false
   },
   "outputs": [],
   "source": []
  },
  {
   "cell_type": "code",
   "execution_count": null,
   "metadata": {
    "collapsed": true
   },
   "outputs": [],
   "source": []
  },
  {
   "cell_type": "code",
   "execution_count": null,
   "metadata": {
    "collapsed": false
   },
   "outputs": [],
   "source": []
  },
  {
   "cell_type": "code",
   "execution_count": 44,
   "metadata": {
    "collapsed": true
   },
   "outputs": [],
   "source": [
    "def predictWinRate2(testDataFrame, winRateArray, matchCountArray, winRateOpposingTeamArray, matchCountOpposingTeamArray):\n",
    "\n",
    "    numberPredictions = 0\n",
    "    correctPredictions = 0\n",
    "\n",
    "    \n",
    "    for index, row in testDataFrame.iterrows():\n",
    "        \n",
    "        radiantHeroList = [row['Radiant 1'], row['Radiant 2'], row['Radiant 3'], row['Radiant 4'], row['Radiant 5']]\n",
    "        direHeroList = [row['Dire 1'], row['Dire 2'], row['Dire 3'], row['Dire 4'], row['Dire 5']]\n",
    "     \n",
    "        radiantSynergy = getSynergyFactor(radiantHeroList, winRateArray, matchCountArray)\n",
    "        radiantAdvantage = getAdvantageFactor(radiantHeroList, direHeroList, winRateArray, matchCountArray, winRateOpposingTeamArray, matchCountOpposingTeamArray)\n",
    "        direSynergy = getSynergyFactor(direHeroList, winRateArray, matchCountArray)\n",
    "        direAdvantage = 1-radiantAdvantage\n",
    "        \n",
    "        if radiantSynergy*radiantAdvantage > direSynergy*direAdvantage:\n",
    "            predictedRadiantWin = 1\n",
    "\n",
    "        elif direSynergy*direAdvantage > radiantSynergy*radiantAdvantage:\n",
    "            predictedRadiantWin = 0\n",
    "        \n",
    "        else:\n",
    "            predictedRadiantWin = 0.5\n",
    "            print(\"Equal synergies???????\")\n",
    "    \n",
    "            \n",
    "        if predictedRadiantWin == 1:\n",
    "            if row['Radiant Win Y/N'] == True:\n",
    "                correctPredictions = correctPredictions + 1\n",
    "        \n",
    "        if predictedRadiantWin == 0:\n",
    "            if row['Radiant Win Y/N'] == False:\n",
    "                correctPredictions = correctPredictions + 1\n",
    "                \n",
    "        numberPredictions = numberPredictions + 1\n",
    "        \n",
    "    percentCorrect = correctPredictions/numberPredictions\n",
    "    \n",
    "    print(\"Percentage correct predictions: %s\") %(percentCorrect)\n",
    "    \n",
    "    return percentCorrect"
   ]
  },
  {
   "cell_type": "code",
   "execution_count": 45,
   "metadata": {
    "collapsed": false
   },
   "outputs": [
    {
     "name": "stdout",
     "output_type": "stream",
     "text": [
      "Percentage correct predictions: 0.782903780069\n"
     ]
    },
    {
     "data": {
      "text/plain": [
       "0.7829037800687285"
      ]
     },
     "execution_count": 45,
     "metadata": {},
     "output_type": "execute_result"
    }
   ],
   "source": [
    "predictWinRate2(dotaFrame2, wrArray, mcArray, wrArray2, mcArray2)"
   ]
  },
  {
   "cell_type": "code",
   "execution_count": null,
   "metadata": {
    "collapsed": true
   },
   "outputs": [],
   "source": []
  }
 ],
 "metadata": {
  "kernelspec": {
   "display_name": "Python 2",
   "language": "python",
   "name": "python2"
  },
  "language_info": {
   "codemirror_mode": {
    "name": "ipython",
    "version": 2
   },
   "file_extension": ".py",
   "mimetype": "text/x-python",
   "name": "python",
   "nbconvert_exporter": "python",
   "pygments_lexer": "ipython2",
   "version": "2.7.9"
  }
 },
 "nbformat": 4,
 "nbformat_minor": 0
}
